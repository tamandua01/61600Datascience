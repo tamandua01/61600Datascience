{
 "cells": [
  {
   "cell_type": "markdown",
   "metadata": {
    "id": "SXKgdl5FCFsO"
   },
   "source": [
    "# Abstract"
   ]
  },
  {
   "cell_type": "markdown",
   "metadata": {
    "id": "GR5eh1xyoUS2"
   },
   "source": [
    "Inspiradonme en los siguientes dataset y fuentes, quise aprovechar la bases de datos, para realizar un proyecto similar pero con Cancer.\n",
    "\n",
    "https://www.kaggle.com/datasets/cdc/behavioral-risk-factor-surveillance-system\n",
    "https://www.kaggle.com/code/alexteboul/heart-disease-health-indicators-dataset-notebook\n",
    "https://www.kaggle.com/datasets/alexteboul/heart-disease-health-indicators-dataset/data\n",
    "\n",
    "Para eso utilice la fuente mas actual: https://www.cdc.gov/brfss/annual_data/annual_2022.html\n",
    "\n",
    "La idea es realizar un dataset y luego poder aplicarle diferentes algoritmos,e intentar de hacer un modelo predictivo de Cancer.\n",
    "\n",
    "\n",
    "\n"
   ]
  },
  {
   "cell_type": "markdown",
   "metadata": {
    "id": "tkKUgwqALl3A"
   },
   "source": [
    "# Instalación y  importacion de librerias"
   ]
  },
  {
   "cell_type": "code",
   "execution_count": 56,
   "metadata": {
    "colab": {
     "base_uri": "https://localhost:8080/"
    },
    "id": "hf7hI1y_bzyV",
    "outputId": "582b5d23-4447-4581-c41b-f5b8d3373df3"
   },
   "outputs": [
    {
     "name": "stdout",
     "output_type": "stream",
     "text": [
      "Requirement already satisfied: pyreadstat in c:\\users\\matias\\appdata\\local\\programs\\python\\python310\\lib\\site-packages (1.2.7)\n",
      "Requirement already satisfied: pandas>=1.2.0 in c:\\users\\matias\\appdata\\local\\programs\\python\\python310\\lib\\site-packages (from pyreadstat) (2.2.2)\n",
      "Requirement already satisfied: numpy>=1.22.4 in c:\\users\\matias\\appdata\\local\\programs\\python\\python310\\lib\\site-packages (from pandas>=1.2.0->pyreadstat) (1.25.0)\n",
      "Requirement already satisfied: python-dateutil>=2.8.2 in c:\\users\\matias\\appdata\\local\\programs\\python\\python310\\lib\\site-packages (from pandas>=1.2.0->pyreadstat) (2.8.2)\n",
      "Requirement already satisfied: pytz>=2020.1 in c:\\users\\matias\\appdata\\local\\programs\\python\\python310\\lib\\site-packages (from pandas>=1.2.0->pyreadstat) (2024.1)\n",
      "Requirement already satisfied: tzdata>=2022.7 in c:\\users\\matias\\appdata\\local\\programs\\python\\python310\\lib\\site-packages (from pandas>=1.2.0->pyreadstat) (2024.1)\n",
      "Requirement already satisfied: six>=1.5 in c:\\users\\matias\\appdata\\local\\programs\\python\\python310\\lib\\site-packages (from python-dateutil>=2.8.2->pandas>=1.2.0->pyreadstat) (1.16.0)\n"
     ]
    },
    {
     "name": "stderr",
     "output_type": "stream",
     "text": [
      "\n",
      "[notice] A new release of pip is available: 24.1.1 -> 24.2\n",
      "[notice] To update, run: python.exe -m pip install --upgrade pip\n"
     ]
    }
   ],
   "source": [
    "!pip install pyreadstat"
   ]
  },
  {
   "cell_type": "code",
   "execution_count": 57,
   "metadata": {
    "id": "UTjI0yX8ZVpB"
   },
   "outputs": [],
   "source": [
    "import requests\n",
    "import re\n",
    "import zipfile\n",
    "import os\n",
    "from urllib.parse import urlsplit\n",
    "import numpy as np\n",
    "import pandas as pd\n",
    "import glob\n",
    "import pyreadstat\n",
    "import seaborn as sns\n",
    "import matplotlib.pyplot as plt\n",
    "import plotly.express as px\n",
    "from sklearn.preprocessing import StandardScaler\n",
    "from sklearn.preprocessing import LabelEncoder\n",
    "from sklearn.model_selection import train_test_split\n",
    "from sklearn.metrics import r2_score\n"
   ]
  },
  {
   "cell_type": "markdown",
   "metadata": {
    "id": "g8DAnrkNL-PI"
   },
   "source": [
    "# Creacion del Data Frame"
   ]
  },
  {
   "cell_type": "code",
   "execution_count": 58,
   "metadata": {
    "colab": {
     "base_uri": "https://localhost:8080/"
    },
    "id": "MNrdaqXTZZkf",
    "outputId": "2ed5d4be-ed68-4695-b63e-75d128fcb356"
   },
   "outputs": [
    {
     "name": "stdout",
     "output_type": "stream",
     "text": [
      "Archivo descargado y guardado como LLCP2022XPT.zip.\n",
      "Archivo ZIP descomprimido en extraido/.\n"
     ]
    }
   ],
   "source": [
    "# URL del archivo CSV\n",
    "url = 'https://www.cdc.gov/brfss/annual_data/2022/files/LLCP2022XPT.zip'\n",
    "\n",
    "# Realizar la solicitud GET\n",
    "response = requests.get(url, allow_redirects=True)\n",
    "\n",
    "# Intentar obtener el nombre del archivo desde el encabezado Content-Disposition\n",
    "content_disposition = response.headers.get('Content-Disposition')\n",
    "if content_disposition:\n",
    "    filename = re.findall('filename=\"(.+)\"', content_disposition)\n",
    "    if filename:\n",
    "        filename = filename[0]\n",
    "    else:\n",
    "        # Si no se encuentra el nombre en Content-Disposition, usar el último segmento de la URL\n",
    "        filename = urlsplit(url).path.split('/')[-1]\n",
    "else:\n",
    "    # Si no hay encabezado Content-Disposition, usar el último segmento de la URL\n",
    "    filename = urlsplit(url).path.split('/')[-1]\n",
    "\n",
    "# Descargar y guardar el archivo\n",
    "with open(filename, 'wb') as file:\n",
    "    file.write(response.content)\n",
    "\n",
    "print(f\"Archivo descargado y guardado como {filename}.\")\n",
    "\n",
    "# Directorio donde se extraerán los archivos\n",
    "extract_dir = 'extraido/'\n",
    "\n",
    "# Crear el directorio si no existe\n",
    "os.makedirs(extract_dir, exist_ok=True)\n",
    "\n",
    "# Descomprimir el archivo ZIP usando el nombre obtenido automáticamente\n",
    "with zipfile.ZipFile(filename, 'r') as zip_ref:\n",
    "    zip_ref.extractall(extract_dir)\n",
    "\n",
    "print(f\"Archivo ZIP descomprimido en {extract_dir}.\")\n",
    "\n"
   ]
  },
  {
   "cell_type": "code",
   "execution_count": 59,
   "metadata": {
    "colab": {
     "base_uri": "https://localhost:8080/"
    },
    "id": "kJ2Ib-6nebAA",
    "outputId": "792ddf55-2eb9-478d-f53b-9d437be73d64"
   },
   "outputs": [
    {
     "name": "stdout",
     "output_type": "stream",
     "text": [
      "Archivos en el directorio 'extraido/': ['LLCP2022.csv', 'LLCP2022.XPT']\n"
     ]
    }
   ],
   "source": [
    "extract_dir = 'extraido/'  # Asegúrate de que esta ruta sea correcta\n",
    "\n",
    "# Listar todos los archivos en el directorio\n",
    "archivos = os.listdir(extract_dir)\n",
    "print(f\"Archivos en el directorio '{extract_dir}': {archivos}\")"
   ]
  },
  {
   "cell_type": "code",
   "execution_count": 60,
   "metadata": {
    "colab": {
     "base_uri": "https://localhost:8080/"
    },
    "id": "_jlhojf4eh8O",
    "outputId": "6b9c0573-d1c3-4abf-b9c5-4aefdce66bf9"
   },
   "outputs": [
    {
     "name": "stdout",
     "output_type": "stream",
     "text": [
      "Archivos en el directorio 'extraido/' después de limpiar: ['LLCP2022.csv', 'LLCP2022.XPT']\n"
     ]
    }
   ],
   "source": [
    "# Listar y limpiar nombres de archivos en el directorio\n",
    "archivos = os.listdir(extract_dir)\n",
    "for archivo in archivos:\n",
    "    archivo_limpio = archivo.strip()  # Eliminar espacios en blanco al inicio y final\n",
    "    if archivo != archivo_limpio:\n",
    "        os.rename(os.path.join(extract_dir, archivo), os.path.join(extract_dir, archivo_limpio))\n",
    "        print(f\"Renombrado: '{archivo}' a '{archivo_limpio}'\")\n",
    "\n",
    "# Verificar que los archivos hayan sido renombrados correctamente\n",
    "archivos_limpios = os.listdir(extract_dir)\n",
    "print(f\"Archivos en el directorio '{extract_dir}' después de limpiar: {archivos_limpios}\")\n"
   ]
  },
  {
   "cell_type": "code",
   "execution_count": 61,
   "metadata": {
    "colab": {
     "base_uri": "https://localhost:8080/"
    },
    "id": "0mXCJHO0btEI",
    "outputId": "c87e28ac-3563-4632-fd27-2361263cbe49"
   },
   "outputs": [
    {
     "name": "stdout",
     "output_type": "stream",
     "text": [
      "Archivos .XPT encontrados: ['extraido\\\\LLCP2022.XPT']\n"
     ]
    }
   ],
   "source": [
    "# Directorio donde se extrajeron los archivos\n",
    "extract_dir = 'extraido/'\n",
    "\n",
    "# Buscar archivos .XPT en el directorio extraído\n",
    "xpt_files = glob.glob(os.path.join(extract_dir, '*.XPT'))\n",
    "\n",
    "# Verificar si se encontraron archivos .XPT\n",
    "if xpt_files:\n",
    "    print(f\"Archivos .XPT encontrados: {xpt_files}\")\n",
    "\n",
    "\n",
    "else:\n",
    "    print(\"No se encontraron archivos .XPT en el directorio extraído.\")\n",
    "\n",
    "\n"
   ]
  },
  {
   "cell_type": "code",
   "execution_count": 62,
   "metadata": {
    "colab": {
     "base_uri": "https://localhost:8080/"
    },
    "id": "lyBNv71IhNoo",
    "outputId": "6dae8f2d-c249-439e-9998-d2593d0b2d1c"
   },
   "outputs": [
    {
     "ename": "KeyboardInterrupt",
     "evalue": "",
     "output_type": "error",
     "traceback": [
      "\u001b[1;31m---------------------------------------------------------------------------\u001b[0m",
      "\u001b[1;31mKeyboardInterrupt\u001b[0m                         Traceback (most recent call last)",
      "Cell \u001b[1;32mIn[62], line 3\u001b[0m\n\u001b[0;32m      1\u001b[0m \u001b[38;5;66;03m# Intentar leer el archivo .XPT directamente con pandas\u001b[39;00m\n\u001b[0;32m      2\u001b[0m \u001b[38;5;28;01mtry\u001b[39;00m:\n\u001b[1;32m----> 3\u001b[0m     df \u001b[38;5;241m=\u001b[39m \u001b[43mpd\u001b[49m\u001b[38;5;241;43m.\u001b[39;49m\u001b[43mread_sas\u001b[49m\u001b[43m(\u001b[49m\u001b[38;5;124;43m'\u001b[39;49m\u001b[38;5;124;43mextraido/LLCP2022.XPT\u001b[39;49m\u001b[38;5;124;43m'\u001b[39;49m\u001b[43m,\u001b[49m\u001b[43m \u001b[49m\u001b[38;5;28;43mformat\u001b[39;49m\u001b[38;5;241;43m=\u001b[39;49m\u001b[38;5;124;43m'\u001b[39;49m\u001b[38;5;124;43mxport\u001b[39;49m\u001b[38;5;124;43m'\u001b[39;49m\u001b[43m,\u001b[49m\u001b[43m \u001b[49m\u001b[43mencoding\u001b[49m\u001b[38;5;241;43m=\u001b[39;49m\u001b[38;5;124;43m'\u001b[39;49m\u001b[38;5;124;43mlatin1\u001b[39;49m\u001b[38;5;124;43m'\u001b[39;49m\u001b[43m)\u001b[49m  \u001b[38;5;66;03m# Intenta con 'latin1'\u001b[39;00m\n\u001b[0;32m      4\u001b[0m     csv_file \u001b[38;5;241m=\u001b[39m \u001b[38;5;124m'\u001b[39m\u001b[38;5;124mextraido/LLCP2022.csv\u001b[39m\u001b[38;5;124m'\u001b[39m\n\u001b[0;32m      5\u001b[0m     df\u001b[38;5;241m.\u001b[39mto_csv(csv_file, index\u001b[38;5;241m=\u001b[39m\u001b[38;5;28;01mFalse\u001b[39;00m)\n",
      "File \u001b[1;32m~\\miniconda3\\lib\\site-packages\\pandas\\io\\sas\\sasreader.py:178\u001b[0m, in \u001b[0;36mread_sas\u001b[1;34m(filepath_or_buffer, format, index, encoding, chunksize, iterator, compression)\u001b[0m\n\u001b[0;32m    175\u001b[0m     \u001b[38;5;28;01mreturn\u001b[39;00m reader\n\u001b[0;32m    177\u001b[0m \u001b[38;5;28;01mwith\u001b[39;00m reader:\n\u001b[1;32m--> 178\u001b[0m     \u001b[38;5;28;01mreturn\u001b[39;00m \u001b[43mreader\u001b[49m\u001b[38;5;241;43m.\u001b[39;49m\u001b[43mread\u001b[49m\u001b[43m(\u001b[49m\u001b[43m)\u001b[49m\n",
      "File \u001b[1;32m~\\miniconda3\\lib\\site-packages\\pandas\\io\\sas\\sas_xport.py:490\u001b[0m, in \u001b[0;36mXportReader.read\u001b[1;34m(self, nrows)\u001b[0m\n\u001b[0;32m    488\u001b[0m     vec \u001b[38;5;241m=\u001b[39m _handle_truncated_float_vec(vec, \u001b[38;5;28mself\u001b[39m\u001b[38;5;241m.\u001b[39mfields[j][\u001b[38;5;124m\"\u001b[39m\u001b[38;5;124mfield_length\u001b[39m\u001b[38;5;124m\"\u001b[39m])\n\u001b[0;32m    489\u001b[0m     miss \u001b[38;5;241m=\u001b[39m \u001b[38;5;28mself\u001b[39m\u001b[38;5;241m.\u001b[39m_missing_double(vec)\n\u001b[1;32m--> 490\u001b[0m     v \u001b[38;5;241m=\u001b[39m \u001b[43m_parse_float_vec\u001b[49m\u001b[43m(\u001b[49m\u001b[43mvec\u001b[49m\u001b[43m)\u001b[49m\n\u001b[0;32m    491\u001b[0m     v[miss] \u001b[38;5;241m=\u001b[39m np\u001b[38;5;241m.\u001b[39mnan\n\u001b[0;32m    492\u001b[0m \u001b[38;5;28;01melif\u001b[39;00m \u001b[38;5;28mself\u001b[39m\u001b[38;5;241m.\u001b[39mfields[j][\u001b[38;5;124m\"\u001b[39m\u001b[38;5;124mntype\u001b[39m\u001b[38;5;124m\"\u001b[39m] \u001b[38;5;241m==\u001b[39m \u001b[38;5;124m\"\u001b[39m\u001b[38;5;124mchar\u001b[39m\u001b[38;5;124m\"\u001b[39m:\n",
      "File \u001b[1;32m~\\miniconda3\\lib\\site-packages\\pandas\\io\\sas\\sas_xport.py:218\u001b[0m, in \u001b[0;36m_parse_float_vec\u001b[1;34m(vec)\u001b[0m\n\u001b[0;32m    216\u001b[0m shift \u001b[38;5;241m=\u001b[39m np\u001b[38;5;241m.\u001b[39mzeros(\u001b[38;5;28mlen\u001b[39m(vec), dtype\u001b[38;5;241m=\u001b[39mnp\u001b[38;5;241m.\u001b[39muint8)\n\u001b[0;32m    217\u001b[0m shift[np\u001b[38;5;241m.\u001b[39mwhere(xport1 \u001b[38;5;241m&\u001b[39m \u001b[38;5;241m0x00200000\u001b[39m)] \u001b[38;5;241m=\u001b[39m \u001b[38;5;241m1\u001b[39m\n\u001b[1;32m--> 218\u001b[0m shift[\u001b[43mnp\u001b[49m\u001b[38;5;241;43m.\u001b[39;49m\u001b[43mwhere\u001b[49m\u001b[43m(\u001b[49m\u001b[43mxport1\u001b[49m\u001b[43m \u001b[49m\u001b[38;5;241;43m&\u001b[39;49m\u001b[43m \u001b[49m\u001b[38;5;241;43m0x00400000\u001b[39;49m\u001b[43m)\u001b[49m] \u001b[38;5;241m=\u001b[39m \u001b[38;5;241m2\u001b[39m\n\u001b[0;32m    219\u001b[0m shift[np\u001b[38;5;241m.\u001b[39mwhere(xport1 \u001b[38;5;241m&\u001b[39m \u001b[38;5;241m0x00800000\u001b[39m)] \u001b[38;5;241m=\u001b[39m \u001b[38;5;241m3\u001b[39m\n\u001b[0;32m    221\u001b[0m \u001b[38;5;66;03m# shift the ieee number down the correct number of places then\u001b[39;00m\n\u001b[0;32m    222\u001b[0m \u001b[38;5;66;03m# set the second half of the ieee number to be the second half\u001b[39;00m\n\u001b[0;32m    223\u001b[0m \u001b[38;5;66;03m# of the ibm number shifted appropriately, ored with the bits\u001b[39;00m\n\u001b[1;32m   (...)\u001b[0m\n\u001b[0;32m    226\u001b[0m \u001b[38;5;66;03m# order 3 bits of the first half since we're only shifting by\u001b[39;00m\n\u001b[0;32m    227\u001b[0m \u001b[38;5;66;03m# 1, 2, or 3.\u001b[39;00m\n",
      "File \u001b[1;32m~\\miniconda3\\lib\\site-packages\\numpy\\core\\multiarray.py:346\u001b[0m, in \u001b[0;36mwhere\u001b[1;34m(condition, x, y)\u001b[0m\n\u001b[0;32m    256\u001b[0m \u001b[38;5;250m    \u001b[39m\u001b[38;5;124;03m\"\"\"\u001b[39;00m\n\u001b[0;32m    257\u001b[0m \u001b[38;5;124;03m    inner(a, b, /)\u001b[39;00m\n\u001b[0;32m    258\u001b[0m \n\u001b[1;32m   (...)\u001b[0m\n\u001b[0;32m    341\u001b[0m \n\u001b[0;32m    342\u001b[0m \u001b[38;5;124;03m    \"\"\"\u001b[39;00m\n\u001b[0;32m    343\u001b[0m     \u001b[38;5;28;01mreturn\u001b[39;00m (a, b)\n\u001b[1;32m--> 346\u001b[0m \u001b[38;5;129m@array_function_from_c_func_and_dispatcher\u001b[39m(_multiarray_umath\u001b[38;5;241m.\u001b[39mwhere)\n\u001b[0;32m    347\u001b[0m \u001b[38;5;28;01mdef\u001b[39;00m \u001b[38;5;21mwhere\u001b[39m(condition, x\u001b[38;5;241m=\u001b[39m\u001b[38;5;28;01mNone\u001b[39;00m, y\u001b[38;5;241m=\u001b[39m\u001b[38;5;28;01mNone\u001b[39;00m):\n\u001b[0;32m    348\u001b[0m \u001b[38;5;250m    \u001b[39m\u001b[38;5;124;03m\"\"\"\u001b[39;00m\n\u001b[0;32m    349\u001b[0m \u001b[38;5;124;03m    where(condition, [x, y], /)\u001b[39;00m\n\u001b[0;32m    350\u001b[0m \n\u001b[1;32m   (...)\u001b[0m\n\u001b[0;32m    416\u001b[0m \u001b[38;5;124;03m           [ 0,  3, -1]])\u001b[39;00m\n\u001b[0;32m    417\u001b[0m \u001b[38;5;124;03m    \"\"\"\u001b[39;00m\n\u001b[0;32m    418\u001b[0m     \u001b[38;5;28;01mreturn\u001b[39;00m (condition, x, y)\n",
      "\u001b[1;31mKeyboardInterrupt\u001b[0m: "
     ]
    }
   ],
   "source": [
    "\n",
    "# Intentar leer el archivo .XPT directamente con pandas\n",
    "try:\n",
    "    df = pd.read_sas('extraido/LLCP2022.XPT', format='xport', encoding='latin1')  # Intenta con 'latin1'\n",
    "    csv_file = 'extraido/LLCP2022.csv'\n",
    "    df.to_csv(csv_file, index=False)\n",
    "    print(f\"Archivo 'extraido/LLCP2022.XPT' convertido a {csv_file}\")\n",
    "except Exception as e:\n",
    "    print(f\"Error al convertir 'extraido/LLCP2022.XPT' a CSV: {e}\")"
   ]
  },
  {
   "cell_type": "code",
   "execution_count": null,
   "metadata": {
    "colab": {
     "base_uri": "https://localhost:8080/"
    },
    "id": "U_6bPIVBh8Q2",
    "outputId": "25f449e1-606f-4077-cc17-f4dbbc0c6315"
   },
   "outputs": [],
   "source": [
    "# Buscar archivos .csv en el directorio extraído\n",
    "csv_files = glob.glob(os.path.join(extract_dir, '*.csv'))\n",
    "\n",
    "if csv_files:\n",
    "    print(f\"Archivos .CSV encontrados: {csv_files}\")\n",
    "\n",
    "    # Tomar el primer archivo CSV encontrado\n",
    "    csv_file = csv_files[0]\n",
    "\n",
    "    # Leer el archivo CSV con pandas\n",
    "    df = pd.read_csv(csv_file)\n",
    "\n",
    "    # Mostrar las primeras filas del DataFrame\n",
    "    print(f\"Archivo CSV encontrado: {csv_file}\")\n",
    "    print(\"Contenido del archivo CSV:\")\n",
    "    print(df.head())\n",
    "else:\n",
    "    print(\"No se encontraron archivos CSV en el directorio extraído.\")"
   ]
  },
  {
   "cell_type": "markdown",
   "metadata": {
    "id": "5pj7gEiQMZuR"
   },
   "source": [
    "# Selección y limpieza de datos"
   ]
  },
  {
   "cell_type": "code",
   "execution_count": null,
   "metadata": {
    "colab": {
     "base_uri": "https://localhost:8080/",
     "height": 0
    },
    "id": "iuDBqSj7iRWm",
    "outputId": "152de730-6fbc-4346-f10e-9ac708e6f441"
   },
   "outputs": [],
   "source": [
    "df"
   ]
  },
  {
   "cell_type": "markdown",
   "metadata": {
    "id": "XPzSaWFYMxyO"
   },
   "source": [
    "La Tabla es demaciado grande (445132 rows × 328 columns). Ademas de que mucha informacion no es relevante para el proyecto. Para limpieza y seleccion de los mismos se utiliza el Codebook respectivo a la base de datos original. Y debido a su gran tamaño realice un segundo notebook para analizarlo por separado:\n",
    "https://colab.research.google.com/drive/1k_iYvFPBALUv31XEwnT6MCnU3Kjwc0op#scrollTo=UJBc4YDu7us3\n",
    "\n",
    "En este segundo notebook se explica la seleción de las diferentes columnas."
   ]
  },
  {
   "cell_type": "code",
   "execution_count": null,
   "metadata": {
    "colab": {
     "base_uri": "https://localhost:8080/",
     "height": 0
    },
    "id": "ZFDz8VUm6KMu",
    "outputId": "7946bb72-21da-4fc0-d096-44a81da1bc6d"
   },
   "outputs": [],
   "source": [
    "# Lista de columnas que quieres filtrar\n",
    "columnas_para_filtrar = [\n",
    "    'SMOKE100', '_BMI5', '_RFDRHV8',  '_TOTINDA', '_AGEG5YR', 'TRNSGNDR',\n",
    "    'CHCSCNC1', 'CHCOCNC1', 'HADHYST2', 'CNCRDIFF', 'CNCRAGE', 'CNCRTYP2',  '_SEX', '_PHYS14D', '_MENT14D'\n",
    "]\n",
    "# Filtra el DataFrame para incluir solo las columnas especificadas\n",
    "df_filtrado = df[columnas_para_filtrar]\n",
    "\n",
    "print(\"DataFrame filtrado:\")\n",
    "df_filtrado"
   ]
  },
  {
   "cell_type": "markdown",
   "metadata": {
    "id": "_jaiHfePO5YS"
   },
   "source": [
    "Una vez  seleccionadas las columnas relevantes, paso a trabajar y preparar las mismas. En base al Codebook"
   ]
  },
  {
   "cell_type": "code",
   "execution_count": null,
   "metadata": {
    "colab": {
     "base_uri": "https://localhost:8080/",
     "height": 0
    },
    "id": "7nrnjFs98Jft",
    "outputId": "c7cd3bf2-7cf8-47be-ecfa-bc5a28fea0d6"
   },
   "outputs": [],
   "source": [
    "df_filtrado.isna().sum()"
   ]
  },
  {
   "cell_type": "code",
   "execution_count": null,
   "metadata": {
    "colab": {
     "base_uri": "https://localhost:8080/"
    },
    "id": "djk6tQrAeMG3",
    "outputId": "9c3dd08c-d634-4719-f5e0-36087628c85f"
   },
   "outputs": [],
   "source": [
    "#Los vacios de si fuma los lleno con No sabe(7) por no saber el resultado\n",
    "df_filtrado['SMOKE100'] = df_filtrado['SMOKE100'].fillna(7)\n",
    "df_filtrado['Fuma?'] = df_filtrado['SMOKE100'].map({\n",
    "    1: 'Si',\n",
    "    2: 'No',\n",
    "    7: 'No sabe',\n",
    "    9: 'Se Rehusa a responder'\n",
    "}).fillna('Faltante')\n",
    "df_filtrado = df_filtrado.rename(columns={'SMOKE100': 'SMOKE100>Fuma?'})"
   ]
  },
  {
   "cell_type": "code",
   "execution_count": null,
   "metadata": {
    "id": "K8ghfTNe341X"
   },
   "outputs": [],
   "source": [
    "df_filtrado = df_filtrado.dropna(subset=['_BMI5'])\n",
    "df_filtrado.loc[:, '_BMI5'] = df_filtrado['_BMI5'].astype(int)\n",
    "df_filtrado = df_filtrado.rename(columns={'_BMI5': 'IMC'})"
   ]
  },
  {
   "cell_type": "code",
   "execution_count": null,
   "metadata": {
    "id": "WKioWxtk7Fco"
   },
   "outputs": [],
   "source": [
    "df_filtrado['Toma_mucho_Alcohol?'] = df_filtrado['_RFDRHV8'].map({\n",
    "    1: 'No',\n",
    "    2: 'Si',\n",
    "    9: 'No se sabe'\n",
    "}).fillna('Faltante')\n",
    "df_filtrado = df_filtrado.rename(columns={'_RFDRHV8': '_RFDRHV8>Toma_mucho_Alcohol?'})"
   ]
  },
  {
   "cell_type": "code",
   "execution_count": null,
   "metadata": {
    "id": "O_KuYktu7-ni"
   },
   "outputs": [],
   "source": [
    "df_filtrado['Acitividad_Fisica?'] = df_filtrado['_TOTINDA'].map({\n",
    "    1: 'Si',\n",
    "    2: 'No',\n",
    "    9: 'No se sabe'\n",
    "}).fillna('Faltante')\n",
    "df_filtrado = df_filtrado.rename(columns={'_TOTINDA': '_TOTINDA>Acitividad_Fisica?'})"
   ]
  },
  {
   "cell_type": "code",
   "execution_count": null,
   "metadata": {
    "id": "r2SUb1Wa9YDS"
   },
   "outputs": [],
   "source": [
    "df_filtrado['Edad'] = df_filtrado['_AGEG5YR'].map({\n",
    "    1: 'De 18 a 24',\n",
    "    2: 'De 25 a 29',\n",
    "    3: 'De 30 a 34',\n",
    "    4: 'De 35 a 39',\n",
    "    5: 'De 40 a 44',\n",
    "    6: 'De 45 a 49',\n",
    "    7: 'De 50 a 54',\n",
    "    8: 'De 55 a 59',\n",
    "    9: 'De 60 a 64',\n",
    "    10: 'De 65 a 69',\n",
    "    11: 'De 70 a 74',\n",
    "    12: 'De 75 a 79',\n",
    "    13: 'De 80 o más'\n",
    "}).fillna('Desconocido')\n",
    "df_filtrado = df_filtrado.rename(columns={'_AGEG5YR': '_AGEG5YR>Edad?'})"
   ]
  },
  {
   "cell_type": "code",
   "execution_count": null,
   "metadata": {
    "id": "GDOK4X0p970F"
   },
   "outputs": [],
   "source": [
    "#Teniendo en cuenta que la poblacion Trans es menor al 1%, se asume que los datos vacios son No(4)\n",
    "df_filtrado['TRNSGNDR'] = df_filtrado['TRNSGNDR'].fillna('4')\n",
    "df_filtrado['TRANS?'] = df_filtrado['TRNSGNDR'].map({\n",
    "    1: 'Sí, Transgénero, masculino a femenino',\n",
    "    2: 'Sí, Transgénero, femenino a masculino',\n",
    "    3: 'Sí, Transgénero, no conforme con el género',\n",
    "    4: 'No',\n",
    "    7: 'No sabe/No está seguro',\n",
    "    9: 'Se rehúsa a responder',\n",
    "}).fillna('No')\n",
    "df_filtrado = df_filtrado.rename(columns={'TRNSGNDR': 'TRNSGNDR>TRANS?'})"
   ]
  },
  {
   "cell_type": "code",
   "execution_count": null,
   "metadata": {
    "id": "S16_AbSgBgx6"
   },
   "outputs": [],
   "source": [
    "df_filtrado['Cancer de piel diferente a melanoma'] = df_filtrado['CHCSCNC1'].map({\n",
    "    1: 'Sí',\n",
    "    2: 'No',\n",
    "    7: 'No sabe / No está seguro',\n",
    "    9: 'Se rehúsa a responder',\n",
    "    'BLANK': 'No preguntado o Faltante'\n",
    "}).fillna('No preguntado o Faltante')\n",
    "df_filtrado = df_filtrado.rename(columns={'CHCSCNC1': 'CHCSCNC1>Cancer de piel diferente a melanoma?'})"
   ]
  },
  {
   "cell_type": "code",
   "execution_count": null,
   "metadata": {
    "id": "tqCqlrouCRwq"
   },
   "outputs": [],
   "source": [
    "df_filtrado['CHCOCNC1'] = df_filtrado['CHCOCNC1'].fillna(2)\n",
    "df_filtrado['Melanoma u otro cancer'] = df_filtrado['CHCOCNC1'].map({\n",
    "    1: 'Sí',\n",
    "    2: 'No',\n",
    "    7: 'No sabe / No está seguro',\n",
    "    9: 'Se rehúsa a responder',\n",
    "    'BLANK': 'No preguntado o Faltante'\n",
    "}).fillna('No preguntado o Faltante')\n",
    "df_filtrado = df_filtrado.rename(columns={'CHCOCNC1': 'CHCOCNC1>Melanoma u otro cancer?'})"
   ]
  },
  {
   "cell_type": "code",
   "execution_count": null,
   "metadata": {
    "id": "dQLLCcFaHMtG"
   },
   "outputs": [],
   "source": [
    "#Un hombre no puede tener una histerectomía, por lo que deberia ser un No(2) directo\n",
    "\n",
    "df_filtrado['HADHYST2'] = np.where(\n",
    "    (df_filtrado['_SEX'] == 1) & (df_filtrado['HADHYST2'].isna()),\n",
    "    2,\n",
    "    df_filtrado['HADHYST2']\n",
    ")\n",
    "\n",
    "# Luego, llenar los vacíos restantes con 7 ya que no se sabe\n",
    "df_filtrado['HADHYST2'] = df_filtrado['HADHYST2'].fillna(7)\n"
   ]
  },
  {
   "cell_type": "code",
   "execution_count": null,
   "metadata": {
    "id": "V1WMC5pPGExc"
   },
   "outputs": [],
   "source": [
    "df_filtrado['histerectomía?'] = df_filtrado['HADHYST2'].map({\n",
    "    1: 'Sí',\n",
    "    2: 'No',\n",
    "    7: 'No sabe/No está seguro',\n",
    "    9: 'Se rehúsa a responder',\n",
    "    'BLANK': 'No'\n",
    "}).fillna('No')\n",
    "df_filtrado = df_filtrado.rename(columns={'HADHYST2': 'HADHYST2>histerectomía?'})"
   ]
  },
  {
   "cell_type": "code",
   "execution_count": null,
   "metadata": {
    "id": "G9f5cVNXKPBG"
   },
   "outputs": [],
   "source": [
    "#No esta aclaro los que no tuvo, por lo que vacios se contemplan como que no tuvo(0)\n",
    "df_filtrado['CNCRDIFF'] = df_filtrado['CNCRDIFF'].fillna(0)\n",
    "df_filtrado['Cuantos_tipos_de_cancer_tuvo?'] = df_filtrado['CNCRDIFF'].map({\n",
    "    1: 'Solo uno',\n",
    "    2: 'Dos',\n",
    "    3: 'Tres o más',\n",
    "    7: 'No sabe',\n",
    "    9: 'Se rehúsa a responder',\n",
    "    0: 'No tuvo'\n",
    "}).fillna('No tuvo')\n",
    "df_filtrado = df_filtrado.rename(columns={'CNCRDIFF': 'CNCRDIFF>Cuantos_tipos_de_cancer_tuvo?'})"
   ]
  },
  {
   "cell_type": "code",
   "execution_count": null,
   "metadata": {
    "id": "u00X_vnEbq9E"
   },
   "outputs": [],
   "source": [
    "# CNCRAGE corresponde a la edad cuando se enteraron que tenian cancer se utiliza 200 para indicar que no tuvo\n",
    "df_filtrado['CNCRAGE'] = df_filtrado['CNCRAGE'].fillna(200)\n",
    "df_filtrado['CNCRAGE'] = df_filtrado['CNCRAGE'].astype(int)\n",
    "df_filtrado = df_filtrado.rename(columns={'CNCRAGE': 'CNCRAGE>Con_Cuantos_años_se_entero_del_cancer?'})"
   ]
  },
  {
   "cell_type": "code",
   "execution_count": null,
   "metadata": {
    "id": "xJTc-qBlcd5U"
   },
   "outputs": [],
   "source": [
    "#Igual que en los anteriores se llenan los vacios para indicar que no tuvieron cancer\n",
    "df_filtrado['CNCRTYP2'] = df_filtrado['CNCRTYP2'].fillna(0)\n",
    "df_filtrado['Que_tipo_de_cancer?'] = df_filtrado['CNCRTYP2'].map({\n",
    "    0: 'Ninguno',\n",
    "    1: 'Vejiga',\n",
    "    2: 'Sangre',\n",
    "    3: 'Hueso',\n",
    "    4: 'Cerebro',\n",
    "    5: 'Mama',\n",
    "    6: 'Cérvix/Cervical',\n",
    "    7: 'Colon',\n",
    "    8: 'Esófago/Esófagico',\n",
    "    9: 'Vesícula biliar',\n",
    "    10: 'Riñón',\n",
    "    11: 'Laringe-tráquea',\n",
    "    12: 'Leucemia',\n",
    "    13: 'Hígado',\n",
    "    14: 'Pulmón',\n",
    "    15: 'Linfoma',\n",
    "    16: 'Melanoma',\n",
    "    17: 'Boca/lengua/labio',\n",
    "    18: 'Ovario/Ovárico',\n",
    "    19: 'Páncreas/Pancreático',\n",
    "    20: 'Próstata',\n",
    "    21: 'Recto/Rectal',\n",
    "    22: 'Piel (no melanoma)',\n",
    "    23: 'Piel (no se sabe qué tipo)',\n",
    "    24: 'Tejido blando (músculo o grasa)',\n",
    "    25: 'Estómago',\n",
    "    26: 'Testículo/Testicular',\n",
    "    27: 'Garganta - faringe',\n",
    "    28: 'Tiroides',\n",
    "    29: 'Útero/Uterino',\n",
    "    30: 'Otro',\n",
    "    77: 'No sabe/No está seguro',\n",
    "    99: 'Se rehúsa a responder',\n",
    "    'BLANK': 'No preguntado o Faltante'\n",
    "}).fillna('No preguntado o Faltante')\n",
    "df_filtrado = df_filtrado.rename(columns={'CNCRTYP2': 'CNCRTYP2>Que_tipo_de_cancer?'})"
   ]
  },
  {
   "cell_type": "code",
   "execution_count": null,
   "metadata": {
    "id": "jiYCULuzgQYD"
   },
   "outputs": [],
   "source": [
    "df_filtrado['Sexo'] = df_filtrado['_SEX'].map({\n",
    "    1: 'Masculino',\n",
    "    2: 'Femenino'\n",
    "}).fillna('No especificado')\n"
   ]
  },
  {
   "cell_type": "code",
   "execution_count": null,
   "metadata": {
    "id": "ZAz38QB6iS8f"
   },
   "outputs": [],
   "source": [
    "df_filtrado['Estado_físico_no_bueno_ultimo_tiempo'] = df_filtrado['_PHYS14D'].map({\n",
    "    1: 'Cero días con salud física no buena',\n",
    "    2: '1-13 días con salud física no buena',\n",
    "    3: '14+ días con salud física no buena',\n",
    "    9: 'No sabe/Se rehúsa/Faltante'\n",
    "}).fillna('No especificado')\n",
    "df_filtrado = df_filtrado.rename(columns={'_PHYS14D': '_PHYS14D>Estado_físico_no_bueno_ultimo_tiempo'})"
   ]
  },
  {
   "cell_type": "code",
   "execution_count": null,
   "metadata": {
    "id": "baLizn1PiYoq"
   },
   "outputs": [],
   "source": [
    "df_filtrado['Estado_mental_no_bueno_ultimo_tiempo'] = df_filtrado['_MENT14D'].map({\n",
    "    1: 'Cero días con salud mental no buena',\n",
    "    2: '1-13 días con salud mental no buena',\n",
    "    3: '14+ días con salud mental no buena',\n",
    "    9: 'No sabe/Se rehúsa/Faltante'\n",
    "}).fillna('No especificado')\n",
    "df_filtrado = df_filtrado.rename(columns={'_MENT14D': '_MENT14D>Estado_mental_no_bueno_ultimo_tiempo?'})"
   ]
  },
  {
   "cell_type": "code",
   "execution_count": null,
   "metadata": {
    "colab": {
     "base_uri": "https://localhost:8080/",
     "height": 0
    },
    "id": "9dEBrxWyEGEe",
    "outputId": "7a821723-d0e7-4ac8-ceb7-99d010989414"
   },
   "outputs": [],
   "source": [
    "df_filtrado.isna().sum()"
   ]
  },
  {
   "cell_type": "code",
   "execution_count": null,
   "metadata": {
    "colab": {
     "base_uri": "https://localhost:8080/",
     "height": 0
    },
    "id": "9A7CsTig3l35",
    "outputId": "514d31b0-c5ea-4517-e80f-dc748bbb21df"
   },
   "outputs": [],
   "source": [
    "df_filtrado"
   ]
  },
  {
   "cell_type": "code",
   "execution_count": null,
   "metadata": {
    "colab": {
     "base_uri": "https://localhost:8080/",
     "height": 0
    },
    "id": "-_bU6H0pOi0X",
    "outputId": "fb66dcad-71a0-48b7-8ffb-aef92e1d43bc"
   },
   "outputs": [],
   "source": [
    "\n",
    "df_filtrado2 = df_filtrado[['Sexo','_AGEG5YR>Edad?','IMC', 'Fuma?',\n",
    "       'Toma_mucho_Alcohol?', 'Acitividad_Fisica?', 'Edad', 'TRANS?',\n",
    "       'Cancer de piel diferente a melanoma', 'Melanoma u otro cancer',\n",
    "       'histerectomía?', 'Cuantos_tipos_de_cancer_tuvo?',\n",
    "       'Que_tipo_de_cancer?',  'Estado_físico_no_bueno_ultimo_tiempo',\n",
    "       'Estado_mental_no_bueno_ultimo_tiempo']]\n",
    "df_filtrado2.loc[:, 'Tuvo_Cancer?'] = df_filtrado2['Que_tipo_de_cancer?'].apply(\n",
    "    lambda x: 'No' if x in ['Ninguno', 'No sabe/No está seguro'] else 'Sí'\n",
    ")\n",
    "\n",
    "\n",
    "df_filtrado2"
   ]
  },
  {
   "cell_type": "code",
   "execution_count": null,
   "metadata": {
    "colab": {
     "base_uri": "https://localhost:8080/",
     "height": 0
    },
    "id": "i6y9ej0muevw",
    "outputId": "bae27391-7098-4d22-a884-af772fcd89b1"
   },
   "outputs": [],
   "source": [
    "df_analisis = df_filtrado2[['Tuvo_Cancer?','Sexo','IMC', 'Fuma?',\n",
    "       'Toma_mucho_Alcohol?', 'Acitividad_Fisica?', 'Edad', 'TRANS?']]\n",
    "df_analisis"
   ]
  },
  {
   "cell_type": "markdown",
   "metadata": {
    "id": "ff5sqNk78W1B"
   },
   "source": [
    "# Analisis"
   ]
  },
  {
   "cell_type": "code",
   "execution_count": null,
   "metadata": {
    "colab": {
     "base_uri": "https://localhost:8080/",
     "height": 565
    },
    "id": "KPyTYvhvsKcM",
    "outputId": "87579d53-e422-4763-9671-34a881698c0e"
   },
   "outputs": [],
   "source": [
    "# Agrupar por 'IMC' y 'Tuvo_Cancer?', y contar las ocurrencias\n",
    "df_grouped = df_analisis.groupby(['IMC', 'Tuvo_Cancer?']).size().unstack(fill_value=0)\n",
    "\n",
    "# Crear el gráfico de líneas\n",
    "plt.figure(figsize=(10, 6))\n",
    "df_grouped.plot(kind='line', ax=plt.gca())\n",
    "\n",
    "# Personalizar el eje x para tener 10 ticks\n",
    "num_ticks = 20\n",
    "plt.xticks(ticks=np.linspace(df_analisis['IMC'].min(), df_analisis['IMC'].max(), num_ticks))\n",
    "\n",
    "plt.title('Conteo de Tuvo_Cancer? en función del IMC')\n",
    "plt.xlabel('IMC')\n",
    "plt.ylabel('Conteo')\n",
    "plt.grid(True)\n",
    "plt.show()"
   ]
  },
  {
   "cell_type": "code",
   "execution_count": null,
   "metadata": {
    "colab": {
     "base_uri": "https://localhost:8080/"
    },
    "id": "S7D4h17iJ4gk",
    "outputId": "0492a130-56b6-46c8-ea75-120e1f1ddf72"
   },
   "outputs": [],
   "source": [
    "# Filtrar el DataFrame para 'Tuvo_Cancer?'\n",
    "imc_cancer_si = df_analisis[df_analisis['Tuvo_Cancer?'] == 'Sí']['IMC']\n",
    "imc_cancer_no = df_analisis[df_analisis['Tuvo_Cancer?'] == 'No']['IMC']\n",
    "\n",
    "# Calcular moda, media y mediana para 'Sí'\n",
    "moda_imc_si = imc_cancer_si.mode()[0]\n",
    "media_imc_si = imc_cancer_si.mean()\n",
    "mediana_imc_si = imc_cancer_si.median()\n",
    "\n",
    "# Calcular moda, media y mediana para 'No'\n",
    "moda_imc_no = imc_cancer_no.mode()[0]\n",
    "media_imc_no = imc_cancer_no.mean()\n",
    "mediana_imc_no = imc_cancer_no.median()\n",
    "\n",
    "# Mostrar los resultados\n",
    "print(\"Resultados para 'Tuvo_Cancer? = Sí'\")\n",
    "print(f\"Moda del IMC: {moda_imc_si}\")\n",
    "print(f\"Media del IMC: {media_imc_si}\")\n",
    "print(f\"Mediana del IMC: {mediana_imc_si}\")\n",
    "\n",
    "print(\"\\nResultados para 'Tuvo_Cancer? = No'\")\n",
    "print(f\"Moda del IMC: {moda_imc_no}\")\n",
    "print(f\"Media del IMC: {media_imc_no}\")\n",
    "print(f\"Mediana del IMC: {mediana_imc_no}\")"
   ]
  },
  {
   "cell_type": "markdown",
   "metadata": {
    "id": "X2Q25O8YK2J8"
   },
   "source": [
    "El Índice de masa corporal no parece afectar en principio la aparición de cancer. Podemos verlo a nivel individual de cada tipo, pero no todos los tipos de cancer tienen una cantidad relevante por lo que se filtrara en base a la ocurrencia en la base de datos:\n"
   ]
  },
  {
   "cell_type": "code",
   "execution_count": null,
   "metadata": {
    "colab": {
     "base_uri": "https://localhost:8080/"
    },
    "id": "vFWouVMTQtQc",
    "outputId": "4ac19be6-4ca0-46b4-a66f-0febb62148c4"
   },
   "outputs": [],
   "source": [
    "conteo_cancer = df_filtrado2['Que_tipo_de_cancer?'].value_counts()\n",
    "print(conteo_cancer)"
   ]
  },
  {
   "cell_type": "code",
   "execution_count": null,
   "metadata": {
    "colab": {
     "base_uri": "https://localhost:8080/",
     "height": 1000
    },
    "id": "z-4ZwB-f2HUR",
    "outputId": "e9da1595-e29c-4329-ef1f-f49a8e38d041"
   },
   "outputs": [],
   "source": [
    "# Lista de tipos de cáncer que quieres filtrar\n",
    "tipos_de_cancer_filtrados = ['Ninguno', 'Piel (no melanoma)', 'Mama', 'Melanoma', 'Próstata', 'Piel (no se sabe qué tipo)']\n",
    "\n",
    "# Iterar sobre cada valor único en la columna 'Que_tipo_de_cancer?'\n",
    "for cancer_type in tipos_de_cancer_filtrados:\n",
    "    # Filtrar el DataFrame para el tipo de cáncer actual\n",
    "    df_cancer_type = df_filtrado2[df_filtrado2['Que_tipo_de_cancer?'] == cancer_type]\n",
    "\n",
    "    # Agrupar por 'IMC' y 'Tuvo_Cancer?', y contar las ocurrencias\n",
    "    df_grouped = df_cancer_type.groupby(['IMC', 'Tuvo_Cancer?']).size().unstack(fill_value=0)\n",
    "\n",
    "    # Calcular moda, media y mediana para 'Sí'\n",
    "    imc_cancer_si = df_cancer_type[df_cancer_type['Tuvo_Cancer?'] == 'Sí']['IMC']\n",
    "    moda_imc_si = imc_cancer_si.mode()[0] if not imc_cancer_si.empty else np.nan\n",
    "    media_imc_si = imc_cancer_si.mean() if not imc_cancer_si.empty else np.nan\n",
    "    mediana_imc_si = imc_cancer_si.median() if not imc_cancer_si.empty else np.nan\n",
    "\n",
    "    # Calcular moda, media y mediana para 'No'\n",
    "    imc_cancer_no = df_cancer_type[df_cancer_type['Tuvo_Cancer?'] == 'No']['IMC']\n",
    "    moda_imc_no = imc_cancer_no.mode()[0] if not imc_cancer_no.empty else np.nan\n",
    "    media_imc_no = imc_cancer_no.mean() if not imc_cancer_no.empty else np.nan\n",
    "    mediana_imc_no = imc_cancer_no.median() if not imc_cancer_no.empty else np.nan\n",
    "\n",
    "    # Crear el gráfico de líneas\n",
    "    plt.figure(figsize=(10, 6))\n",
    "    df_grouped.plot(kind='line', ax=plt.gca())\n",
    "\n",
    "    # Personalizar el eje x para tener 20 ticks\n",
    "    num_ticks = 20\n",
    "    plt.xticks(ticks=np.linspace(df_analisis['IMC'].min(), df_analisis['IMC'].max(), num_ticks))\n",
    "\n",
    "    # Añadir moda, media y mediana en el gráfico\n",
    "    textstr = f\"Tuvo_Cancer? = Sí\\nModa: {moda_imc_si:.2f}\\nMedia: {media_imc_si:.2f}\\nMediana: {mediana_imc_si:.2f}\"\n",
    "    textstr += f\"\\n\\nTuvo_Cancer? = No\\nModa: {moda_imc_no:.2f}\\nMedia: {media_imc_no:.2f}\\nMediana: {mediana_imc_no:.2f}\"\n",
    "\n",
    "    plt.text(0.05, 0.95, textstr, transform=plt.gca().transAxes, fontsize=10,\n",
    "             verticalalignment='top', bbox=dict(facecolor='white', alpha=0.5))\n",
    "\n",
    "    plt.title(f'Conteo de Tuvo_Cancer? para {cancer_type} en función del IMC')\n",
    "    plt.xlabel('IMC')\n",
    "    plt.ylabel('Conteo')\n",
    "    plt.grid(True)\n",
    "    plt.show()\n"
   ]
  },
  {
   "cell_type": "markdown",
   "metadata": {
    "id": "3wo2elP0R49-"
   },
   "source": [
    "No parece que el IMC tenga incidencia en los casos de cancer, por lo menos en los tipos de cancer vistos, podria analisarse otros pero seria necesario una mayor cantidad de casos positivos en la muestra."
   ]
  },
  {
   "cell_type": "code",
   "execution_count": null,
   "metadata": {
    "colab": {
     "base_uri": "https://localhost:8080/",
     "height": 663
    },
    "id": "wf2SH2--ZrJQ",
    "outputId": "a4b333fb-ad62-4ff1-a1b8-680692c8e60b"
   },
   "outputs": [],
   "source": [
    "# Agrupar por 'Edad' y 'Tuvo_Cancer?', y contar las ocurrencias\n",
    "df_grouped = df_analisis.groupby(['Edad', 'Tuvo_Cancer?']).size().unstack(fill_value=0)\n",
    "\n",
    "# Crear un gráfico de barras usando seaborn\n",
    "plt.figure(figsize=(12, 8))\n",
    "df_grouped.plot(kind='bar', figsize=(12, 8))\n",
    "\n",
    "# Personalizar el gráfico\n",
    "plt.title('Conteo de casos de Tuvo_Cancer? por Edad')\n",
    "plt.xlabel('Edad')\n",
    "plt.ylabel('Conteo')\n",
    "plt.xticks(rotation=45)  # Rotar las etiquetas del eje x para mejor visibilidad\n",
    "plt.grid(axis='y', linestyle='--', alpha=0.7)\n",
    "plt.legend(title='Tuvo_Cancer?')\n",
    "plt.tight_layout()  # Ajustar el diseño para que todo se muestre bien\n",
    "\n",
    "plt.show()"
   ]
  },
  {
   "cell_type": "markdown",
   "metadata": {
    "id": "DuyTIlT9bfM6"
   },
   "source": [
    "En este caso es evidente que la aparición de Cancer aumenta con la edad."
   ]
  },
  {
   "cell_type": "code",
   "execution_count": null,
   "metadata": {
    "colab": {
     "base_uri": "https://localhost:8080/",
     "height": 1000
    },
    "id": "y8gCqyV1cJwg",
    "outputId": "6575c14b-1072-45f4-f8eb-18b2478db5b9"
   },
   "outputs": [],
   "source": [
    "# Lista de tipos de cáncer que quieres filtrar\n",
    "tipos_de_cancer_filtrados = ['Ninguno', 'Piel (no melanoma)', 'Mama', 'Melanoma', 'Próstata', 'Piel (no se sabe qué tipo)']\n",
    "\n",
    "# Iterar sobre cada valor único en la lista de tipos de cáncer filtrados\n",
    "for cancer_type in tipos_de_cancer_filtrados:\n",
    "    # Filtrar el DataFrame para el tipo de cáncer actual\n",
    "    df_cancer_type = df_filtrado2[df_filtrado2['Que_tipo_de_cancer?'] == cancer_type]\n",
    "\n",
    "    # Agrupar por 'Edad' y 'Tuvo_Cancer?', y contar las ocurrencias\n",
    "    df_grouped = df_cancer_type.groupby(['Edad', 'Tuvo_Cancer?']).size().unstack(fill_value=0)\n",
    "\n",
    "    # Crear el gráfico de barras\n",
    "    plt.figure(figsize=(12, 8))\n",
    "    df_grouped.plot(kind='bar', stacked=True, figsize=(12, 8))\n",
    "\n",
    "    # Personalizar el gráfico\n",
    "    plt.title(f'Conteo de casos de Tuvo_Cancer? por Edad para {cancer_type}')\n",
    "    plt.xlabel('Edad')\n",
    "    plt.ylabel('Conteo')\n",
    "    plt.xticks(rotation=45)  # Rotar las etiquetas del eje x para mejor visibilidad\n",
    "    plt.grid(axis='y', linestyle='--', alpha=0.7)\n",
    "    plt.legend(title='Tuvo_Cancer?')\n",
    "    plt.tight_layout()  # Ajustar el diseño para que todo se muestre bien\n",
    "\n",
    "    plt.show()\n"
   ]
  },
  {
   "cell_type": "code",
   "execution_count": null,
   "metadata": {
    "colab": {
     "base_uri": "https://localhost:8080/",
     "height": 1000
    },
    "id": "57w7DToueGiM",
    "outputId": "c6f99824-8445-485b-9e6d-38fd4405f817"
   },
   "outputs": [],
   "source": [
    "# Filtrar el DataFrame para excluir los valores 'No sabe/No está seguro' y 'Se rehúsa a responder' en 'TRANS?'\n",
    "df_filteredT = df_analisis[~df_analisis['TRANS?'].isin(['No sabe/No está seguro', 'Se rehúsa a responder'])]\n",
    "\n",
    "# Agrupar el DataFrame por 'TRANS?' y 'Tuvo_Cancer?', y contar las ocurrencias\n",
    "df_grouped = df_filteredT.groupby(['TRANS?', 'Tuvo_Cancer?']).size().unstack(fill_value=0)\n",
    "\n",
    "# Crear gráficos de tortas para cada combinación de 'Tuvo_Cancer?'\n",
    "for category in df_grouped.index:\n",
    "    plt.figure(figsize=(8, 6))\n",
    "    df_grouped.loc[category].plot(kind='pie', autopct='%1.1f%%', startangle=90)\n",
    "    plt.title(f'Distribución de Tuvo_Cancer? para TRANS? = {category}')\n",
    "    plt.ylabel('')  # Ocultar la etiqueta del eje y\n",
    "    plt.grid(axis='y', linestyle='--', alpha=0.7)\n",
    "    plt.tight_layout()  # Ajustar el diseño para que todo se muestre bien\n",
    "    plt.show()"
   ]
  },
  {
   "cell_type": "markdown",
   "metadata": {
    "id": "bKZ5Jb0BiMok"
   },
   "source": [
    "Por lo menos en casos de cancer en general pareciera ser de menor proporcion en personas Trans. Depende la bibliografia es acorde pero depende el tipo de cancer. Debido a la poca cantidad de muestra, al no ser representativa no se puede utilizar como indicador."
   ]
  },
  {
   "cell_type": "code",
   "execution_count": null,
   "metadata": {
    "colab": {
     "base_uri": "https://localhost:8080/",
     "height": 1000
    },
    "id": "eyinRqLBmeb8",
    "outputId": "45ea1a2f-cc63-4f4d-a16e-1feadb516392"
   },
   "outputs": [],
   "source": [
    "# Filtrar el DataFrame para excluir los valores 'No sabe/No está seguro' y 'Se rehúsa a responder'\n",
    "df_filteredT = df_analisis[~df_analisis['Fuma?'].isin(['No sabe', 'Se Rehusa a responder'])]\n",
    "\n",
    "# Agrupar el DataFrame por 'TRANS?' y 'Tuvo_Cancer?', y contar las ocurrencias\n",
    "df_grouped = df_filteredT.groupby(['Fuma?', 'Tuvo_Cancer?']).size().unstack(fill_value=0)\n",
    "\n",
    "# Crear gráficos de tortas para cada combinación de 'Tuvo_Cancer?'\n",
    "for category in df_grouped.index:\n",
    "    plt.figure(figsize=(8, 6))\n",
    "    df_grouped.loc[category].plot(kind='pie', autopct='%1.1f%%', startangle=90)\n",
    "    plt.title(f'Distribución de Tuvo_Cancer? para Fuma? = {category}')\n",
    "    plt.ylabel('')  # Ocultar la etiqueta del eje y\n",
    "    plt.grid(axis='y', linestyle='--', alpha=0.7)\n",
    "    plt.tight_layout()  # Ajustar el diseño para que todo se muestre bien\n",
    "    plt.show()\n"
   ]
  },
  {
   "cell_type": "code",
   "execution_count": null,
   "metadata": {
    "colab": {
     "base_uri": "https://localhost:8080/",
     "height": 1000
    },
    "id": "LP0C-jsYoapH",
    "outputId": "92a833da-0ee5-4082-a00b-4cb71a1c5fa9"
   },
   "outputs": [],
   "source": [
    "# Valores específicos para 'Que_tipo_de_cancer?'\n",
    "valores_cancer = ['Ninguno', 'Piel (no melanoma)', 'Mama', 'Melanoma', 'Próstata', 'Piel (no se sabe qué tipo)' , 'Pulmón', 'Garganta - faringe']\n",
    "\n",
    "# Filtrar el DataFrame para los valores específicos en 'Que_tipo_de_cancer?'\n",
    "df_filtered_cancer = df_filtrado2[df_filtrado2['Que_tipo_de_cancer?'].isin(valores_cancer)]\n",
    "\n",
    "# Filtrar el DataFrame para excluir los valores 'No sabe/No está seguro' y 'Se rehúsa a responder' en 'Fuma?'\n",
    "df_filteredT = df_filtered_cancer[~df_filtered_cancer['Fuma?'].isin(['No sabe/No está seguro', 'Se rehúsa a responder'])]\n",
    "\n",
    "# Agrupar el DataFrame por 'Fuma?' y contar las ocurrencias para cada tipo de cáncer\n",
    "df_grouped = df_filteredT.groupby(['Que_tipo_de_cancer?', 'Fuma?']).size().unstack(fill_value=0)\n",
    "\n",
    "# Crear gráficos de tortas para cada tipo de cáncer\n",
    "for cancer_type in valores_cancer:\n",
    "    df_cancer_type = df_grouped.loc[cancer_type] if cancer_type in df_grouped.index else pd.Series()\n",
    "\n",
    "    if not df_cancer_type.empty and df_cancer_type.sum() > 0:\n",
    "        plt.figure(figsize=(8, 6))\n",
    "        df_cancer_type.plot(kind='pie', autopct='%1.1f%%', startangle=90)\n",
    "        plt.title(f'Distribución de Fuma? para Tipo de Cáncer = {cancer_type}')\n",
    "        plt.ylabel('')  # Ocultar la etiqueta del eje y\n",
    "        plt.grid(axis='y', linestyle='--', alpha=0.7)\n",
    "        plt.tight_layout()  # Ajustar el diseño para que todo se muestre bien\n",
    "        plt.show()\n",
    "    else:\n",
    "        print(f'No hay datos para el Tipo de Cáncer = {cancer_type}')"
   ]
  },
  {
   "cell_type": "markdown",
   "metadata": {
    "id": "9dryUPOusFHn"
   },
   "source": [
    "Fumar pareciera que aumenta en general la probabilidad de cancer, pero en caso de los tipos de cancer mas especificos de personas que fuman ( 'Pulmón' y  'Garganta - faringe') la diferencia es enorme."
   ]
  },
  {
   "cell_type": "code",
   "execution_count": null,
   "metadata": {
    "colab": {
     "base_uri": "https://localhost:8080/",
     "height": 1000
    },
    "id": "086ECCCsnGy_",
    "outputId": "f9c4ffbc-6926-4575-94f9-8fc56d99248b"
   },
   "outputs": [],
   "source": [
    "# Filtrar el DataFrame para excluir los valores 'No sabe/No está seguro' y 'Se rehúsa a responder'\n",
    "df_filteredT = df_analisis[~df_analisis['Toma_mucho_Alcohol?'].isin(['No se sabe', 'Se Rehusa a responder'])]\n",
    "\n",
    "# Agrupar el DataFrame por 'TRANS?' y 'Tuvo_Cancer?', y contar las ocurrencias\n",
    "df_grouped = df_filteredT.groupby(['Toma_mucho_Alcohol?', 'Tuvo_Cancer?']).size().unstack(fill_value=0)\n",
    "\n",
    "# Crear gráficos de tortas para cada combinación de 'Tuvo_Cancer?'\n",
    "for category in df_grouped.index:\n",
    "    plt.figure(figsize=(8, 6))\n",
    "    df_grouped.loc[category].plot(kind='pie', autopct='%1.1f%%', startangle=90)\n",
    "    plt.title(f'Distribución de Tuvo_Cancer? para Toma_mucho_Alcohol? = {category}')\n",
    "    plt.ylabel('')  # Ocultar la etiqueta del eje y\n",
    "    plt.grid(axis='y', linestyle='--', alpha=0.7)\n",
    "    plt.tight_layout()  # Ajustar el diseño para que todo se muestre bien\n",
    "    plt.show()\n",
    "\n",
    "    #Fuma?\tToma_mucho_Alcohol?\tAcitividad_Fisica?"
   ]
  },
  {
   "cell_type": "code",
   "execution_count": null,
   "metadata": {
    "colab": {
     "base_uri": "https://localhost:8080/",
     "height": 1000
    },
    "id": "lePSMPT6s6Dw",
    "outputId": "15091ec6-6cfe-4303-dd18-502cd83f3f54"
   },
   "outputs": [],
   "source": [
    "# Valores específicos para 'Que_tipo_de_cancer?'\n",
    "valores_cancer = ['Ninguno', 'Piel (no melanoma)', 'Mama', 'Melanoma', 'Próstata', 'Piel (no se sabe qué tipo)' , 'Pulmón', 'Garganta - faringe', 'Hígado']\n",
    "\n",
    "# Filtrar el DataFrame para los valores específicos en 'Que_tipo_de_cancer?'\n",
    "df_filtered_cancer = df_filtrado2[df_filtrado2['Que_tipo_de_cancer?'].isin(valores_cancer)]\n",
    "\n",
    "# Filtrar el DataFrame para excluir los valores 'No sabe/No está seguro' y 'Se rehúsa a responder' en 'Fuma?'\n",
    "df_filteredT = df_filtered_cancer[~df_filtered_cancer['Toma_mucho_Alcohol?'].isin(['No sabe/No está seguro', 'Se rehúsa a responder'])]\n",
    "\n",
    "# Agrupar el DataFrame por 'Toma_mucho_Alcohol?' y contar las ocurrencias para cada tipo de cáncer\n",
    "df_grouped = df_filteredT.groupby(['Que_tipo_de_cancer?', 'Toma_mucho_Alcohol?']).size().unstack(fill_value=0)\n",
    "\n",
    "# Crear gráficos de tortas para cada tipo de cáncer\n",
    "for cancer_type in valores_cancer:\n",
    "    df_cancer_type = df_grouped.loc[cancer_type] if cancer_type in df_grouped.index else pd.Series()\n",
    "\n",
    "    if not df_cancer_type.empty and df_cancer_type.sum() > 0:\n",
    "        plt.figure(figsize=(8, 6))\n",
    "        df_cancer_type.plot(kind='pie', autopct='%1.1f%%', startangle=90)\n",
    "        plt.title(f'Distribución de Toma_mucho_Alcohol? para Tipo de Cáncer = {cancer_type}')\n",
    "        plt.ylabel('')  # Ocultar la etiqueta del eje y\n",
    "        plt.grid(axis='y', linestyle='--', alpha=0.7)\n",
    "        plt.tight_layout()  # Ajustar el diseño para que todo se muestre bien\n",
    "        plt.show()\n",
    "    else:\n",
    "        print(f'No hay datos para el Tipo de Cáncer = {cancer_type}')"
   ]
  },
  {
   "cell_type": "markdown",
   "metadata": {
    "id": "doTX9CMGvDxJ"
   },
   "source": [
    "No parece que la toma de mucho alcohol tenga efecto sobre el desarrollo de cancer."
   ]
  },
  {
   "cell_type": "code",
   "execution_count": null,
   "metadata": {
    "colab": {
     "base_uri": "https://localhost:8080/",
     "height": 1000
    },
    "id": "Kuqiop2Oni75",
    "outputId": "0c0b9a18-8222-4403-bdf6-49a37d33d295"
   },
   "outputs": [],
   "source": [
    "# Filtrar el DataFrame para excluir los valores 'No sabe/No está seguro' y 'Se rehúsa a responder'\n",
    "df_filteredT = df_analisis[~df_analisis['Acitividad_Fisica?'].isin(['No se sabe', 'Se Rehusa a responder'])]\n",
    "\n",
    "# Agrupar el DataFrame por 'TRANS?' y 'Tuvo_Cancer?', y contar las ocurrencias\n",
    "df_grouped = df_filteredT.groupby(['Acitividad_Fisica?', 'Tuvo_Cancer?']).size().unstack(fill_value=0)\n",
    "\n",
    "# Crear gráficos de tortas para cada combinación de 'Tuvo_Cancer?'\n",
    "for category in df_grouped.index:\n",
    "    plt.figure(figsize=(8, 6))\n",
    "    df_grouped.loc[category].plot(kind='pie', autopct='%1.1f%%', startangle=90)\n",
    "    plt.title(f'Distribución de Tuvo_Cancer? para Acitividad_Fisica? = {category}')\n",
    "    plt.ylabel('')  # Ocultar la etiqueta del eje y\n",
    "    plt.grid(axis='y', linestyle='--', alpha=0.7)\n",
    "    plt.tight_layout()  # Ajustar el diseño para que todo se muestre bien\n",
    "    plt.show()\n",
    "\n",
    "    #Fuma?\tToma_mucho_Alcohol?\tAcitividad_Fisica?"
   ]
  },
  {
   "cell_type": "code",
   "execution_count": null,
   "metadata": {
    "colab": {
     "base_uri": "https://localhost:8080/",
     "height": 1000
    },
    "id": "o3Oepbuyva8h",
    "outputId": "8c6aeaf6-99f4-427f-d4e5-39d6c63fc3df"
   },
   "outputs": [],
   "source": [
    "# Valores específicos para 'Que_tipo_de_cancer?'\n",
    "valores_cancer = ['Ninguno', 'Piel (no melanoma)', 'Mama', 'Melanoma', 'Próstata', 'Piel (no se sabe qué tipo)' , 'Pulmón', 'Garganta - faringe', 'Hígado']\n",
    "\n",
    "# Filtrar el DataFrame para los valores específicos en 'Que_tipo_de_cancer?'\n",
    "df_filtered_cancer = df_filtrado2[df_filtrado2['Que_tipo_de_cancer?'].isin(valores_cancer)]\n",
    "\n",
    "# Filtrar el DataFrame para excluir los valores 'No sabe/No está seguro' y 'Se rehúsa a responder' en 'Fuma?'\n",
    "df_filteredT = df_filtered_cancer[~df_filtered_cancer['Acitividad_Fisica?'].isin(['No sabe/No está seguro', 'Se rehúsa a responder'])]\n",
    "\n",
    "# Agrupar el DataFrame por 'Acitividad_Fisica?' y contar las ocurrencias para cada tipo de cáncer\n",
    "df_grouped = df_filteredT.groupby(['Que_tipo_de_cancer?', 'Acitividad_Fisica?']).size().unstack(fill_value=0)\n",
    "\n",
    "# Crear gráficos de tortas para cada tipo de cáncer\n",
    "for cancer_type in valores_cancer:\n",
    "    df_cancer_type = df_grouped.loc[cancer_type] if cancer_type in df_grouped.index else pd.Series()\n",
    "\n",
    "    if not df_cancer_type.empty and df_cancer_type.sum() > 0:\n",
    "        plt.figure(figsize=(8, 6))\n",
    "        df_cancer_type.plot(kind='pie', autopct='%1.1f%%', startangle=90)\n",
    "        plt.title(f'Distribución de Acitividad_Fisica? para Tipo de Cáncer = {cancer_type}')\n",
    "        plt.ylabel('')  # Ocultar la etiqueta del eje y\n",
    "        plt.grid(axis='y', linestyle='--', alpha=0.7)\n",
    "        plt.tight_layout()  # Ajustar el diseño para que todo se muestre bien\n",
    "        plt.show()\n",
    "    else:\n",
    "        print(f'No hay datos para el Tipo de Cáncer = {cancer_type}')"
   ]
  },
  {
   "cell_type": "markdown",
   "metadata": {
    "id": "lovpyvH5gTuy"
   },
   "source": [
    "Según los graficos la Acitividad_Fisica pareciera disminuir la probabilidad de cancer."
   ]
  },
  {
   "cell_type": "code",
   "execution_count": null,
   "metadata": {
    "colab": {
     "base_uri": "https://localhost:8080/",
     "height": 943
    },
    "id": "Y1HdRgLrjvm3",
    "outputId": "157181cd-b2ac-477a-85dc-233b0bcb1f45"
   },
   "outputs": [],
   "source": [
    "# Filtramos solo las columnas numéricas\n",
    "df_numerico = df_filtrado.select_dtypes(include=[int, float])\n",
    "\n",
    "# Calculamos la matriz de correlación\n",
    "correlation_matrix = df_numerico.corr()\n",
    "\n",
    "# Creamos el mapa de calor\n",
    "plt.figure(figsize=(20, 18))\n",
    "sns.heatmap(correlation_matrix, annot=True, cmap='coolwarm', vmin=-1, vmax=1)\n",
    "plt.title('Heatmap de Correlación entre todas las variables')\n",
    "plt.show()"
   ]
  },
  {
   "cell_type": "markdown",
   "metadata": {
    "id": "plIJPy6DyQBi"
   },
   "source": [
    "Segun este grafico de correlaciones parece haber correlacion entre Histerectomía y el consumo de alcohol y fumar."
   ]
  },
  {
   "cell_type": "code",
   "execution_count": null,
   "metadata": {
    "colab": {
     "base_uri": "https://localhost:8080/",
     "height": 373
    },
    "id": "wFBj61RhExlx",
    "outputId": "98c46e2a-120b-439e-a5e2-4a426742b0a0"
   },
   "outputs": [],
   "source": [
    "# Combinaciones a analizar\n",
    "combinaciones = [\n",
    "    ('Si', 'Si'),\n",
    "    ('No', 'Si'),\n",
    "    ('Si', 'No'),\n",
    "    ('No', 'No')]\n",
    "# Crear una figura con dos subgráficos\n",
    "fig, axs = plt.subplots(1, 2, figsize=(16, 6))\n",
    "\n",
    "# Valores específicos para 'Que_tipo_de_cancer?'\n",
    "tipos_cancer = ['Útero/Uterino', 'Ninguno']\n",
    "\n",
    "for i, tipo_cancer in enumerate(tipos_cancer):\n",
    "    # Filtrar el DataFrame para el valor específico en 'Que_tipo_de_cancer?'\n",
    "    df_filtered = df_filtrado2[df_filtrado2['Que_tipo_de_cancer?'] == tipo_cancer]\n",
    "\n",
    "    # Filtrar el DataFrame para excluir los valores 'No sabe/No está seguro' y 'Se rehúsa a responder' en 'Fuma?' y 'Toma_mucho_Alcohol?'\n",
    "    df_filtered = df_filtered[~df_filtered['Fuma?'].isin(['No sabe/No está seguro', 'Se rehúsa a responder'])]\n",
    "    df_filtered = df_filtered[~df_filtered['Toma_mucho_Alcohol?'].isin(['No sabe/No está seguro', 'Se rehúsa a responder'])]\n",
    "\n",
    "    # Contar las ocurrencias para las combinaciones deseadas\n",
    "    conteo_combinaciones = []\n",
    "    for toma_alcohol, fuma in combinaciones:\n",
    "        count = df_filtered[\n",
    "            (df_filtered['Toma_mucho_Alcohol?'] == toma_alcohol) &\n",
    "            (df_filtered['Fuma?'] == fuma)\n",
    "        ].shape[0]\n",
    "        conteo_combinaciones.append(count)\n",
    "\n",
    "    # Crear el gráfico de torta\n",
    "    axs[i].pie(conteo_combinaciones,\n",
    "              labels=[f'Toma={toma_alcohol}, Fuma={fuma}' for toma_alcohol, fuma in combinaciones],\n",
    "              autopct='%1.1f%%', startangle=90,\n",
    "              colors=plt.cm.Paired(range(len(combinaciones))))\n",
    "    axs[i].set_title(f'Distribución de Combinaciones para Tipo de Cáncer = {tipo_cancer}')\n",
    "\n",
    "plt.tight_layout()  # Ajustar el diseño para que todo se muestre bien\n",
    "plt.show()"
   ]
  },
  {
   "cell_type": "markdown",
   "metadata": {
    "id": "7OdM3HT2Go8x"
   },
   "source": [
    "Pareciera que no hay un cambio apreciable en el cancer de Útero respecto a si toma y/o fuma o no lo hace, pero si filtramos solo para cuando el sexo es el femenino, lo cual deberia ser la unica forma de que haya este tipo de cancer, podemos observar:"
   ]
  },
  {
   "cell_type": "code",
   "execution_count": null,
   "metadata": {
    "colab": {
     "base_uri": "https://localhost:8080/",
     "height": 1000
    },
    "id": "mHxaNa7oF5rn",
    "outputId": "55ef267e-2ad2-4d3d-ba5c-0d85d61e6492"
   },
   "outputs": [],
   "source": [
    "# Crear una función para generar gráficos de torta\n",
    "def plot_pie_chart(df, tipo_cancer, title):\n",
    "    # Filtrar el DataFrame para el valor específico en 'Que_tipo_de_cancer?'\n",
    "    df_filtered = df[df['Que_tipo_de_cancer?'] == tipo_cancer]\n",
    "\n",
    "    # Filtrar el DataFrame para el valor específico en 'Sexo'\n",
    "    df_filtered = df_filtered[df_filtered['Sexo'] == 'Femenino']\n",
    "\n",
    "    # Filtrar el DataFrame para excluir los valores 'No sabe/No está seguro' y 'Se rehúsa a responder' en 'Fuma?' y 'Toma_mucho_Alcohol?'\n",
    "    df_filtered = df_filtered[~df_filtered['Fuma?'].isin(['No sabe/No está seguro', 'Se rehúsa a responder'])]\n",
    "    df_filtered = df_filtered[~df_filtered['Toma_mucho_Alcohol?'].isin(['No sabe/No está seguro', 'Se rehúsa a responder'])]\n",
    "\n",
    "    # Contar las ocurrencias para las combinaciones deseadas\n",
    "    combinaciones = [\n",
    "        ('Si', 'Si'),\n",
    "        ('No', 'Si'),\n",
    "        ('Si', 'No'),\n",
    "        ('No', 'No')\n",
    "    ]\n",
    "\n",
    "    conteo_combinaciones = []\n",
    "    for toma_alcohol, fuma in combinaciones:\n",
    "        count = df_filtered[\n",
    "            (df_filtered['Toma_mucho_Alcohol?'] == toma_alcohol) &\n",
    "            (df_filtered['Fuma?'] == fuma)\n",
    "        ].shape[0]\n",
    "        conteo_combinaciones.append(count)\n",
    "\n",
    "    # Crear el gráfico de torta\n",
    "    plt.figure(figsize=(8, 6))\n",
    "    plt.pie(conteo_combinaciones, labels=[f'Toma={toma_alcohol}, Fuma={fuma}' for toma_alcohol, fuma in combinaciones],\n",
    "            autopct='%1.1f%%', startangle=90, colors=plt.cm.Paired(range(len(combinaciones))))\n",
    "    plt.title(title)\n",
    "    plt.tight_layout()  # Ajustar el diseño para que todo se muestre bien\n",
    "\n",
    "    # Mostrar el gráfico\n",
    "    plt.show()\n",
    "\n",
    "# Valor específico para 'Que_tipo_de_cancer?' = 'Útero/Uterino'\n",
    "plot_pie_chart(df_filtrado2, 'Útero/Uterino',\n",
    "               'Distribución de Combinaciones de Toma_mucho_Alcohol? y Fuma? para Tipo de Cáncer = Útero/Uterino')\n",
    "\n",
    "# Valor específico para 'Que_tipo_de_cancer?' = 'Ninguno'\n",
    "plot_pie_chart(df_filtrado2, 'Ninguno',\n",
    "               'Distribución de Combinaciones de Toma_mucho_Alcohol? y Fuma? para Tipo de Cáncer = Ninguno')\n"
   ]
  },
  {
   "cell_type": "markdown",
   "metadata": {
    "id": "pSEY7rqiHqA0"
   },
   "source": [
    "Mayor porcentaje de personas que si fuman."
   ]
  },
  {
   "cell_type": "markdown",
   "metadata": {
    "id": "duO76fQ5IV3h"
   },
   "source": [
    "# Preparación para los Modelos"
   ]
  },
  {
   "cell_type": "markdown",
   "metadata": {
    "id": "YM8aWbaWIdOQ"
   },
   "source": [
    "En base a las variables, se probarán diferentes modelos para comprobar si efectivamente son funcionales y cual da mejores resultados.\n",
    "Para este punto el dataframe esta bastante limitado ya que todos las columnas correspondientes al tipo de cáncer tienen sentido para predecir si tiene cáncer o no. Quizás si podrían utilizarse para predecir que tipo de cáncer tienen."
   ]
  },
  {
   "cell_type": "code",
   "execution_count": null,
   "metadata": {
    "colab": {
     "base_uri": "https://localhost:8080/",
     "height": 0
    },
    "id": "5Kiom1fw9uwT",
    "outputId": "3399c8af-72ff-44a8-c99c-fd2bb817ae19"
   },
   "outputs": [],
   "source": [
    "df_analisis"
   ]
  },
  {
   "cell_type": "markdown",
   "metadata": {
    "id": "JNv2XFpAf9sA"
   },
   "source": [
    "Si bien inicialmente la tabla ya tenía valores numéricos originalmente, por más que sea redundante realizare un Encoder ya que en este caso me sirve de práctica."
   ]
  },
  {
   "cell_type": "code",
   "execution_count": null,
   "metadata": {
    "colab": {
     "base_uri": "https://localhost:8080/"
    },
    "id": "5_B8FrKScjdd",
    "outputId": "3ee44374-4e56-414b-af10-3f37985d5703"
   },
   "outputs": [],
   "source": [
    "# label encoder para la categoricas\n",
    "column=['Tuvo_Cancer?','Sexo','Fuma?','Toma_mucho_Alcohol?','Acitividad_Fisica?','Edad','TRANS?']\n",
    "\n",
    "df_analisis[column] = df_analisis[column].apply(LabelEncoder().fit_transform)"
   ]
  },
  {
   "cell_type": "code",
   "execution_count": null,
   "metadata": {
    "colab": {
     "base_uri": "https://localhost:8080/",
     "height": 0
    },
    "id": "_9hhRwDwddLR",
    "outputId": "53378430-0346-4e31-c373-10b2b48758d3"
   },
   "outputs": [],
   "source": [
    "df_analisis"
   ]
  },
  {
   "cell_type": "code",
   "execution_count": null,
   "metadata": {
    "colab": {
     "base_uri": "https://localhost:8080/"
    },
    "id": "RkNDIdDifJDH",
    "outputId": "049df096-d23c-4bc8-b131-f933576bada2"
   },
   "outputs": [],
   "source": [
    "# Escalar las variables numéricas 'IMC' y 'Edad'\n",
    "scaler = StandardScaler()\n",
    "df_analisis[['IMC', 'Edad']] = scaler.fit_transform(df_analisis[['IMC', 'Edad']])"
   ]
  },
  {
   "cell_type": "markdown",
   "metadata": {
    "id": "XRPMxycd-EQs"
   },
   "source": [
    "Se separan los datos en variables objetivo (Y) y las variables explicatorias o características(X). Además se establece los subconjuntos de entrenamiento y de prueba. Estos se utilizan en todos los modelos para que la comparación sea correcta."
   ]
  },
  {
   "cell_type": "code",
   "execution_count": null,
   "metadata": {
    "id": "7v6VC3gofYck"
   },
   "outputs": [],
   "source": [
    "# Separar las características (X) y la variable objetivo (y)\n",
    "X = df_analisis.drop('Tuvo_Cancer?', axis=1)  # Características predictoras\n",
    "y = df_analisis['Tuvo_Cancer?']  # Variable de respuesta\n",
    "\n",
    "# Dividir el dataset en conjuntos de entrenamiento y prueba\n",
    "X_train, X_test, y_train, y_test = train_test_split(X, y, test_size=0.2, random_state=42)"
   ]
  },
  {
   "cell_type": "markdown",
   "metadata": {
    "id": "m0YG_cuYDoP9"
   },
   "source": [
    "Aclaro que tanto la implementación como los ajustes de los modelos son similares entre sí, por lo que solo aclaro la primera vez que se está haciendo y no lo mismo en cada modelo. Además la carga de librerías específicas para los modelos o ajustes los dejo en cada código de este apartado ya que una vez elegido el método no tendría sentido utilizar los demás, por lo que no sería necesario importar todas las librerías y de esta manera es más simple de tomar solo las librerías necesarias."
   ]
  },
  {
   "cell_type": "markdown",
   "metadata": {
    "id": "Z7ylYlbJ3aK_"
   },
   "source": [
    "# Logistic Regression"
   ]
  },
  {
   "cell_type": "markdown",
   "metadata": {
    "id": "P_U9zK5zFuyT"
   },
   "source": [
    "Importar librería y creación y entrenamiento del modelo:"
   ]
  },
  {
   "cell_type": "code",
   "execution_count": null,
   "metadata": {
    "colab": {
     "base_uri": "https://localhost:8080/",
     "height": 0
    },
    "id": "oYOeWqv6fdWq",
    "outputId": "59bdacf7-d443-4c40-921a-443c8e143f23"
   },
   "outputs": [],
   "source": [
    "from sklearn.linear_model import LogisticRegression\n",
    "\n",
    "# Crear y entrenar el modelo de regresión logística\n",
    "logreg = LogisticRegression()\n",
    "logreg.fit(X_train, y_train)"
   ]
  },
  {
   "cell_type": "markdown",
   "metadata": {
    "id": "-7SOsoKRDNYO"
   },
   "source": [
    "Testeo y evaluación del modelo:"
   ]
  },
  {
   "cell_type": "code",
   "execution_count": null,
   "metadata": {
    "colab": {
     "base_uri": "https://localhost:8080/"
    },
    "id": "DQ7i4KGhflfp",
    "outputId": "fd00aec5-5ead-4057-b494-2fd2fc62ee03"
   },
   "outputs": [],
   "source": [
    "from sklearn.metrics import classification_report, confusion_matrix\n",
    "\n",
    "# Predicciones\n",
    "y_pred = logreg.predict(X_test)\n",
    "\n",
    "# Matriz de confusión\n",
    "print(\"Matriz de confusión:\")\n",
    "print(confusion_matrix(y_test, y_pred))\n",
    "\n",
    "# Informe de clasificación\n",
    "print(\"Informe de clasificación:\")\n",
    "print(classification_report(y_test, y_pred))"
   ]
  },
  {
   "cell_type": "markdown",
   "metadata": {
    "id": "WFPKoootCEoK"
   },
   "source": [
    "Este resultado básicamente asume que ningún caso tiene cáncer. Esto se da porque la diferencia entre casos negativos y positivos es enorme.  Para esto aplico SMOTE, lo cual crea datos ficticios pero basado en los datos minoritarios(Cáncer positivo) para aumentar su número y disminuir la precisión:"
   ]
  },
  {
   "cell_type": "code",
   "execution_count": 63,
   "metadata": {
    "colab": {
     "base_uri": "https://localhost:8080/"
    },
    "id": "2QoFXd9XgGsx",
    "outputId": "96b4fb48-df40-4969-fbb4-dfe3fad3dd3b"
   },
   "outputs": [
    {
     "name": "stdout",
     "output_type": "stream",
     "text": [
      "Matriz de confusión:\n",
      "[[44455 30559]\n",
      " [ 1070  3182]]\n",
      "Informe de clasificación:\n",
      "              precision    recall  f1-score   support\n",
      "\n",
      "           0       0.98      0.59      0.74     75014\n",
      "           1       0.09      0.75      0.17      4252\n",
      "\n",
      "    accuracy                           0.60     79266\n",
      "   macro avg       0.54      0.67      0.45     79266\n",
      "weighted avg       0.93      0.60      0.71     79266\n",
      "\n"
     ]
    }
   ],
   "source": [
    "from imblearn.over_sampling import SMOTE\n",
    "\n",
    "# Aplicar SMOTE para balancear las clases\n",
    "smote = SMOTE(random_state=42)\n",
    "X_resampled, y_resampled = smote.fit_resample(X_train, y_train)\n",
    "\n",
    "# Reentrenar el modelo con los datos balanceados\n",
    "logreg = LogisticRegression()\n",
    "logreg.fit(X_resampled, y_resampled)\n",
    "\n",
    "# Evaluar nuevamente con el conjunto de prueba\n",
    "y_pred = logreg.predict(X_test)\n",
    "\n",
    "# Matriz de confusión y reporte de clasificación\n",
    "print(\"Matriz de confusión:\")\n",
    "print(confusion_matrix(y_test, y_pred))\n",
    "\n",
    "print(\"Informe de clasificación:\")\n",
    "print(classification_report(y_test, y_pred))"
   ]
  },
  {
   "cell_type": "markdown",
   "metadata": {
    "id": "NuJx8mIEGkd2"
   },
   "source": [
    "Mejoro mucho, pero la precisión de la clase 1 es muy mala al igual que otros valores. Es por esto que se ajusta el umbral de decisión, esto cambia el límite que pone el algoritmo para definir si es una clase o la otra, lo cual afecta al recall y la precisión. Por ejemplo captare más verdaderos positivos pero tendré más falsos positivos."
   ]
  },
  {
   "cell_type": "code",
   "execution_count": 64,
   "metadata": {
    "colab": {
     "base_uri": "https://localhost:8080/"
    },
    "id": "x2JrH33ngYbh",
    "outputId": "3752b650-bada-4161-c94b-077a8fe34361"
   },
   "outputs": [
    {
     "name": "stdout",
     "output_type": "stream",
     "text": [
      "Matriz de confusión:\n",
      "[[26124 48890]\n",
      " [  240  4012]]\n",
      "Informe de clasificación:\n",
      "              precision    recall  f1-score   support\n",
      "\n",
      "           0       0.99      0.35      0.52     75014\n",
      "           1       0.08      0.94      0.14      4252\n",
      "\n",
      "    accuracy                           0.38     79266\n",
      "   macro avg       0.53      0.65      0.33     79266\n",
      "weighted avg       0.94      0.38      0.50     79266\n",
      "\n"
     ]
    }
   ],
   "source": [
    "y_pred_proba = logreg.predict_proba(X_test)[:, 1]\n",
    "y_pred_adjusted = (y_pred_proba >= 0.3).astype(int)  # Ajusta el umbral aquí\n",
    "\n",
    "print(\"Matriz de confusión:\")\n",
    "print(confusion_matrix(y_test, y_pred_adjusted))\n",
    "\n",
    "print(\"Informe de clasificación:\")\n",
    "print(classification_report(y_test, y_pred_adjusted))"
   ]
  },
  {
   "cell_type": "code",
   "execution_count": 65,
   "metadata": {
    "colab": {
     "base_uri": "https://localhost:8080/"
    },
    "id": "zn6qqP_88Q1Z",
    "outputId": "2df76e81-dee2-436d-bc38-7a5ee1ae4bf4"
   },
   "outputs": [
    {
     "name": "stdout",
     "output_type": "stream",
     "text": [
      "Matriz de confusión:\n",
      "[[26124 48890]\n",
      " [  240  4012]]\n",
      "Informe de clasificación:\n",
      "              precision    recall  f1-score   support\n",
      "\n",
      "           0       0.99      0.35      0.52     75014\n",
      "           1       0.08      0.94      0.14      4252\n",
      "\n",
      "    accuracy                           0.38     79266\n",
      "   macro avg       0.53      0.65      0.33     79266\n",
      "weighted avg       0.94      0.38      0.50     79266\n",
      "\n"
     ]
    }
   ],
   "source": [
    "# Ajustar el umbral a 0.4\n",
    "threshold = 0.3\n",
    "y_pred_adjusted = (y_pred_proba >= threshold).astype(int)\n",
    "\n",
    "# Evaluar nuevamente con el umbral ajustado\n",
    "print(\"Matriz de confusión:\")\n",
    "print(confusion_matrix(y_test, y_pred_adjusted))\n",
    "\n",
    "print(\"Informe de clasificación:\")\n",
    "print(classification_report(y_test, y_pred_adjusted))\n"
   ]
  },
  {
   "cell_type": "markdown",
   "metadata": {
    "id": "Ac6VTq9n3jVm"
   },
   "source": [
    "# Decision Tree\n"
   ]
  },
  {
   "cell_type": "code",
   "execution_count": 66,
   "metadata": {
    "id": "FOKq4dYz3iHD"
   },
   "outputs": [],
   "source": [
    "from sklearn.tree import DecisionTreeClassifier\n",
    "from sklearn.metrics import classification_report, confusion_matrix"
   ]
  },
  {
   "cell_type": "code",
   "execution_count": 67,
   "metadata": {
    "colab": {
     "base_uri": "https://localhost:8080/",
     "height": 0
    },
    "id": "tDMNEOWL3vmd",
    "outputId": "01f8fe05-0a2a-4cfd-8492-dc3bb54d1358"
   },
   "outputs": [
    {
     "data": {
      "text/html": [
       "<style>#sk-container-id-2 {\n",
       "  /* Definition of color scheme common for light and dark mode */\n",
       "  --sklearn-color-text: black;\n",
       "  --sklearn-color-line: gray;\n",
       "  /* Definition of color scheme for unfitted estimators */\n",
       "  --sklearn-color-unfitted-level-0: #fff5e6;\n",
       "  --sklearn-color-unfitted-level-1: #f6e4d2;\n",
       "  --sklearn-color-unfitted-level-2: #ffe0b3;\n",
       "  --sklearn-color-unfitted-level-3: chocolate;\n",
       "  /* Definition of color scheme for fitted estimators */\n",
       "  --sklearn-color-fitted-level-0: #f0f8ff;\n",
       "  --sklearn-color-fitted-level-1: #d4ebff;\n",
       "  --sklearn-color-fitted-level-2: #b3dbfd;\n",
       "  --sklearn-color-fitted-level-3: cornflowerblue;\n",
       "\n",
       "  /* Specific color for light theme */\n",
       "  --sklearn-color-text-on-default-background: var(--sg-text-color, var(--theme-code-foreground, var(--jp-content-font-color1, black)));\n",
       "  --sklearn-color-background: var(--sg-background-color, var(--theme-background, var(--jp-layout-color0, white)));\n",
       "  --sklearn-color-border-box: var(--sg-text-color, var(--theme-code-foreground, var(--jp-content-font-color1, black)));\n",
       "  --sklearn-color-icon: #696969;\n",
       "\n",
       "  @media (prefers-color-scheme: dark) {\n",
       "    /* Redefinition of color scheme for dark theme */\n",
       "    --sklearn-color-text-on-default-background: var(--sg-text-color, var(--theme-code-foreground, var(--jp-content-font-color1, white)));\n",
       "    --sklearn-color-background: var(--sg-background-color, var(--theme-background, var(--jp-layout-color0, #111)));\n",
       "    --sklearn-color-border-box: var(--sg-text-color, var(--theme-code-foreground, var(--jp-content-font-color1, white)));\n",
       "    --sklearn-color-icon: #878787;\n",
       "  }\n",
       "}\n",
       "\n",
       "#sk-container-id-2 {\n",
       "  color: var(--sklearn-color-text);\n",
       "}\n",
       "\n",
       "#sk-container-id-2 pre {\n",
       "  padding: 0;\n",
       "}\n",
       "\n",
       "#sk-container-id-2 input.sk-hidden--visually {\n",
       "  border: 0;\n",
       "  clip: rect(1px 1px 1px 1px);\n",
       "  clip: rect(1px, 1px, 1px, 1px);\n",
       "  height: 1px;\n",
       "  margin: -1px;\n",
       "  overflow: hidden;\n",
       "  padding: 0;\n",
       "  position: absolute;\n",
       "  width: 1px;\n",
       "}\n",
       "\n",
       "#sk-container-id-2 div.sk-dashed-wrapped {\n",
       "  border: 1px dashed var(--sklearn-color-line);\n",
       "  margin: 0 0.4em 0.5em 0.4em;\n",
       "  box-sizing: border-box;\n",
       "  padding-bottom: 0.4em;\n",
       "  background-color: var(--sklearn-color-background);\n",
       "}\n",
       "\n",
       "#sk-container-id-2 div.sk-container {\n",
       "  /* jupyter's `normalize.less` sets `[hidden] { display: none; }`\n",
       "     but bootstrap.min.css set `[hidden] { display: none !important; }`\n",
       "     so we also need the `!important` here to be able to override the\n",
       "     default hidden behavior on the sphinx rendered scikit-learn.org.\n",
       "     See: https://github.com/scikit-learn/scikit-learn/issues/21755 */\n",
       "  display: inline-block !important;\n",
       "  position: relative;\n",
       "}\n",
       "\n",
       "#sk-container-id-2 div.sk-text-repr-fallback {\n",
       "  display: none;\n",
       "}\n",
       "\n",
       "div.sk-parallel-item,\n",
       "div.sk-serial,\n",
       "div.sk-item {\n",
       "  /* draw centered vertical line to link estimators */\n",
       "  background-image: linear-gradient(var(--sklearn-color-text-on-default-background), var(--sklearn-color-text-on-default-background));\n",
       "  background-size: 2px 100%;\n",
       "  background-repeat: no-repeat;\n",
       "  background-position: center center;\n",
       "}\n",
       "\n",
       "/* Parallel-specific style estimator block */\n",
       "\n",
       "#sk-container-id-2 div.sk-parallel-item::after {\n",
       "  content: \"\";\n",
       "  width: 100%;\n",
       "  border-bottom: 2px solid var(--sklearn-color-text-on-default-background);\n",
       "  flex-grow: 1;\n",
       "}\n",
       "\n",
       "#sk-container-id-2 div.sk-parallel {\n",
       "  display: flex;\n",
       "  align-items: stretch;\n",
       "  justify-content: center;\n",
       "  background-color: var(--sklearn-color-background);\n",
       "  position: relative;\n",
       "}\n",
       "\n",
       "#sk-container-id-2 div.sk-parallel-item {\n",
       "  display: flex;\n",
       "  flex-direction: column;\n",
       "}\n",
       "\n",
       "#sk-container-id-2 div.sk-parallel-item:first-child::after {\n",
       "  align-self: flex-end;\n",
       "  width: 50%;\n",
       "}\n",
       "\n",
       "#sk-container-id-2 div.sk-parallel-item:last-child::after {\n",
       "  align-self: flex-start;\n",
       "  width: 50%;\n",
       "}\n",
       "\n",
       "#sk-container-id-2 div.sk-parallel-item:only-child::after {\n",
       "  width: 0;\n",
       "}\n",
       "\n",
       "/* Serial-specific style estimator block */\n",
       "\n",
       "#sk-container-id-2 div.sk-serial {\n",
       "  display: flex;\n",
       "  flex-direction: column;\n",
       "  align-items: center;\n",
       "  background-color: var(--sklearn-color-background);\n",
       "  padding-right: 1em;\n",
       "  padding-left: 1em;\n",
       "}\n",
       "\n",
       "\n",
       "/* Toggleable style: style used for estimator/Pipeline/ColumnTransformer box that is\n",
       "clickable and can be expanded/collapsed.\n",
       "- Pipeline and ColumnTransformer use this feature and define the default style\n",
       "- Estimators will overwrite some part of the style using the `sk-estimator` class\n",
       "*/\n",
       "\n",
       "/* Pipeline and ColumnTransformer style (default) */\n",
       "\n",
       "#sk-container-id-2 div.sk-toggleable {\n",
       "  /* Default theme specific background. It is overwritten whether we have a\n",
       "  specific estimator or a Pipeline/ColumnTransformer */\n",
       "  background-color: var(--sklearn-color-background);\n",
       "}\n",
       "\n",
       "/* Toggleable label */\n",
       "#sk-container-id-2 label.sk-toggleable__label {\n",
       "  cursor: pointer;\n",
       "  display: block;\n",
       "  width: 100%;\n",
       "  margin-bottom: 0;\n",
       "  padding: 0.5em;\n",
       "  box-sizing: border-box;\n",
       "  text-align: center;\n",
       "}\n",
       "\n",
       "#sk-container-id-2 label.sk-toggleable__label-arrow:before {\n",
       "  /* Arrow on the left of the label */\n",
       "  content: \"▸\";\n",
       "  float: left;\n",
       "  margin-right: 0.25em;\n",
       "  color: var(--sklearn-color-icon);\n",
       "}\n",
       "\n",
       "#sk-container-id-2 label.sk-toggleable__label-arrow:hover:before {\n",
       "  color: var(--sklearn-color-text);\n",
       "}\n",
       "\n",
       "/* Toggleable content - dropdown */\n",
       "\n",
       "#sk-container-id-2 div.sk-toggleable__content {\n",
       "  max-height: 0;\n",
       "  max-width: 0;\n",
       "  overflow: hidden;\n",
       "  text-align: left;\n",
       "  /* unfitted */\n",
       "  background-color: var(--sklearn-color-unfitted-level-0);\n",
       "}\n",
       "\n",
       "#sk-container-id-2 div.sk-toggleable__content.fitted {\n",
       "  /* fitted */\n",
       "  background-color: var(--sklearn-color-fitted-level-0);\n",
       "}\n",
       "\n",
       "#sk-container-id-2 div.sk-toggleable__content pre {\n",
       "  margin: 0.2em;\n",
       "  border-radius: 0.25em;\n",
       "  color: var(--sklearn-color-text);\n",
       "  /* unfitted */\n",
       "  background-color: var(--sklearn-color-unfitted-level-0);\n",
       "}\n",
       "\n",
       "#sk-container-id-2 div.sk-toggleable__content.fitted pre {\n",
       "  /* unfitted */\n",
       "  background-color: var(--sklearn-color-fitted-level-0);\n",
       "}\n",
       "\n",
       "#sk-container-id-2 input.sk-toggleable__control:checked~div.sk-toggleable__content {\n",
       "  /* Expand drop-down */\n",
       "  max-height: 200px;\n",
       "  max-width: 100%;\n",
       "  overflow: auto;\n",
       "}\n",
       "\n",
       "#sk-container-id-2 input.sk-toggleable__control:checked~label.sk-toggleable__label-arrow:before {\n",
       "  content: \"▾\";\n",
       "}\n",
       "\n",
       "/* Pipeline/ColumnTransformer-specific style */\n",
       "\n",
       "#sk-container-id-2 div.sk-label input.sk-toggleable__control:checked~label.sk-toggleable__label {\n",
       "  color: var(--sklearn-color-text);\n",
       "  background-color: var(--sklearn-color-unfitted-level-2);\n",
       "}\n",
       "\n",
       "#sk-container-id-2 div.sk-label.fitted input.sk-toggleable__control:checked~label.sk-toggleable__label {\n",
       "  background-color: var(--sklearn-color-fitted-level-2);\n",
       "}\n",
       "\n",
       "/* Estimator-specific style */\n",
       "\n",
       "/* Colorize estimator box */\n",
       "#sk-container-id-2 div.sk-estimator input.sk-toggleable__control:checked~label.sk-toggleable__label {\n",
       "  /* unfitted */\n",
       "  background-color: var(--sklearn-color-unfitted-level-2);\n",
       "}\n",
       "\n",
       "#sk-container-id-2 div.sk-estimator.fitted input.sk-toggleable__control:checked~label.sk-toggleable__label {\n",
       "  /* fitted */\n",
       "  background-color: var(--sklearn-color-fitted-level-2);\n",
       "}\n",
       "\n",
       "#sk-container-id-2 div.sk-label label.sk-toggleable__label,\n",
       "#sk-container-id-2 div.sk-label label {\n",
       "  /* The background is the default theme color */\n",
       "  color: var(--sklearn-color-text-on-default-background);\n",
       "}\n",
       "\n",
       "/* On hover, darken the color of the background */\n",
       "#sk-container-id-2 div.sk-label:hover label.sk-toggleable__label {\n",
       "  color: var(--sklearn-color-text);\n",
       "  background-color: var(--sklearn-color-unfitted-level-2);\n",
       "}\n",
       "\n",
       "/* Label box, darken color on hover, fitted */\n",
       "#sk-container-id-2 div.sk-label.fitted:hover label.sk-toggleable__label.fitted {\n",
       "  color: var(--sklearn-color-text);\n",
       "  background-color: var(--sklearn-color-fitted-level-2);\n",
       "}\n",
       "\n",
       "/* Estimator label */\n",
       "\n",
       "#sk-container-id-2 div.sk-label label {\n",
       "  font-family: monospace;\n",
       "  font-weight: bold;\n",
       "  display: inline-block;\n",
       "  line-height: 1.2em;\n",
       "}\n",
       "\n",
       "#sk-container-id-2 div.sk-label-container {\n",
       "  text-align: center;\n",
       "}\n",
       "\n",
       "/* Estimator-specific */\n",
       "#sk-container-id-2 div.sk-estimator {\n",
       "  font-family: monospace;\n",
       "  border: 1px dotted var(--sklearn-color-border-box);\n",
       "  border-radius: 0.25em;\n",
       "  box-sizing: border-box;\n",
       "  margin-bottom: 0.5em;\n",
       "  /* unfitted */\n",
       "  background-color: var(--sklearn-color-unfitted-level-0);\n",
       "}\n",
       "\n",
       "#sk-container-id-2 div.sk-estimator.fitted {\n",
       "  /* fitted */\n",
       "  background-color: var(--sklearn-color-fitted-level-0);\n",
       "}\n",
       "\n",
       "/* on hover */\n",
       "#sk-container-id-2 div.sk-estimator:hover {\n",
       "  /* unfitted */\n",
       "  background-color: var(--sklearn-color-unfitted-level-2);\n",
       "}\n",
       "\n",
       "#sk-container-id-2 div.sk-estimator.fitted:hover {\n",
       "  /* fitted */\n",
       "  background-color: var(--sklearn-color-fitted-level-2);\n",
       "}\n",
       "\n",
       "/* Specification for estimator info (e.g. \"i\" and \"?\") */\n",
       "\n",
       "/* Common style for \"i\" and \"?\" */\n",
       "\n",
       ".sk-estimator-doc-link,\n",
       "a:link.sk-estimator-doc-link,\n",
       "a:visited.sk-estimator-doc-link {\n",
       "  float: right;\n",
       "  font-size: smaller;\n",
       "  line-height: 1em;\n",
       "  font-family: monospace;\n",
       "  background-color: var(--sklearn-color-background);\n",
       "  border-radius: 1em;\n",
       "  height: 1em;\n",
       "  width: 1em;\n",
       "  text-decoration: none !important;\n",
       "  margin-left: 1ex;\n",
       "  /* unfitted */\n",
       "  border: var(--sklearn-color-unfitted-level-1) 1pt solid;\n",
       "  color: var(--sklearn-color-unfitted-level-1);\n",
       "}\n",
       "\n",
       ".sk-estimator-doc-link.fitted,\n",
       "a:link.sk-estimator-doc-link.fitted,\n",
       "a:visited.sk-estimator-doc-link.fitted {\n",
       "  /* fitted */\n",
       "  border: var(--sklearn-color-fitted-level-1) 1pt solid;\n",
       "  color: var(--sklearn-color-fitted-level-1);\n",
       "}\n",
       "\n",
       "/* On hover */\n",
       "div.sk-estimator:hover .sk-estimator-doc-link:hover,\n",
       ".sk-estimator-doc-link:hover,\n",
       "div.sk-label-container:hover .sk-estimator-doc-link:hover,\n",
       ".sk-estimator-doc-link:hover {\n",
       "  /* unfitted */\n",
       "  background-color: var(--sklearn-color-unfitted-level-3);\n",
       "  color: var(--sklearn-color-background);\n",
       "  text-decoration: none;\n",
       "}\n",
       "\n",
       "div.sk-estimator.fitted:hover .sk-estimator-doc-link.fitted:hover,\n",
       ".sk-estimator-doc-link.fitted:hover,\n",
       "div.sk-label-container:hover .sk-estimator-doc-link.fitted:hover,\n",
       ".sk-estimator-doc-link.fitted:hover {\n",
       "  /* fitted */\n",
       "  background-color: var(--sklearn-color-fitted-level-3);\n",
       "  color: var(--sklearn-color-background);\n",
       "  text-decoration: none;\n",
       "}\n",
       "\n",
       "/* Span, style for the box shown on hovering the info icon */\n",
       ".sk-estimator-doc-link span {\n",
       "  display: none;\n",
       "  z-index: 9999;\n",
       "  position: relative;\n",
       "  font-weight: normal;\n",
       "  right: .2ex;\n",
       "  padding: .5ex;\n",
       "  margin: .5ex;\n",
       "  width: min-content;\n",
       "  min-width: 20ex;\n",
       "  max-width: 50ex;\n",
       "  color: var(--sklearn-color-text);\n",
       "  box-shadow: 2pt 2pt 4pt #999;\n",
       "  /* unfitted */\n",
       "  background: var(--sklearn-color-unfitted-level-0);\n",
       "  border: .5pt solid var(--sklearn-color-unfitted-level-3);\n",
       "}\n",
       "\n",
       ".sk-estimator-doc-link.fitted span {\n",
       "  /* fitted */\n",
       "  background: var(--sklearn-color-fitted-level-0);\n",
       "  border: var(--sklearn-color-fitted-level-3);\n",
       "}\n",
       "\n",
       ".sk-estimator-doc-link:hover span {\n",
       "  display: block;\n",
       "}\n",
       "\n",
       "/* \"?\"-specific style due to the `<a>` HTML tag */\n",
       "\n",
       "#sk-container-id-2 a.estimator_doc_link {\n",
       "  float: right;\n",
       "  font-size: 1rem;\n",
       "  line-height: 1em;\n",
       "  font-family: monospace;\n",
       "  background-color: var(--sklearn-color-background);\n",
       "  border-radius: 1rem;\n",
       "  height: 1rem;\n",
       "  width: 1rem;\n",
       "  text-decoration: none;\n",
       "  /* unfitted */\n",
       "  color: var(--sklearn-color-unfitted-level-1);\n",
       "  border: var(--sklearn-color-unfitted-level-1) 1pt solid;\n",
       "}\n",
       "\n",
       "#sk-container-id-2 a.estimator_doc_link.fitted {\n",
       "  /* fitted */\n",
       "  border: var(--sklearn-color-fitted-level-1) 1pt solid;\n",
       "  color: var(--sklearn-color-fitted-level-1);\n",
       "}\n",
       "\n",
       "/* On hover */\n",
       "#sk-container-id-2 a.estimator_doc_link:hover {\n",
       "  /* unfitted */\n",
       "  background-color: var(--sklearn-color-unfitted-level-3);\n",
       "  color: var(--sklearn-color-background);\n",
       "  text-decoration: none;\n",
       "}\n",
       "\n",
       "#sk-container-id-2 a.estimator_doc_link.fitted:hover {\n",
       "  /* fitted */\n",
       "  background-color: var(--sklearn-color-fitted-level-3);\n",
       "}\n",
       "</style><div id=\"sk-container-id-2\" class=\"sk-top-container\"><div class=\"sk-text-repr-fallback\"><pre>DecisionTreeClassifier(class_weight=&#x27;balanced&#x27;, random_state=42)</pre><b>In a Jupyter environment, please rerun this cell to show the HTML representation or trust the notebook. <br />On GitHub, the HTML representation is unable to render, please try loading this page with nbviewer.org.</b></div><div class=\"sk-container\" hidden><div class=\"sk-item\"><div class=\"sk-estimator fitted sk-toggleable\"><input class=\"sk-toggleable__control sk-hidden--visually\" id=\"sk-estimator-id-2\" type=\"checkbox\" checked><label for=\"sk-estimator-id-2\" class=\"sk-toggleable__label fitted sk-toggleable__label-arrow fitted\">&nbsp;&nbsp;DecisionTreeClassifier<a class=\"sk-estimator-doc-link fitted\" rel=\"noreferrer\" target=\"_blank\" href=\"https://scikit-learn.org/1.5/modules/generated/sklearn.tree.DecisionTreeClassifier.html\">?<span>Documentation for DecisionTreeClassifier</span></a><span class=\"sk-estimator-doc-link fitted\">i<span>Fitted</span></span></label><div class=\"sk-toggleable__content fitted\"><pre>DecisionTreeClassifier(class_weight=&#x27;balanced&#x27;, random_state=42)</pre></div> </div></div></div></div>"
      ],
      "text/plain": [
       "DecisionTreeClassifier(class_weight='balanced', random_state=42)"
      ]
     },
     "execution_count": 67,
     "metadata": {},
     "output_type": "execute_result"
    }
   ],
   "source": [
    "# Crear el modelo de árbol de decisión\n",
    "tree_model = DecisionTreeClassifier(random_state=42, class_weight='balanced')\n",
    "\n",
    "# Entrenar el modelo\n",
    "tree_model.fit(X_train, y_train)"
   ]
  },
  {
   "cell_type": "code",
   "execution_count": 68,
   "metadata": {
    "id": "My-abGpw34We"
   },
   "outputs": [],
   "source": [
    "y_pred_tree = tree_model.predict(X_test)"
   ]
  },
  {
   "cell_type": "code",
   "execution_count": 69,
   "metadata": {
    "colab": {
     "base_uri": "https://localhost:8080/"
    },
    "id": "0dwQDQnd39CJ",
    "outputId": "5364f899-d5b2-4a1e-8355-6b0650fa7d37"
   },
   "outputs": [
    {
     "name": "stdout",
     "output_type": "stream",
     "text": [
      "Matriz de confusión:\n",
      "[[56489 18525]\n",
      " [ 2458  1794]]\n",
      "Informe de clasificación:\n",
      "              precision    recall  f1-score   support\n",
      "\n",
      "           0       0.96      0.75      0.84     75014\n",
      "           1       0.09      0.42      0.15      4252\n",
      "\n",
      "    accuracy                           0.74     79266\n",
      "   macro avg       0.52      0.59      0.49     79266\n",
      "weighted avg       0.91      0.74      0.81     79266\n",
      "\n"
     ]
    }
   ],
   "source": [
    "print(\"Matriz de confusión:\")\n",
    "print(confusion_matrix(y_test, y_pred_tree))\n",
    "\n",
    "print(\"Informe de clasificación:\")\n",
    "print(classification_report(y_test, y_pred_tree))"
   ]
  },
  {
   "cell_type": "markdown",
   "metadata": {
    "id": "_nwL_NhWKxWw"
   },
   "source": [
    "En este caso se utiliza GridSearchCV cuya función es buscar los mejores hiperparámetros probando diferentes combinaciones. Esto tipo de análisis toma tiempo, por lo que el código aplicado lo comento y después se corre con los mejores hiperparámetros obtenidos."
   ]
  },
  {
   "cell_type": "code",
   "execution_count": 70,
   "metadata": {
    "id": "6e_9ADlP4URj"
   },
   "outputs": [],
   "source": [
    "#from sklearn.model_selection import GridSearchCV\n",
    "\n",
    "#param_grid = {\n",
    "#    'max_depth': [3, 5, 10, None],\n",
    "#    'min_samples_split': [2, 10, 20],\n",
    "#    'min_samples_leaf': [1, 5, 10]\n",
    "#}\n",
    "\n",
    "#grid_search = GridSearchCV(DecisionTreeClassifier(random_state=42, class_weight='balanced'), param_grid, cv=5, scoring='f1')\n",
    "#grid_search.fit(X_train, y_train)\n",
    "\n",
    "#print(\"Mejores parámetros:\", grid_search.best_params_)\n"
   ]
  },
  {
   "cell_type": "code",
   "execution_count": 71,
   "metadata": {
    "id": "7ufueyb_4Q71"
   },
   "outputs": [],
   "source": [
    "tree_model = DecisionTreeClassifier(random_state=42, class_weight='balanced', max_depth=5)\n"
   ]
  },
  {
   "cell_type": "code",
   "execution_count": 72,
   "metadata": {
    "colab": {
     "base_uri": "https://localhost:8080/"
    },
    "id": "wFC2ztxE5Gol",
    "outputId": "197de993-7f7d-4ed0-94c6-eada0cae5a2d"
   },
   "outputs": [
    {
     "name": "stdout",
     "output_type": "stream",
     "text": [
      "Matriz de confusión (Optimizado):\n",
      "[[43548 31466]\n",
      " [  880  3372]]\n",
      "Informe de clasificación (Optimizado):\n",
      "              precision    recall  f1-score   support\n",
      "\n",
      "           0       0.98      0.58      0.73     75014\n",
      "           1       0.10      0.79      0.17      4252\n",
      "\n",
      "    accuracy                           0.59     79266\n",
      "   macro avg       0.54      0.69      0.45     79266\n",
      "weighted avg       0.93      0.59      0.70     79266\n",
      "\n"
     ]
    }
   ],
   "source": [
    "# Entrenar el modelo de árbol de decisión con los mejores parámetros\n",
    "tree_model_optimized = DecisionTreeClassifier(random_state=42, class_weight='balanced',\n",
    "                                              max_depth=5, min_samples_leaf=1, min_samples_split=2)\n",
    "tree_model_optimized.fit(X_train, y_train)\n",
    "\n",
    "# Realizar predicciones con el modelo optimizado\n",
    "y_pred_tree_optimized = tree_model_optimized.predict(X_test)\n",
    "\n",
    "# Evaluar el modelo optimizado\n",
    "print(\"Matriz de confusión (Optimizado):\")\n",
    "print(confusion_matrix(y_test, y_pred_tree_optimized))\n",
    "\n",
    "print(\"Informe de clasificación (Optimizado):\")\n",
    "print(classification_report(y_test, y_pred_tree_optimized))"
   ]
  },
  {
   "cell_type": "markdown",
   "metadata": {
    "id": "VVEK1wF06zKC"
   },
   "source": [
    "# Random Forest"
   ]
  },
  {
   "cell_type": "code",
   "execution_count": 73,
   "metadata": {
    "id": "WHH5-Jof63Ct"
   },
   "outputs": [],
   "source": [
    "from sklearn.ensemble import RandomForestClassifier\n",
    "from sklearn.model_selection import train_test_split, GridSearchCV\n",
    "from sklearn.metrics import confusion_matrix, classification_report"
   ]
  },
  {
   "cell_type": "code",
   "execution_count": 74,
   "metadata": {
    "id": "nnjznhZO7C8X"
   },
   "outputs": [],
   "source": [
    "# Separar variables predictoras (X) y variable objetivo (y)\n",
    "X = df_analisis.drop('Tuvo_Cancer?', axis=1)\n",
    "y = df_analisis['Tuvo_Cancer?']\n",
    "\n",
    "# Dividir el conjunto de datos en entrenamiento y prueba\n",
    "X_train, X_test, y_train, y_test = train_test_split(X, y, test_size=0.3, random_state=42)\n",
    "\n",
    "# Entrenar el modelo Random Forest\n",
    "rf = RandomForestClassifier(random_state=42)\n",
    "rf.fit(X_train, y_train)\n",
    "\n",
    "# Hacer predicciones\n",
    "y_pred = rf.predict(X_test)\n"
   ]
  },
  {
   "cell_type": "code",
   "execution_count": 75,
   "metadata": {
    "colab": {
     "base_uri": "https://localhost:8080/"
    },
    "id": "rjJ1Y0-g7OE6",
    "outputId": "b681eef6-5bb1-4cea-bd18-6fdff95e604d"
   },
   "outputs": [
    {
     "name": "stdout",
     "output_type": "stream",
     "text": [
      "Matriz de confusión:\n",
      "[[111083   1517]\n",
      " [  6139    159]]\n",
      "Informe de clasificación:\n",
      "              precision    recall  f1-score   support\n",
      "\n",
      "           0       0.95      0.99      0.97    112600\n",
      "           1       0.09      0.03      0.04      6298\n",
      "\n",
      "    accuracy                           0.94    118898\n",
      "   macro avg       0.52      0.51      0.50    118898\n",
      "weighted avg       0.90      0.94      0.92    118898\n",
      "\n"
     ]
    }
   ],
   "source": [
    "# Matriz de confusión\n",
    "print(\"Matriz de confusión:\")\n",
    "print(confusion_matrix(y_test, y_pred))\n",
    "\n",
    "# Informe de clasificación\n",
    "print(\"Informe de clasificación:\")\n",
    "print(classification_report(y_test, y_pred))\n"
   ]
  },
  {
   "cell_type": "code",
   "execution_count": 76,
   "metadata": {
    "id": "GrWppAgx7UEc"
   },
   "outputs": [],
   "source": [
    "#Se utilizo este codigo para buscar los parametros optimos, pero lo comento ya que tarda demasiado tiempo\n",
    "# # Definir los hiperparámetros a optimizar\n",
    "# param_grid = {\n",
    "#     'n_estimators': [100, 200, 300],\n",
    "#     'max_depth': [5, 10, 15],\n",
    "#     'min_samples_split': [2, 5, 10],\n",
    "#     'min_samples_leaf': [1, 2, 4]\n",
    "# }\n",
    "\n",
    "# # Usar GridSearchCV para buscar los mejores hiperparámetros\n",
    "# rf_grid = GridSearchCV(estimator=RandomForestClassifier(random_state=42),\n",
    "#                        param_grid=param_grid, cv=5, verbose=2, n_jobs=-1)\n",
    "\n",
    "# # Entrenar el modelo optimizado\n",
    "# rf_grid.fit(X_train, y_train)\n",
    "\n",
    "# # Ver los mejores hiperparámetros\n",
    "# print(\"Mejores parámetros:\", rf_grid.best_params_)\n",
    "\n",
    "# # Predecir con el modelo optimizado\n",
    "# y_pred_optimizado = rf_grid.best_estimator_.predict(X_test)\n",
    "\n",
    "# # Evaluar el modelo optimizado\n",
    "# print(\"Matriz de confusión (Optimizado):\")\n",
    "# print(confusion_matrix(y_test, y_pred_optimizado))\n",
    "\n",
    "# print(\"Informe de clasificación (Optimizado):\")\n",
    "# print(classification_report(y_test, y_pred_optimizado))\n"
   ]
  },
  {
   "cell_type": "code",
   "execution_count": 77,
   "metadata": {
    "id": "rXY8aLutwhYD"
   },
   "outputs": [],
   "source": [
    "from imblearn.over_sampling import SMOTE\n",
    "\n",
    "sm = SMOTE(random_state=42)\n",
    "X_train_res, y_train_res = sm.fit_resample(X_train, y_train)\n"
   ]
  },
  {
   "cell_type": "code",
   "execution_count": 78,
   "metadata": {
    "colab": {
     "base_uri": "https://localhost:8080/",
     "height": 75
    },
    "id": "QQV_92fU_GCb",
    "outputId": "e9e48f98-6d1e-4007-f324-35ae716a6683"
   },
   "outputs": [
    {
     "data": {
      "text/html": [
       "<style>#sk-container-id-3 {\n",
       "  /* Definition of color scheme common for light and dark mode */\n",
       "  --sklearn-color-text: black;\n",
       "  --sklearn-color-line: gray;\n",
       "  /* Definition of color scheme for unfitted estimators */\n",
       "  --sklearn-color-unfitted-level-0: #fff5e6;\n",
       "  --sklearn-color-unfitted-level-1: #f6e4d2;\n",
       "  --sklearn-color-unfitted-level-2: #ffe0b3;\n",
       "  --sklearn-color-unfitted-level-3: chocolate;\n",
       "  /* Definition of color scheme for fitted estimators */\n",
       "  --sklearn-color-fitted-level-0: #f0f8ff;\n",
       "  --sklearn-color-fitted-level-1: #d4ebff;\n",
       "  --sklearn-color-fitted-level-2: #b3dbfd;\n",
       "  --sklearn-color-fitted-level-3: cornflowerblue;\n",
       "\n",
       "  /* Specific color for light theme */\n",
       "  --sklearn-color-text-on-default-background: var(--sg-text-color, var(--theme-code-foreground, var(--jp-content-font-color1, black)));\n",
       "  --sklearn-color-background: var(--sg-background-color, var(--theme-background, var(--jp-layout-color0, white)));\n",
       "  --sklearn-color-border-box: var(--sg-text-color, var(--theme-code-foreground, var(--jp-content-font-color1, black)));\n",
       "  --sklearn-color-icon: #696969;\n",
       "\n",
       "  @media (prefers-color-scheme: dark) {\n",
       "    /* Redefinition of color scheme for dark theme */\n",
       "    --sklearn-color-text-on-default-background: var(--sg-text-color, var(--theme-code-foreground, var(--jp-content-font-color1, white)));\n",
       "    --sklearn-color-background: var(--sg-background-color, var(--theme-background, var(--jp-layout-color0, #111)));\n",
       "    --sklearn-color-border-box: var(--sg-text-color, var(--theme-code-foreground, var(--jp-content-font-color1, white)));\n",
       "    --sklearn-color-icon: #878787;\n",
       "  }\n",
       "}\n",
       "\n",
       "#sk-container-id-3 {\n",
       "  color: var(--sklearn-color-text);\n",
       "}\n",
       "\n",
       "#sk-container-id-3 pre {\n",
       "  padding: 0;\n",
       "}\n",
       "\n",
       "#sk-container-id-3 input.sk-hidden--visually {\n",
       "  border: 0;\n",
       "  clip: rect(1px 1px 1px 1px);\n",
       "  clip: rect(1px, 1px, 1px, 1px);\n",
       "  height: 1px;\n",
       "  margin: -1px;\n",
       "  overflow: hidden;\n",
       "  padding: 0;\n",
       "  position: absolute;\n",
       "  width: 1px;\n",
       "}\n",
       "\n",
       "#sk-container-id-3 div.sk-dashed-wrapped {\n",
       "  border: 1px dashed var(--sklearn-color-line);\n",
       "  margin: 0 0.4em 0.5em 0.4em;\n",
       "  box-sizing: border-box;\n",
       "  padding-bottom: 0.4em;\n",
       "  background-color: var(--sklearn-color-background);\n",
       "}\n",
       "\n",
       "#sk-container-id-3 div.sk-container {\n",
       "  /* jupyter's `normalize.less` sets `[hidden] { display: none; }`\n",
       "     but bootstrap.min.css set `[hidden] { display: none !important; }`\n",
       "     so we also need the `!important` here to be able to override the\n",
       "     default hidden behavior on the sphinx rendered scikit-learn.org.\n",
       "     See: https://github.com/scikit-learn/scikit-learn/issues/21755 */\n",
       "  display: inline-block !important;\n",
       "  position: relative;\n",
       "}\n",
       "\n",
       "#sk-container-id-3 div.sk-text-repr-fallback {\n",
       "  display: none;\n",
       "}\n",
       "\n",
       "div.sk-parallel-item,\n",
       "div.sk-serial,\n",
       "div.sk-item {\n",
       "  /* draw centered vertical line to link estimators */\n",
       "  background-image: linear-gradient(var(--sklearn-color-text-on-default-background), var(--sklearn-color-text-on-default-background));\n",
       "  background-size: 2px 100%;\n",
       "  background-repeat: no-repeat;\n",
       "  background-position: center center;\n",
       "}\n",
       "\n",
       "/* Parallel-specific style estimator block */\n",
       "\n",
       "#sk-container-id-3 div.sk-parallel-item::after {\n",
       "  content: \"\";\n",
       "  width: 100%;\n",
       "  border-bottom: 2px solid var(--sklearn-color-text-on-default-background);\n",
       "  flex-grow: 1;\n",
       "}\n",
       "\n",
       "#sk-container-id-3 div.sk-parallel {\n",
       "  display: flex;\n",
       "  align-items: stretch;\n",
       "  justify-content: center;\n",
       "  background-color: var(--sklearn-color-background);\n",
       "  position: relative;\n",
       "}\n",
       "\n",
       "#sk-container-id-3 div.sk-parallel-item {\n",
       "  display: flex;\n",
       "  flex-direction: column;\n",
       "}\n",
       "\n",
       "#sk-container-id-3 div.sk-parallel-item:first-child::after {\n",
       "  align-self: flex-end;\n",
       "  width: 50%;\n",
       "}\n",
       "\n",
       "#sk-container-id-3 div.sk-parallel-item:last-child::after {\n",
       "  align-self: flex-start;\n",
       "  width: 50%;\n",
       "}\n",
       "\n",
       "#sk-container-id-3 div.sk-parallel-item:only-child::after {\n",
       "  width: 0;\n",
       "}\n",
       "\n",
       "/* Serial-specific style estimator block */\n",
       "\n",
       "#sk-container-id-3 div.sk-serial {\n",
       "  display: flex;\n",
       "  flex-direction: column;\n",
       "  align-items: center;\n",
       "  background-color: var(--sklearn-color-background);\n",
       "  padding-right: 1em;\n",
       "  padding-left: 1em;\n",
       "}\n",
       "\n",
       "\n",
       "/* Toggleable style: style used for estimator/Pipeline/ColumnTransformer box that is\n",
       "clickable and can be expanded/collapsed.\n",
       "- Pipeline and ColumnTransformer use this feature and define the default style\n",
       "- Estimators will overwrite some part of the style using the `sk-estimator` class\n",
       "*/\n",
       "\n",
       "/* Pipeline and ColumnTransformer style (default) */\n",
       "\n",
       "#sk-container-id-3 div.sk-toggleable {\n",
       "  /* Default theme specific background. It is overwritten whether we have a\n",
       "  specific estimator or a Pipeline/ColumnTransformer */\n",
       "  background-color: var(--sklearn-color-background);\n",
       "}\n",
       "\n",
       "/* Toggleable label */\n",
       "#sk-container-id-3 label.sk-toggleable__label {\n",
       "  cursor: pointer;\n",
       "  display: block;\n",
       "  width: 100%;\n",
       "  margin-bottom: 0;\n",
       "  padding: 0.5em;\n",
       "  box-sizing: border-box;\n",
       "  text-align: center;\n",
       "}\n",
       "\n",
       "#sk-container-id-3 label.sk-toggleable__label-arrow:before {\n",
       "  /* Arrow on the left of the label */\n",
       "  content: \"▸\";\n",
       "  float: left;\n",
       "  margin-right: 0.25em;\n",
       "  color: var(--sklearn-color-icon);\n",
       "}\n",
       "\n",
       "#sk-container-id-3 label.sk-toggleable__label-arrow:hover:before {\n",
       "  color: var(--sklearn-color-text);\n",
       "}\n",
       "\n",
       "/* Toggleable content - dropdown */\n",
       "\n",
       "#sk-container-id-3 div.sk-toggleable__content {\n",
       "  max-height: 0;\n",
       "  max-width: 0;\n",
       "  overflow: hidden;\n",
       "  text-align: left;\n",
       "  /* unfitted */\n",
       "  background-color: var(--sklearn-color-unfitted-level-0);\n",
       "}\n",
       "\n",
       "#sk-container-id-3 div.sk-toggleable__content.fitted {\n",
       "  /* fitted */\n",
       "  background-color: var(--sklearn-color-fitted-level-0);\n",
       "}\n",
       "\n",
       "#sk-container-id-3 div.sk-toggleable__content pre {\n",
       "  margin: 0.2em;\n",
       "  border-radius: 0.25em;\n",
       "  color: var(--sklearn-color-text);\n",
       "  /* unfitted */\n",
       "  background-color: var(--sklearn-color-unfitted-level-0);\n",
       "}\n",
       "\n",
       "#sk-container-id-3 div.sk-toggleable__content.fitted pre {\n",
       "  /* unfitted */\n",
       "  background-color: var(--sklearn-color-fitted-level-0);\n",
       "}\n",
       "\n",
       "#sk-container-id-3 input.sk-toggleable__control:checked~div.sk-toggleable__content {\n",
       "  /* Expand drop-down */\n",
       "  max-height: 200px;\n",
       "  max-width: 100%;\n",
       "  overflow: auto;\n",
       "}\n",
       "\n",
       "#sk-container-id-3 input.sk-toggleable__control:checked~label.sk-toggleable__label-arrow:before {\n",
       "  content: \"▾\";\n",
       "}\n",
       "\n",
       "/* Pipeline/ColumnTransformer-specific style */\n",
       "\n",
       "#sk-container-id-3 div.sk-label input.sk-toggleable__control:checked~label.sk-toggleable__label {\n",
       "  color: var(--sklearn-color-text);\n",
       "  background-color: var(--sklearn-color-unfitted-level-2);\n",
       "}\n",
       "\n",
       "#sk-container-id-3 div.sk-label.fitted input.sk-toggleable__control:checked~label.sk-toggleable__label {\n",
       "  background-color: var(--sklearn-color-fitted-level-2);\n",
       "}\n",
       "\n",
       "/* Estimator-specific style */\n",
       "\n",
       "/* Colorize estimator box */\n",
       "#sk-container-id-3 div.sk-estimator input.sk-toggleable__control:checked~label.sk-toggleable__label {\n",
       "  /* unfitted */\n",
       "  background-color: var(--sklearn-color-unfitted-level-2);\n",
       "}\n",
       "\n",
       "#sk-container-id-3 div.sk-estimator.fitted input.sk-toggleable__control:checked~label.sk-toggleable__label {\n",
       "  /* fitted */\n",
       "  background-color: var(--sklearn-color-fitted-level-2);\n",
       "}\n",
       "\n",
       "#sk-container-id-3 div.sk-label label.sk-toggleable__label,\n",
       "#sk-container-id-3 div.sk-label label {\n",
       "  /* The background is the default theme color */\n",
       "  color: var(--sklearn-color-text-on-default-background);\n",
       "}\n",
       "\n",
       "/* On hover, darken the color of the background */\n",
       "#sk-container-id-3 div.sk-label:hover label.sk-toggleable__label {\n",
       "  color: var(--sklearn-color-text);\n",
       "  background-color: var(--sklearn-color-unfitted-level-2);\n",
       "}\n",
       "\n",
       "/* Label box, darken color on hover, fitted */\n",
       "#sk-container-id-3 div.sk-label.fitted:hover label.sk-toggleable__label.fitted {\n",
       "  color: var(--sklearn-color-text);\n",
       "  background-color: var(--sklearn-color-fitted-level-2);\n",
       "}\n",
       "\n",
       "/* Estimator label */\n",
       "\n",
       "#sk-container-id-3 div.sk-label label {\n",
       "  font-family: monospace;\n",
       "  font-weight: bold;\n",
       "  display: inline-block;\n",
       "  line-height: 1.2em;\n",
       "}\n",
       "\n",
       "#sk-container-id-3 div.sk-label-container {\n",
       "  text-align: center;\n",
       "}\n",
       "\n",
       "/* Estimator-specific */\n",
       "#sk-container-id-3 div.sk-estimator {\n",
       "  font-family: monospace;\n",
       "  border: 1px dotted var(--sklearn-color-border-box);\n",
       "  border-radius: 0.25em;\n",
       "  box-sizing: border-box;\n",
       "  margin-bottom: 0.5em;\n",
       "  /* unfitted */\n",
       "  background-color: var(--sklearn-color-unfitted-level-0);\n",
       "}\n",
       "\n",
       "#sk-container-id-3 div.sk-estimator.fitted {\n",
       "  /* fitted */\n",
       "  background-color: var(--sklearn-color-fitted-level-0);\n",
       "}\n",
       "\n",
       "/* on hover */\n",
       "#sk-container-id-3 div.sk-estimator:hover {\n",
       "  /* unfitted */\n",
       "  background-color: var(--sklearn-color-unfitted-level-2);\n",
       "}\n",
       "\n",
       "#sk-container-id-3 div.sk-estimator.fitted:hover {\n",
       "  /* fitted */\n",
       "  background-color: var(--sklearn-color-fitted-level-2);\n",
       "}\n",
       "\n",
       "/* Specification for estimator info (e.g. \"i\" and \"?\") */\n",
       "\n",
       "/* Common style for \"i\" and \"?\" */\n",
       "\n",
       ".sk-estimator-doc-link,\n",
       "a:link.sk-estimator-doc-link,\n",
       "a:visited.sk-estimator-doc-link {\n",
       "  float: right;\n",
       "  font-size: smaller;\n",
       "  line-height: 1em;\n",
       "  font-family: monospace;\n",
       "  background-color: var(--sklearn-color-background);\n",
       "  border-radius: 1em;\n",
       "  height: 1em;\n",
       "  width: 1em;\n",
       "  text-decoration: none !important;\n",
       "  margin-left: 1ex;\n",
       "  /* unfitted */\n",
       "  border: var(--sklearn-color-unfitted-level-1) 1pt solid;\n",
       "  color: var(--sklearn-color-unfitted-level-1);\n",
       "}\n",
       "\n",
       ".sk-estimator-doc-link.fitted,\n",
       "a:link.sk-estimator-doc-link.fitted,\n",
       "a:visited.sk-estimator-doc-link.fitted {\n",
       "  /* fitted */\n",
       "  border: var(--sklearn-color-fitted-level-1) 1pt solid;\n",
       "  color: var(--sklearn-color-fitted-level-1);\n",
       "}\n",
       "\n",
       "/* On hover */\n",
       "div.sk-estimator:hover .sk-estimator-doc-link:hover,\n",
       ".sk-estimator-doc-link:hover,\n",
       "div.sk-label-container:hover .sk-estimator-doc-link:hover,\n",
       ".sk-estimator-doc-link:hover {\n",
       "  /* unfitted */\n",
       "  background-color: var(--sklearn-color-unfitted-level-3);\n",
       "  color: var(--sklearn-color-background);\n",
       "  text-decoration: none;\n",
       "}\n",
       "\n",
       "div.sk-estimator.fitted:hover .sk-estimator-doc-link.fitted:hover,\n",
       ".sk-estimator-doc-link.fitted:hover,\n",
       "div.sk-label-container:hover .sk-estimator-doc-link.fitted:hover,\n",
       ".sk-estimator-doc-link.fitted:hover {\n",
       "  /* fitted */\n",
       "  background-color: var(--sklearn-color-fitted-level-3);\n",
       "  color: var(--sklearn-color-background);\n",
       "  text-decoration: none;\n",
       "}\n",
       "\n",
       "/* Span, style for the box shown on hovering the info icon */\n",
       ".sk-estimator-doc-link span {\n",
       "  display: none;\n",
       "  z-index: 9999;\n",
       "  position: relative;\n",
       "  font-weight: normal;\n",
       "  right: .2ex;\n",
       "  padding: .5ex;\n",
       "  margin: .5ex;\n",
       "  width: min-content;\n",
       "  min-width: 20ex;\n",
       "  max-width: 50ex;\n",
       "  color: var(--sklearn-color-text);\n",
       "  box-shadow: 2pt 2pt 4pt #999;\n",
       "  /* unfitted */\n",
       "  background: var(--sklearn-color-unfitted-level-0);\n",
       "  border: .5pt solid var(--sklearn-color-unfitted-level-3);\n",
       "}\n",
       "\n",
       ".sk-estimator-doc-link.fitted span {\n",
       "  /* fitted */\n",
       "  background: var(--sklearn-color-fitted-level-0);\n",
       "  border: var(--sklearn-color-fitted-level-3);\n",
       "}\n",
       "\n",
       ".sk-estimator-doc-link:hover span {\n",
       "  display: block;\n",
       "}\n",
       "\n",
       "/* \"?\"-specific style due to the `<a>` HTML tag */\n",
       "\n",
       "#sk-container-id-3 a.estimator_doc_link {\n",
       "  float: right;\n",
       "  font-size: 1rem;\n",
       "  line-height: 1em;\n",
       "  font-family: monospace;\n",
       "  background-color: var(--sklearn-color-background);\n",
       "  border-radius: 1rem;\n",
       "  height: 1rem;\n",
       "  width: 1rem;\n",
       "  text-decoration: none;\n",
       "  /* unfitted */\n",
       "  color: var(--sklearn-color-unfitted-level-1);\n",
       "  border: var(--sklearn-color-unfitted-level-1) 1pt solid;\n",
       "}\n",
       "\n",
       "#sk-container-id-3 a.estimator_doc_link.fitted {\n",
       "  /* fitted */\n",
       "  border: var(--sklearn-color-fitted-level-1) 1pt solid;\n",
       "  color: var(--sklearn-color-fitted-level-1);\n",
       "}\n",
       "\n",
       "/* On hover */\n",
       "#sk-container-id-3 a.estimator_doc_link:hover {\n",
       "  /* unfitted */\n",
       "  background-color: var(--sklearn-color-unfitted-level-3);\n",
       "  color: var(--sklearn-color-background);\n",
       "  text-decoration: none;\n",
       "}\n",
       "\n",
       "#sk-container-id-3 a.estimator_doc_link.fitted:hover {\n",
       "  /* fitted */\n",
       "  background-color: var(--sklearn-color-fitted-level-3);\n",
       "}\n",
       "</style><div id=\"sk-container-id-3\" class=\"sk-top-container\"><div class=\"sk-text-repr-fallback\"><pre>RandomForestClassifier(class_weight=&#x27;balanced&#x27;, max_depth=5, random_state=42)</pre><b>In a Jupyter environment, please rerun this cell to show the HTML representation or trust the notebook. <br />On GitHub, the HTML representation is unable to render, please try loading this page with nbviewer.org.</b></div><div class=\"sk-container\" hidden><div class=\"sk-item\"><div class=\"sk-estimator fitted sk-toggleable\"><input class=\"sk-toggleable__control sk-hidden--visually\" id=\"sk-estimator-id-3\" type=\"checkbox\" checked><label for=\"sk-estimator-id-3\" class=\"sk-toggleable__label fitted sk-toggleable__label-arrow fitted\">&nbsp;&nbsp;RandomForestClassifier<a class=\"sk-estimator-doc-link fitted\" rel=\"noreferrer\" target=\"_blank\" href=\"https://scikit-learn.org/1.5/modules/generated/sklearn.ensemble.RandomForestClassifier.html\">?<span>Documentation for RandomForestClassifier</span></a><span class=\"sk-estimator-doc-link fitted\">i<span>Fitted</span></span></label><div class=\"sk-toggleable__content fitted\"><pre>RandomForestClassifier(class_weight=&#x27;balanced&#x27;, max_depth=5, random_state=42)</pre></div> </div></div></div></div>"
      ],
      "text/plain": [
       "RandomForestClassifier(class_weight='balanced', max_depth=5, random_state=42)"
      ]
     },
     "execution_count": 78,
     "metadata": {},
     "output_type": "execute_result"
    }
   ],
   "source": [
    "rf = RandomForestClassifier(n_estimators=100, max_depth=5, class_weight='balanced', random_state=42)\n",
    "rf.fit(X_train, y_train)\n"
   ]
  },
  {
   "cell_type": "code",
   "execution_count": 79,
   "metadata": {
    "id": "7SUnwA0__Spc"
   },
   "outputs": [],
   "source": [
    "y_pred_prob = rf.predict_proba(X_test)[:, 1]\n",
    "threshold = 0.3  # Ajustar el umbral\n",
    "y_pred_adjusted = (y_pred_prob >= threshold).astype(int)"
   ]
  },
  {
   "cell_type": "code",
   "execution_count": 80,
   "metadata": {
    "colab": {
     "base_uri": "https://localhost:8080/",
     "height": 0
    },
    "id": "ZMbx5-ba_xnU",
    "outputId": "0c497e31-7262-4d81-c955-f7fe5f89502c"
   },
   "outputs": [
    {
     "data": {
      "text/html": [
       "<style>#sk-container-id-4 {\n",
       "  /* Definition of color scheme common for light and dark mode */\n",
       "  --sklearn-color-text: black;\n",
       "  --sklearn-color-line: gray;\n",
       "  /* Definition of color scheme for unfitted estimators */\n",
       "  --sklearn-color-unfitted-level-0: #fff5e6;\n",
       "  --sklearn-color-unfitted-level-1: #f6e4d2;\n",
       "  --sklearn-color-unfitted-level-2: #ffe0b3;\n",
       "  --sklearn-color-unfitted-level-3: chocolate;\n",
       "  /* Definition of color scheme for fitted estimators */\n",
       "  --sklearn-color-fitted-level-0: #f0f8ff;\n",
       "  --sklearn-color-fitted-level-1: #d4ebff;\n",
       "  --sklearn-color-fitted-level-2: #b3dbfd;\n",
       "  --sklearn-color-fitted-level-3: cornflowerblue;\n",
       "\n",
       "  /* Specific color for light theme */\n",
       "  --sklearn-color-text-on-default-background: var(--sg-text-color, var(--theme-code-foreground, var(--jp-content-font-color1, black)));\n",
       "  --sklearn-color-background: var(--sg-background-color, var(--theme-background, var(--jp-layout-color0, white)));\n",
       "  --sklearn-color-border-box: var(--sg-text-color, var(--theme-code-foreground, var(--jp-content-font-color1, black)));\n",
       "  --sklearn-color-icon: #696969;\n",
       "\n",
       "  @media (prefers-color-scheme: dark) {\n",
       "    /* Redefinition of color scheme for dark theme */\n",
       "    --sklearn-color-text-on-default-background: var(--sg-text-color, var(--theme-code-foreground, var(--jp-content-font-color1, white)));\n",
       "    --sklearn-color-background: var(--sg-background-color, var(--theme-background, var(--jp-layout-color0, #111)));\n",
       "    --sklearn-color-border-box: var(--sg-text-color, var(--theme-code-foreground, var(--jp-content-font-color1, white)));\n",
       "    --sklearn-color-icon: #878787;\n",
       "  }\n",
       "}\n",
       "\n",
       "#sk-container-id-4 {\n",
       "  color: var(--sklearn-color-text);\n",
       "}\n",
       "\n",
       "#sk-container-id-4 pre {\n",
       "  padding: 0;\n",
       "}\n",
       "\n",
       "#sk-container-id-4 input.sk-hidden--visually {\n",
       "  border: 0;\n",
       "  clip: rect(1px 1px 1px 1px);\n",
       "  clip: rect(1px, 1px, 1px, 1px);\n",
       "  height: 1px;\n",
       "  margin: -1px;\n",
       "  overflow: hidden;\n",
       "  padding: 0;\n",
       "  position: absolute;\n",
       "  width: 1px;\n",
       "}\n",
       "\n",
       "#sk-container-id-4 div.sk-dashed-wrapped {\n",
       "  border: 1px dashed var(--sklearn-color-line);\n",
       "  margin: 0 0.4em 0.5em 0.4em;\n",
       "  box-sizing: border-box;\n",
       "  padding-bottom: 0.4em;\n",
       "  background-color: var(--sklearn-color-background);\n",
       "}\n",
       "\n",
       "#sk-container-id-4 div.sk-container {\n",
       "  /* jupyter's `normalize.less` sets `[hidden] { display: none; }`\n",
       "     but bootstrap.min.css set `[hidden] { display: none !important; }`\n",
       "     so we also need the `!important` here to be able to override the\n",
       "     default hidden behavior on the sphinx rendered scikit-learn.org.\n",
       "     See: https://github.com/scikit-learn/scikit-learn/issues/21755 */\n",
       "  display: inline-block !important;\n",
       "  position: relative;\n",
       "}\n",
       "\n",
       "#sk-container-id-4 div.sk-text-repr-fallback {\n",
       "  display: none;\n",
       "}\n",
       "\n",
       "div.sk-parallel-item,\n",
       "div.sk-serial,\n",
       "div.sk-item {\n",
       "  /* draw centered vertical line to link estimators */\n",
       "  background-image: linear-gradient(var(--sklearn-color-text-on-default-background), var(--sklearn-color-text-on-default-background));\n",
       "  background-size: 2px 100%;\n",
       "  background-repeat: no-repeat;\n",
       "  background-position: center center;\n",
       "}\n",
       "\n",
       "/* Parallel-specific style estimator block */\n",
       "\n",
       "#sk-container-id-4 div.sk-parallel-item::after {\n",
       "  content: \"\";\n",
       "  width: 100%;\n",
       "  border-bottom: 2px solid var(--sklearn-color-text-on-default-background);\n",
       "  flex-grow: 1;\n",
       "}\n",
       "\n",
       "#sk-container-id-4 div.sk-parallel {\n",
       "  display: flex;\n",
       "  align-items: stretch;\n",
       "  justify-content: center;\n",
       "  background-color: var(--sklearn-color-background);\n",
       "  position: relative;\n",
       "}\n",
       "\n",
       "#sk-container-id-4 div.sk-parallel-item {\n",
       "  display: flex;\n",
       "  flex-direction: column;\n",
       "}\n",
       "\n",
       "#sk-container-id-4 div.sk-parallel-item:first-child::after {\n",
       "  align-self: flex-end;\n",
       "  width: 50%;\n",
       "}\n",
       "\n",
       "#sk-container-id-4 div.sk-parallel-item:last-child::after {\n",
       "  align-self: flex-start;\n",
       "  width: 50%;\n",
       "}\n",
       "\n",
       "#sk-container-id-4 div.sk-parallel-item:only-child::after {\n",
       "  width: 0;\n",
       "}\n",
       "\n",
       "/* Serial-specific style estimator block */\n",
       "\n",
       "#sk-container-id-4 div.sk-serial {\n",
       "  display: flex;\n",
       "  flex-direction: column;\n",
       "  align-items: center;\n",
       "  background-color: var(--sklearn-color-background);\n",
       "  padding-right: 1em;\n",
       "  padding-left: 1em;\n",
       "}\n",
       "\n",
       "\n",
       "/* Toggleable style: style used for estimator/Pipeline/ColumnTransformer box that is\n",
       "clickable and can be expanded/collapsed.\n",
       "- Pipeline and ColumnTransformer use this feature and define the default style\n",
       "- Estimators will overwrite some part of the style using the `sk-estimator` class\n",
       "*/\n",
       "\n",
       "/* Pipeline and ColumnTransformer style (default) */\n",
       "\n",
       "#sk-container-id-4 div.sk-toggleable {\n",
       "  /* Default theme specific background. It is overwritten whether we have a\n",
       "  specific estimator or a Pipeline/ColumnTransformer */\n",
       "  background-color: var(--sklearn-color-background);\n",
       "}\n",
       "\n",
       "/* Toggleable label */\n",
       "#sk-container-id-4 label.sk-toggleable__label {\n",
       "  cursor: pointer;\n",
       "  display: block;\n",
       "  width: 100%;\n",
       "  margin-bottom: 0;\n",
       "  padding: 0.5em;\n",
       "  box-sizing: border-box;\n",
       "  text-align: center;\n",
       "}\n",
       "\n",
       "#sk-container-id-4 label.sk-toggleable__label-arrow:before {\n",
       "  /* Arrow on the left of the label */\n",
       "  content: \"▸\";\n",
       "  float: left;\n",
       "  margin-right: 0.25em;\n",
       "  color: var(--sklearn-color-icon);\n",
       "}\n",
       "\n",
       "#sk-container-id-4 label.sk-toggleable__label-arrow:hover:before {\n",
       "  color: var(--sklearn-color-text);\n",
       "}\n",
       "\n",
       "/* Toggleable content - dropdown */\n",
       "\n",
       "#sk-container-id-4 div.sk-toggleable__content {\n",
       "  max-height: 0;\n",
       "  max-width: 0;\n",
       "  overflow: hidden;\n",
       "  text-align: left;\n",
       "  /* unfitted */\n",
       "  background-color: var(--sklearn-color-unfitted-level-0);\n",
       "}\n",
       "\n",
       "#sk-container-id-4 div.sk-toggleable__content.fitted {\n",
       "  /* fitted */\n",
       "  background-color: var(--sklearn-color-fitted-level-0);\n",
       "}\n",
       "\n",
       "#sk-container-id-4 div.sk-toggleable__content pre {\n",
       "  margin: 0.2em;\n",
       "  border-radius: 0.25em;\n",
       "  color: var(--sklearn-color-text);\n",
       "  /* unfitted */\n",
       "  background-color: var(--sklearn-color-unfitted-level-0);\n",
       "}\n",
       "\n",
       "#sk-container-id-4 div.sk-toggleable__content.fitted pre {\n",
       "  /* unfitted */\n",
       "  background-color: var(--sklearn-color-fitted-level-0);\n",
       "}\n",
       "\n",
       "#sk-container-id-4 input.sk-toggleable__control:checked~div.sk-toggleable__content {\n",
       "  /* Expand drop-down */\n",
       "  max-height: 200px;\n",
       "  max-width: 100%;\n",
       "  overflow: auto;\n",
       "}\n",
       "\n",
       "#sk-container-id-4 input.sk-toggleable__control:checked~label.sk-toggleable__label-arrow:before {\n",
       "  content: \"▾\";\n",
       "}\n",
       "\n",
       "/* Pipeline/ColumnTransformer-specific style */\n",
       "\n",
       "#sk-container-id-4 div.sk-label input.sk-toggleable__control:checked~label.sk-toggleable__label {\n",
       "  color: var(--sklearn-color-text);\n",
       "  background-color: var(--sklearn-color-unfitted-level-2);\n",
       "}\n",
       "\n",
       "#sk-container-id-4 div.sk-label.fitted input.sk-toggleable__control:checked~label.sk-toggleable__label {\n",
       "  background-color: var(--sklearn-color-fitted-level-2);\n",
       "}\n",
       "\n",
       "/* Estimator-specific style */\n",
       "\n",
       "/* Colorize estimator box */\n",
       "#sk-container-id-4 div.sk-estimator input.sk-toggleable__control:checked~label.sk-toggleable__label {\n",
       "  /* unfitted */\n",
       "  background-color: var(--sklearn-color-unfitted-level-2);\n",
       "}\n",
       "\n",
       "#sk-container-id-4 div.sk-estimator.fitted input.sk-toggleable__control:checked~label.sk-toggleable__label {\n",
       "  /* fitted */\n",
       "  background-color: var(--sklearn-color-fitted-level-2);\n",
       "}\n",
       "\n",
       "#sk-container-id-4 div.sk-label label.sk-toggleable__label,\n",
       "#sk-container-id-4 div.sk-label label {\n",
       "  /* The background is the default theme color */\n",
       "  color: var(--sklearn-color-text-on-default-background);\n",
       "}\n",
       "\n",
       "/* On hover, darken the color of the background */\n",
       "#sk-container-id-4 div.sk-label:hover label.sk-toggleable__label {\n",
       "  color: var(--sklearn-color-text);\n",
       "  background-color: var(--sklearn-color-unfitted-level-2);\n",
       "}\n",
       "\n",
       "/* Label box, darken color on hover, fitted */\n",
       "#sk-container-id-4 div.sk-label.fitted:hover label.sk-toggleable__label.fitted {\n",
       "  color: var(--sklearn-color-text);\n",
       "  background-color: var(--sklearn-color-fitted-level-2);\n",
       "}\n",
       "\n",
       "/* Estimator label */\n",
       "\n",
       "#sk-container-id-4 div.sk-label label {\n",
       "  font-family: monospace;\n",
       "  font-weight: bold;\n",
       "  display: inline-block;\n",
       "  line-height: 1.2em;\n",
       "}\n",
       "\n",
       "#sk-container-id-4 div.sk-label-container {\n",
       "  text-align: center;\n",
       "}\n",
       "\n",
       "/* Estimator-specific */\n",
       "#sk-container-id-4 div.sk-estimator {\n",
       "  font-family: monospace;\n",
       "  border: 1px dotted var(--sklearn-color-border-box);\n",
       "  border-radius: 0.25em;\n",
       "  box-sizing: border-box;\n",
       "  margin-bottom: 0.5em;\n",
       "  /* unfitted */\n",
       "  background-color: var(--sklearn-color-unfitted-level-0);\n",
       "}\n",
       "\n",
       "#sk-container-id-4 div.sk-estimator.fitted {\n",
       "  /* fitted */\n",
       "  background-color: var(--sklearn-color-fitted-level-0);\n",
       "}\n",
       "\n",
       "/* on hover */\n",
       "#sk-container-id-4 div.sk-estimator:hover {\n",
       "  /* unfitted */\n",
       "  background-color: var(--sklearn-color-unfitted-level-2);\n",
       "}\n",
       "\n",
       "#sk-container-id-4 div.sk-estimator.fitted:hover {\n",
       "  /* fitted */\n",
       "  background-color: var(--sklearn-color-fitted-level-2);\n",
       "}\n",
       "\n",
       "/* Specification for estimator info (e.g. \"i\" and \"?\") */\n",
       "\n",
       "/* Common style for \"i\" and \"?\" */\n",
       "\n",
       ".sk-estimator-doc-link,\n",
       "a:link.sk-estimator-doc-link,\n",
       "a:visited.sk-estimator-doc-link {\n",
       "  float: right;\n",
       "  font-size: smaller;\n",
       "  line-height: 1em;\n",
       "  font-family: monospace;\n",
       "  background-color: var(--sklearn-color-background);\n",
       "  border-radius: 1em;\n",
       "  height: 1em;\n",
       "  width: 1em;\n",
       "  text-decoration: none !important;\n",
       "  margin-left: 1ex;\n",
       "  /* unfitted */\n",
       "  border: var(--sklearn-color-unfitted-level-1) 1pt solid;\n",
       "  color: var(--sklearn-color-unfitted-level-1);\n",
       "}\n",
       "\n",
       ".sk-estimator-doc-link.fitted,\n",
       "a:link.sk-estimator-doc-link.fitted,\n",
       "a:visited.sk-estimator-doc-link.fitted {\n",
       "  /* fitted */\n",
       "  border: var(--sklearn-color-fitted-level-1) 1pt solid;\n",
       "  color: var(--sklearn-color-fitted-level-1);\n",
       "}\n",
       "\n",
       "/* On hover */\n",
       "div.sk-estimator:hover .sk-estimator-doc-link:hover,\n",
       ".sk-estimator-doc-link:hover,\n",
       "div.sk-label-container:hover .sk-estimator-doc-link:hover,\n",
       ".sk-estimator-doc-link:hover {\n",
       "  /* unfitted */\n",
       "  background-color: var(--sklearn-color-unfitted-level-3);\n",
       "  color: var(--sklearn-color-background);\n",
       "  text-decoration: none;\n",
       "}\n",
       "\n",
       "div.sk-estimator.fitted:hover .sk-estimator-doc-link.fitted:hover,\n",
       ".sk-estimator-doc-link.fitted:hover,\n",
       "div.sk-label-container:hover .sk-estimator-doc-link.fitted:hover,\n",
       ".sk-estimator-doc-link.fitted:hover {\n",
       "  /* fitted */\n",
       "  background-color: var(--sklearn-color-fitted-level-3);\n",
       "  color: var(--sklearn-color-background);\n",
       "  text-decoration: none;\n",
       "}\n",
       "\n",
       "/* Span, style for the box shown on hovering the info icon */\n",
       ".sk-estimator-doc-link span {\n",
       "  display: none;\n",
       "  z-index: 9999;\n",
       "  position: relative;\n",
       "  font-weight: normal;\n",
       "  right: .2ex;\n",
       "  padding: .5ex;\n",
       "  margin: .5ex;\n",
       "  width: min-content;\n",
       "  min-width: 20ex;\n",
       "  max-width: 50ex;\n",
       "  color: var(--sklearn-color-text);\n",
       "  box-shadow: 2pt 2pt 4pt #999;\n",
       "  /* unfitted */\n",
       "  background: var(--sklearn-color-unfitted-level-0);\n",
       "  border: .5pt solid var(--sklearn-color-unfitted-level-3);\n",
       "}\n",
       "\n",
       ".sk-estimator-doc-link.fitted span {\n",
       "  /* fitted */\n",
       "  background: var(--sklearn-color-fitted-level-0);\n",
       "  border: var(--sklearn-color-fitted-level-3);\n",
       "}\n",
       "\n",
       ".sk-estimator-doc-link:hover span {\n",
       "  display: block;\n",
       "}\n",
       "\n",
       "/* \"?\"-specific style due to the `<a>` HTML tag */\n",
       "\n",
       "#sk-container-id-4 a.estimator_doc_link {\n",
       "  float: right;\n",
       "  font-size: 1rem;\n",
       "  line-height: 1em;\n",
       "  font-family: monospace;\n",
       "  background-color: var(--sklearn-color-background);\n",
       "  border-radius: 1rem;\n",
       "  height: 1rem;\n",
       "  width: 1rem;\n",
       "  text-decoration: none;\n",
       "  /* unfitted */\n",
       "  color: var(--sklearn-color-unfitted-level-1);\n",
       "  border: var(--sklearn-color-unfitted-level-1) 1pt solid;\n",
       "}\n",
       "\n",
       "#sk-container-id-4 a.estimator_doc_link.fitted {\n",
       "  /* fitted */\n",
       "  border: var(--sklearn-color-fitted-level-1) 1pt solid;\n",
       "  color: var(--sklearn-color-fitted-level-1);\n",
       "}\n",
       "\n",
       "/* On hover */\n",
       "#sk-container-id-4 a.estimator_doc_link:hover {\n",
       "  /* unfitted */\n",
       "  background-color: var(--sklearn-color-unfitted-level-3);\n",
       "  color: var(--sklearn-color-background);\n",
       "  text-decoration: none;\n",
       "}\n",
       "\n",
       "#sk-container-id-4 a.estimator_doc_link.fitted:hover {\n",
       "  /* fitted */\n",
       "  background-color: var(--sklearn-color-fitted-level-3);\n",
       "}\n",
       "</style><div id=\"sk-container-id-4\" class=\"sk-top-container\"><div class=\"sk-text-repr-fallback\"><pre>RandomForestClassifier(max_depth=5, random_state=42)</pre><b>In a Jupyter environment, please rerun this cell to show the HTML representation or trust the notebook. <br />On GitHub, the HTML representation is unable to render, please try loading this page with nbviewer.org.</b></div><div class=\"sk-container\" hidden><div class=\"sk-item\"><div class=\"sk-estimator fitted sk-toggleable\"><input class=\"sk-toggleable__control sk-hidden--visually\" id=\"sk-estimator-id-4\" type=\"checkbox\" checked><label for=\"sk-estimator-id-4\" class=\"sk-toggleable__label fitted sk-toggleable__label-arrow fitted\">&nbsp;&nbsp;RandomForestClassifier<a class=\"sk-estimator-doc-link fitted\" rel=\"noreferrer\" target=\"_blank\" href=\"https://scikit-learn.org/1.5/modules/generated/sklearn.ensemble.RandomForestClassifier.html\">?<span>Documentation for RandomForestClassifier</span></a><span class=\"sk-estimator-doc-link fitted\">i<span>Fitted</span></span></label><div class=\"sk-toggleable__content fitted\"><pre>RandomForestClassifier(max_depth=5, random_state=42)</pre></div> </div></div></div></div>"
      ],
      "text/plain": [
       "RandomForestClassifier(max_depth=5, random_state=42)"
      ]
     },
     "execution_count": 80,
     "metadata": {},
     "output_type": "execute_result"
    }
   ],
   "source": [
    "rf_balanced = RandomForestClassifier(n_estimators=100, max_depth=5, random_state=42)\n",
    "rf_balanced.fit(X_train_res, y_train_res)\n"
   ]
  },
  {
   "cell_type": "code",
   "execution_count": 81,
   "metadata": {
    "id": "5SeHaarD_2mW"
   },
   "outputs": [],
   "source": [
    "y_pred_balanced = rf_balanced.predict(X_test)\n"
   ]
  },
  {
   "cell_type": "code",
   "execution_count": 82,
   "metadata": {
    "colab": {
     "base_uri": "https://localhost:8080/"
    },
    "id": "0Z8sZORu_5Sm",
    "outputId": "0ff041b7-01bd-46bc-aa19-6b9e2426df57"
   },
   "outputs": [
    {
     "name": "stdout",
     "output_type": "stream",
     "text": [
      "Matriz de confusión:\n",
      "[[57779 54821]\n",
      " [  938  5360]]\n",
      "Informe de clasificación:\n",
      "              precision    recall  f1-score   support\n",
      "\n",
      "           0       0.98      0.51      0.67    112600\n",
      "           1       0.09      0.85      0.16      6298\n",
      "\n",
      "    accuracy                           0.53    118898\n",
      "   macro avg       0.54      0.68      0.42    118898\n",
      "weighted avg       0.94      0.53      0.65    118898\n",
      "\n"
     ]
    }
   ],
   "source": [
    "from sklearn.metrics import confusion_matrix, classification_report\n",
    "\n",
    "print(\"Matriz de confusión:\")\n",
    "print(confusion_matrix(y_test, y_pred_balanced))\n",
    "\n",
    "print(\"Informe de clasificación:\")\n",
    "print(classification_report(y_test, y_pred_balanced))\n"
   ]
  },
  {
   "cell_type": "markdown",
   "metadata": {
    "id": "UFzMZlWHAL8C"
   },
   "source": [
    "# XGBoost"
   ]
  },
  {
   "cell_type": "code",
   "execution_count": null,
   "metadata": {
    "id": "SNqIcwBDAOkm"
   },
   "outputs": [],
   "source": [
    "import xgboost as xgb\n",
    "from sklearn.model_selection import train_test_split, GridSearchCV\n",
    "from sklearn.metrics import confusion_matrix, classification_report\n",
    "from xgboost import XGBClassifier\n",
    "\n"
   ]
  },
  {
   "cell_type": "code",
   "execution_count": 87,
   "metadata": {
    "id": "WS8C-tS1A8Im"
   },
   "outputs": [],
   "source": [
    "X = df_analisis.drop('Tuvo_Cancer?', axis=1)\n",
    "y = df_analisis['Tuvo_Cancer?']\n",
    "\n",
    "X_train, X_test, y_train, y_test = train_test_split(X, y, test_size=0.3, random_state=42)\n",
    "# Crear el modelo de XGBoost\n",
    "xgb_model = xgb.XGBClassifier(use_label_encoder=False, eval_metric='logloss')\n"
   ]
  },
  {
   "cell_type": "code",
   "execution_count": 88,
   "metadata": {
    "id": "57D1grMfBBur"
   },
   "outputs": [],
   "source": [
    "## Definir los parámetros a optimizar\n",
    "#param_grid = {\n",
    "#    'max_depth': [3, 5, 7],\n",
    "#    'learning_rate': [0.01, 0.1, 0.3],\n",
    "#    'n_estimators': [100, 200, 500],\n",
    "#    'subsample': [0.7, 0.8, 1.0],\n",
    "#    'colsample_bytree': [0.7, 0.8, 1.0]\n",
    "#}\n",
    "#{'colsample_bytree': 0.7, 'learning_rate': 0.01, 'max_depth': 3, 'n_estimators': 100, 'subsample': 0.7}\n",
    "\n",
    "## Configurar GridSearchCV\n",
    "#grid_search = GridSearchCV(estimator=xgb_model, param_grid=param_grid, cv=5, scoring='accuracy', verbose=1, n_jobs=-1)\n",
    "#grid_search.fit(X_train, y_train)\n",
    "\n",
    "# Imprimir los mejores parámetros\n",
    "#print(\"Mejores parámetros: \", grid_search.best_params_)\n"
   ]
  },
  {
   "cell_type": "code",
   "execution_count": 89,
   "metadata": {
    "id": "xwbc09ffgovG"
   },
   "outputs": [],
   "source": [
    "#{'colsample_bytree': 0.7, 'learning_rate': 0.01, 'max_depth': 3, 'n_estimators': 100, 'subsample': 0.7}\n",
    "## Predecir en el conjunto de prueba\n",
    "#y_pred = grid_search.best_estimator_.predict(X_test)\n",
    "\n",
    "## Matriz de confusión e informe de clasificación\n",
    "#conf_matrix = confusion_matrix(y_test, y_pred)\n",
    "#class_report = classification_report(y_test, y_pred)\n",
    "\n",
    "#print(\"Matriz de confusión:\")\n",
    "#print(conf_matrix)\n",
    "#print(\"\\nInforme de clasificación:\")\n",
    "#print(class_report)\n",
    "\n"
   ]
  },
  {
   "cell_type": "markdown",
   "metadata": {
    "id": "74FbrpbARTQd"
   },
   "source": [
    "XGBClassifier mejora el rendimiento de xgboost"
   ]
  },
  {
   "cell_type": "code",
   "execution_count": 90,
   "metadata": {
    "colab": {
     "base_uri": "https://localhost:8080/"
    },
    "id": "D2iRydKBPJr8",
    "outputId": "e2971a67-a182-4fc1-cafe-bfad0ab6d1c8"
   },
   "outputs": [
    {
     "name": "stdout",
     "output_type": "stream",
     "text": [
      "Matriz de Confusión:\n",
      "[[112600      0]\n",
      " [  6298      0]]\n",
      "\n",
      "Informe de Clasificación:\n",
      "              precision    recall  f1-score   support\n",
      "\n",
      "           0       0.95      1.00      0.97    112600\n",
      "           1       0.00      0.00      0.00      6298\n",
      "\n",
      "    accuracy                           0.95    118898\n",
      "   macro avg       0.47      0.50      0.49    118898\n",
      "weighted avg       0.90      0.95      0.92    118898\n",
      "\n"
     ]
    },
    {
     "name": "stderr",
     "output_type": "stream",
     "text": [
      "C:\\Users\\MATIAS\\miniconda3\\lib\\site-packages\\sklearn\\metrics\\_classification.py:1531: UndefinedMetricWarning: Precision is ill-defined and being set to 0.0 in labels with no predicted samples. Use `zero_division` parameter to control this behavior.\n",
      "  _warn_prf(average, modifier, f\"{metric.capitalize()} is\", len(result))\n",
      "C:\\Users\\MATIAS\\miniconda3\\lib\\site-packages\\sklearn\\metrics\\_classification.py:1531: UndefinedMetricWarning: Precision is ill-defined and being set to 0.0 in labels with no predicted samples. Use `zero_division` parameter to control this behavior.\n",
      "  _warn_prf(average, modifier, f\"{metric.capitalize()} is\", len(result))\n",
      "C:\\Users\\MATIAS\\miniconda3\\lib\\site-packages\\sklearn\\metrics\\_classification.py:1531: UndefinedMetricWarning: Precision is ill-defined and being set to 0.0 in labels with no predicted samples. Use `zero_division` parameter to control this behavior.\n",
      "  _warn_prf(average, modifier, f\"{metric.capitalize()} is\", len(result))\n"
     ]
    }
   ],
   "source": [
    "# Crear el modelo XGBoost con los mejores hiperparámetros\n",
    "xgb_best_model = XGBClassifier(\n",
    "    colsample_bytree=0.7,\n",
    "    learning_rate=0.01,\n",
    "    max_depth=3,\n",
    "    n_estimators=100,\n",
    "    subsample=0.7\n",
    ")\n",
    "\n",
    "# Entrenar el modelo con los datos de entrenamiento\n",
    "xgb_best_model.fit(X_train, y_train)\n",
    "\n",
    "# Predecir en el conjunto de prueba\n",
    "y_pred = xgb_best_model.predict(X_test)\n",
    "\n",
    "# Matriz de confusión e informe de clasificación\n",
    "conf_matrix = confusion_matrix(y_test, y_pred)\n",
    "class_report = classification_report(y_test, y_pred)\n",
    "\n",
    "# Mostrar la matriz de confusión e informe de clasificación\n",
    "print(\"Matriz de Confusión:\")\n",
    "print(conf_matrix)\n",
    "\n",
    "print(\"\\nInforme de Clasificación:\")\n",
    "print(class_report)"
   ]
  },
  {
   "cell_type": "code",
   "execution_count": 92,
   "metadata": {
    "colab": {
     "base_uri": "https://localhost:8080/",
     "height": 248
    },
    "id": "2LT36LZ7g5Uv",
    "outputId": "76047bb6-6ec6-41f2-f0f3-4b96ad3fc1f5"
   },
   "outputs": [
    {
     "data": {
      "text/html": [
       "<style>#sk-container-id-6 {\n",
       "  /* Definition of color scheme common for light and dark mode */\n",
       "  --sklearn-color-text: black;\n",
       "  --sklearn-color-line: gray;\n",
       "  /* Definition of color scheme for unfitted estimators */\n",
       "  --sklearn-color-unfitted-level-0: #fff5e6;\n",
       "  --sklearn-color-unfitted-level-1: #f6e4d2;\n",
       "  --sklearn-color-unfitted-level-2: #ffe0b3;\n",
       "  --sklearn-color-unfitted-level-3: chocolate;\n",
       "  /* Definition of color scheme for fitted estimators */\n",
       "  --sklearn-color-fitted-level-0: #f0f8ff;\n",
       "  --sklearn-color-fitted-level-1: #d4ebff;\n",
       "  --sklearn-color-fitted-level-2: #b3dbfd;\n",
       "  --sklearn-color-fitted-level-3: cornflowerblue;\n",
       "\n",
       "  /* Specific color for light theme */\n",
       "  --sklearn-color-text-on-default-background: var(--sg-text-color, var(--theme-code-foreground, var(--jp-content-font-color1, black)));\n",
       "  --sklearn-color-background: var(--sg-background-color, var(--theme-background, var(--jp-layout-color0, white)));\n",
       "  --sklearn-color-border-box: var(--sg-text-color, var(--theme-code-foreground, var(--jp-content-font-color1, black)));\n",
       "  --sklearn-color-icon: #696969;\n",
       "\n",
       "  @media (prefers-color-scheme: dark) {\n",
       "    /* Redefinition of color scheme for dark theme */\n",
       "    --sklearn-color-text-on-default-background: var(--sg-text-color, var(--theme-code-foreground, var(--jp-content-font-color1, white)));\n",
       "    --sklearn-color-background: var(--sg-background-color, var(--theme-background, var(--jp-layout-color0, #111)));\n",
       "    --sklearn-color-border-box: var(--sg-text-color, var(--theme-code-foreground, var(--jp-content-font-color1, white)));\n",
       "    --sklearn-color-icon: #878787;\n",
       "  }\n",
       "}\n",
       "\n",
       "#sk-container-id-6 {\n",
       "  color: var(--sklearn-color-text);\n",
       "}\n",
       "\n",
       "#sk-container-id-6 pre {\n",
       "  padding: 0;\n",
       "}\n",
       "\n",
       "#sk-container-id-6 input.sk-hidden--visually {\n",
       "  border: 0;\n",
       "  clip: rect(1px 1px 1px 1px);\n",
       "  clip: rect(1px, 1px, 1px, 1px);\n",
       "  height: 1px;\n",
       "  margin: -1px;\n",
       "  overflow: hidden;\n",
       "  padding: 0;\n",
       "  position: absolute;\n",
       "  width: 1px;\n",
       "}\n",
       "\n",
       "#sk-container-id-6 div.sk-dashed-wrapped {\n",
       "  border: 1px dashed var(--sklearn-color-line);\n",
       "  margin: 0 0.4em 0.5em 0.4em;\n",
       "  box-sizing: border-box;\n",
       "  padding-bottom: 0.4em;\n",
       "  background-color: var(--sklearn-color-background);\n",
       "}\n",
       "\n",
       "#sk-container-id-6 div.sk-container {\n",
       "  /* jupyter's `normalize.less` sets `[hidden] { display: none; }`\n",
       "     but bootstrap.min.css set `[hidden] { display: none !important; }`\n",
       "     so we also need the `!important` here to be able to override the\n",
       "     default hidden behavior on the sphinx rendered scikit-learn.org.\n",
       "     See: https://github.com/scikit-learn/scikit-learn/issues/21755 */\n",
       "  display: inline-block !important;\n",
       "  position: relative;\n",
       "}\n",
       "\n",
       "#sk-container-id-6 div.sk-text-repr-fallback {\n",
       "  display: none;\n",
       "}\n",
       "\n",
       "div.sk-parallel-item,\n",
       "div.sk-serial,\n",
       "div.sk-item {\n",
       "  /* draw centered vertical line to link estimators */\n",
       "  background-image: linear-gradient(var(--sklearn-color-text-on-default-background), var(--sklearn-color-text-on-default-background));\n",
       "  background-size: 2px 100%;\n",
       "  background-repeat: no-repeat;\n",
       "  background-position: center center;\n",
       "}\n",
       "\n",
       "/* Parallel-specific style estimator block */\n",
       "\n",
       "#sk-container-id-6 div.sk-parallel-item::after {\n",
       "  content: \"\";\n",
       "  width: 100%;\n",
       "  border-bottom: 2px solid var(--sklearn-color-text-on-default-background);\n",
       "  flex-grow: 1;\n",
       "}\n",
       "\n",
       "#sk-container-id-6 div.sk-parallel {\n",
       "  display: flex;\n",
       "  align-items: stretch;\n",
       "  justify-content: center;\n",
       "  background-color: var(--sklearn-color-background);\n",
       "  position: relative;\n",
       "}\n",
       "\n",
       "#sk-container-id-6 div.sk-parallel-item {\n",
       "  display: flex;\n",
       "  flex-direction: column;\n",
       "}\n",
       "\n",
       "#sk-container-id-6 div.sk-parallel-item:first-child::after {\n",
       "  align-self: flex-end;\n",
       "  width: 50%;\n",
       "}\n",
       "\n",
       "#sk-container-id-6 div.sk-parallel-item:last-child::after {\n",
       "  align-self: flex-start;\n",
       "  width: 50%;\n",
       "}\n",
       "\n",
       "#sk-container-id-6 div.sk-parallel-item:only-child::after {\n",
       "  width: 0;\n",
       "}\n",
       "\n",
       "/* Serial-specific style estimator block */\n",
       "\n",
       "#sk-container-id-6 div.sk-serial {\n",
       "  display: flex;\n",
       "  flex-direction: column;\n",
       "  align-items: center;\n",
       "  background-color: var(--sklearn-color-background);\n",
       "  padding-right: 1em;\n",
       "  padding-left: 1em;\n",
       "}\n",
       "\n",
       "\n",
       "/* Toggleable style: style used for estimator/Pipeline/ColumnTransformer box that is\n",
       "clickable and can be expanded/collapsed.\n",
       "- Pipeline and ColumnTransformer use this feature and define the default style\n",
       "- Estimators will overwrite some part of the style using the `sk-estimator` class\n",
       "*/\n",
       "\n",
       "/* Pipeline and ColumnTransformer style (default) */\n",
       "\n",
       "#sk-container-id-6 div.sk-toggleable {\n",
       "  /* Default theme specific background. It is overwritten whether we have a\n",
       "  specific estimator or a Pipeline/ColumnTransformer */\n",
       "  background-color: var(--sklearn-color-background);\n",
       "}\n",
       "\n",
       "/* Toggleable label */\n",
       "#sk-container-id-6 label.sk-toggleable__label {\n",
       "  cursor: pointer;\n",
       "  display: block;\n",
       "  width: 100%;\n",
       "  margin-bottom: 0;\n",
       "  padding: 0.5em;\n",
       "  box-sizing: border-box;\n",
       "  text-align: center;\n",
       "}\n",
       "\n",
       "#sk-container-id-6 label.sk-toggleable__label-arrow:before {\n",
       "  /* Arrow on the left of the label */\n",
       "  content: \"▸\";\n",
       "  float: left;\n",
       "  margin-right: 0.25em;\n",
       "  color: var(--sklearn-color-icon);\n",
       "}\n",
       "\n",
       "#sk-container-id-6 label.sk-toggleable__label-arrow:hover:before {\n",
       "  color: var(--sklearn-color-text);\n",
       "}\n",
       "\n",
       "/* Toggleable content - dropdown */\n",
       "\n",
       "#sk-container-id-6 div.sk-toggleable__content {\n",
       "  max-height: 0;\n",
       "  max-width: 0;\n",
       "  overflow: hidden;\n",
       "  text-align: left;\n",
       "  /* unfitted */\n",
       "  background-color: var(--sklearn-color-unfitted-level-0);\n",
       "}\n",
       "\n",
       "#sk-container-id-6 div.sk-toggleable__content.fitted {\n",
       "  /* fitted */\n",
       "  background-color: var(--sklearn-color-fitted-level-0);\n",
       "}\n",
       "\n",
       "#sk-container-id-6 div.sk-toggleable__content pre {\n",
       "  margin: 0.2em;\n",
       "  border-radius: 0.25em;\n",
       "  color: var(--sklearn-color-text);\n",
       "  /* unfitted */\n",
       "  background-color: var(--sklearn-color-unfitted-level-0);\n",
       "}\n",
       "\n",
       "#sk-container-id-6 div.sk-toggleable__content.fitted pre {\n",
       "  /* unfitted */\n",
       "  background-color: var(--sklearn-color-fitted-level-0);\n",
       "}\n",
       "\n",
       "#sk-container-id-6 input.sk-toggleable__control:checked~div.sk-toggleable__content {\n",
       "  /* Expand drop-down */\n",
       "  max-height: 200px;\n",
       "  max-width: 100%;\n",
       "  overflow: auto;\n",
       "}\n",
       "\n",
       "#sk-container-id-6 input.sk-toggleable__control:checked~label.sk-toggleable__label-arrow:before {\n",
       "  content: \"▾\";\n",
       "}\n",
       "\n",
       "/* Pipeline/ColumnTransformer-specific style */\n",
       "\n",
       "#sk-container-id-6 div.sk-label input.sk-toggleable__control:checked~label.sk-toggleable__label {\n",
       "  color: var(--sklearn-color-text);\n",
       "  background-color: var(--sklearn-color-unfitted-level-2);\n",
       "}\n",
       "\n",
       "#sk-container-id-6 div.sk-label.fitted input.sk-toggleable__control:checked~label.sk-toggleable__label {\n",
       "  background-color: var(--sklearn-color-fitted-level-2);\n",
       "}\n",
       "\n",
       "/* Estimator-specific style */\n",
       "\n",
       "/* Colorize estimator box */\n",
       "#sk-container-id-6 div.sk-estimator input.sk-toggleable__control:checked~label.sk-toggleable__label {\n",
       "  /* unfitted */\n",
       "  background-color: var(--sklearn-color-unfitted-level-2);\n",
       "}\n",
       "\n",
       "#sk-container-id-6 div.sk-estimator.fitted input.sk-toggleable__control:checked~label.sk-toggleable__label {\n",
       "  /* fitted */\n",
       "  background-color: var(--sklearn-color-fitted-level-2);\n",
       "}\n",
       "\n",
       "#sk-container-id-6 div.sk-label label.sk-toggleable__label,\n",
       "#sk-container-id-6 div.sk-label label {\n",
       "  /* The background is the default theme color */\n",
       "  color: var(--sklearn-color-text-on-default-background);\n",
       "}\n",
       "\n",
       "/* On hover, darken the color of the background */\n",
       "#sk-container-id-6 div.sk-label:hover label.sk-toggleable__label {\n",
       "  color: var(--sklearn-color-text);\n",
       "  background-color: var(--sklearn-color-unfitted-level-2);\n",
       "}\n",
       "\n",
       "/* Label box, darken color on hover, fitted */\n",
       "#sk-container-id-6 div.sk-label.fitted:hover label.sk-toggleable__label.fitted {\n",
       "  color: var(--sklearn-color-text);\n",
       "  background-color: var(--sklearn-color-fitted-level-2);\n",
       "}\n",
       "\n",
       "/* Estimator label */\n",
       "\n",
       "#sk-container-id-6 div.sk-label label {\n",
       "  font-family: monospace;\n",
       "  font-weight: bold;\n",
       "  display: inline-block;\n",
       "  line-height: 1.2em;\n",
       "}\n",
       "\n",
       "#sk-container-id-6 div.sk-label-container {\n",
       "  text-align: center;\n",
       "}\n",
       "\n",
       "/* Estimator-specific */\n",
       "#sk-container-id-6 div.sk-estimator {\n",
       "  font-family: monospace;\n",
       "  border: 1px dotted var(--sklearn-color-border-box);\n",
       "  border-radius: 0.25em;\n",
       "  box-sizing: border-box;\n",
       "  margin-bottom: 0.5em;\n",
       "  /* unfitted */\n",
       "  background-color: var(--sklearn-color-unfitted-level-0);\n",
       "}\n",
       "\n",
       "#sk-container-id-6 div.sk-estimator.fitted {\n",
       "  /* fitted */\n",
       "  background-color: var(--sklearn-color-fitted-level-0);\n",
       "}\n",
       "\n",
       "/* on hover */\n",
       "#sk-container-id-6 div.sk-estimator:hover {\n",
       "  /* unfitted */\n",
       "  background-color: var(--sklearn-color-unfitted-level-2);\n",
       "}\n",
       "\n",
       "#sk-container-id-6 div.sk-estimator.fitted:hover {\n",
       "  /* fitted */\n",
       "  background-color: var(--sklearn-color-fitted-level-2);\n",
       "}\n",
       "\n",
       "/* Specification for estimator info (e.g. \"i\" and \"?\") */\n",
       "\n",
       "/* Common style for \"i\" and \"?\" */\n",
       "\n",
       ".sk-estimator-doc-link,\n",
       "a:link.sk-estimator-doc-link,\n",
       "a:visited.sk-estimator-doc-link {\n",
       "  float: right;\n",
       "  font-size: smaller;\n",
       "  line-height: 1em;\n",
       "  font-family: monospace;\n",
       "  background-color: var(--sklearn-color-background);\n",
       "  border-radius: 1em;\n",
       "  height: 1em;\n",
       "  width: 1em;\n",
       "  text-decoration: none !important;\n",
       "  margin-left: 1ex;\n",
       "  /* unfitted */\n",
       "  border: var(--sklearn-color-unfitted-level-1) 1pt solid;\n",
       "  color: var(--sklearn-color-unfitted-level-1);\n",
       "}\n",
       "\n",
       ".sk-estimator-doc-link.fitted,\n",
       "a:link.sk-estimator-doc-link.fitted,\n",
       "a:visited.sk-estimator-doc-link.fitted {\n",
       "  /* fitted */\n",
       "  border: var(--sklearn-color-fitted-level-1) 1pt solid;\n",
       "  color: var(--sklearn-color-fitted-level-1);\n",
       "}\n",
       "\n",
       "/* On hover */\n",
       "div.sk-estimator:hover .sk-estimator-doc-link:hover,\n",
       ".sk-estimator-doc-link:hover,\n",
       "div.sk-label-container:hover .sk-estimator-doc-link:hover,\n",
       ".sk-estimator-doc-link:hover {\n",
       "  /* unfitted */\n",
       "  background-color: var(--sklearn-color-unfitted-level-3);\n",
       "  color: var(--sklearn-color-background);\n",
       "  text-decoration: none;\n",
       "}\n",
       "\n",
       "div.sk-estimator.fitted:hover .sk-estimator-doc-link.fitted:hover,\n",
       ".sk-estimator-doc-link.fitted:hover,\n",
       "div.sk-label-container:hover .sk-estimator-doc-link.fitted:hover,\n",
       ".sk-estimator-doc-link.fitted:hover {\n",
       "  /* fitted */\n",
       "  background-color: var(--sklearn-color-fitted-level-3);\n",
       "  color: var(--sklearn-color-background);\n",
       "  text-decoration: none;\n",
       "}\n",
       "\n",
       "/* Span, style for the box shown on hovering the info icon */\n",
       ".sk-estimator-doc-link span {\n",
       "  display: none;\n",
       "  z-index: 9999;\n",
       "  position: relative;\n",
       "  font-weight: normal;\n",
       "  right: .2ex;\n",
       "  padding: .5ex;\n",
       "  margin: .5ex;\n",
       "  width: min-content;\n",
       "  min-width: 20ex;\n",
       "  max-width: 50ex;\n",
       "  color: var(--sklearn-color-text);\n",
       "  box-shadow: 2pt 2pt 4pt #999;\n",
       "  /* unfitted */\n",
       "  background: var(--sklearn-color-unfitted-level-0);\n",
       "  border: .5pt solid var(--sklearn-color-unfitted-level-3);\n",
       "}\n",
       "\n",
       ".sk-estimator-doc-link.fitted span {\n",
       "  /* fitted */\n",
       "  background: var(--sklearn-color-fitted-level-0);\n",
       "  border: var(--sklearn-color-fitted-level-3);\n",
       "}\n",
       "\n",
       ".sk-estimator-doc-link:hover span {\n",
       "  display: block;\n",
       "}\n",
       "\n",
       "/* \"?\"-specific style due to the `<a>` HTML tag */\n",
       "\n",
       "#sk-container-id-6 a.estimator_doc_link {\n",
       "  float: right;\n",
       "  font-size: 1rem;\n",
       "  line-height: 1em;\n",
       "  font-family: monospace;\n",
       "  background-color: var(--sklearn-color-background);\n",
       "  border-radius: 1rem;\n",
       "  height: 1rem;\n",
       "  width: 1rem;\n",
       "  text-decoration: none;\n",
       "  /* unfitted */\n",
       "  color: var(--sklearn-color-unfitted-level-1);\n",
       "  border: var(--sklearn-color-unfitted-level-1) 1pt solid;\n",
       "}\n",
       "\n",
       "#sk-container-id-6 a.estimator_doc_link.fitted {\n",
       "  /* fitted */\n",
       "  border: var(--sklearn-color-fitted-level-1) 1pt solid;\n",
       "  color: var(--sklearn-color-fitted-level-1);\n",
       "}\n",
       "\n",
       "/* On hover */\n",
       "#sk-container-id-6 a.estimator_doc_link:hover {\n",
       "  /* unfitted */\n",
       "  background-color: var(--sklearn-color-unfitted-level-3);\n",
       "  color: var(--sklearn-color-background);\n",
       "  text-decoration: none;\n",
       "}\n",
       "\n",
       "#sk-container-id-6 a.estimator_doc_link.fitted:hover {\n",
       "  /* fitted */\n",
       "  background-color: var(--sklearn-color-fitted-level-3);\n",
       "}\n",
       "</style><div id=\"sk-container-id-6\" class=\"sk-top-container\"><div class=\"sk-text-repr-fallback\"><pre>XGBClassifier(base_score=None, booster=None, callbacks=None,\n",
       "              colsample_bylevel=None, colsample_bynode=None,\n",
       "              colsample_bytree=0.7, device=None, early_stopping_rounds=None,\n",
       "              enable_categorical=False, eval_metric=None, feature_types=None,\n",
       "              gamma=None, grow_policy=None, importance_type=None,\n",
       "              interaction_constraints=None, learning_rate=0.01, max_bin=None,\n",
       "              max_cat_threshold=None, max_cat_to_onehot=None,\n",
       "              max_delta_step=None, max_depth=3, max_leaves=None,\n",
       "              min_child_weight=None, missing=nan, monotone_constraints=None,\n",
       "              multi_strategy=None, n_estimators=100, n_jobs=None,\n",
       "              num_parallel_tree=None, random_state=None, ...)</pre><b>In a Jupyter environment, please rerun this cell to show the HTML representation or trust the notebook. <br />On GitHub, the HTML representation is unable to render, please try loading this page with nbviewer.org.</b></div><div class=\"sk-container\" hidden><div class=\"sk-item\"><div class=\"sk-estimator fitted sk-toggleable\"><input class=\"sk-toggleable__control sk-hidden--visually\" id=\"sk-estimator-id-6\" type=\"checkbox\" checked><label for=\"sk-estimator-id-6\" class=\"sk-toggleable__label fitted sk-toggleable__label-arrow fitted\">&nbsp;XGBClassifier<span class=\"sk-estimator-doc-link fitted\">i<span>Fitted</span></span></label><div class=\"sk-toggleable__content fitted\"><pre>XGBClassifier(base_score=None, booster=None, callbacks=None,\n",
       "              colsample_bylevel=None, colsample_bynode=None,\n",
       "              colsample_bytree=0.7, device=None, early_stopping_rounds=None,\n",
       "              enable_categorical=False, eval_metric=None, feature_types=None,\n",
       "              gamma=None, grow_policy=None, importance_type=None,\n",
       "              interaction_constraints=None, learning_rate=0.01, max_bin=None,\n",
       "              max_cat_threshold=None, max_cat_to_onehot=None,\n",
       "              max_delta_step=None, max_depth=3, max_leaves=None,\n",
       "              min_child_weight=None, missing=nan, monotone_constraints=None,\n",
       "              multi_strategy=None, n_estimators=100, n_jobs=None,\n",
       "              num_parallel_tree=None, random_state=None, ...)</pre></div> </div></div></div></div>"
      ],
      "text/plain": [
       "XGBClassifier(base_score=None, booster=None, callbacks=None,\n",
       "              colsample_bylevel=None, colsample_bynode=None,\n",
       "              colsample_bytree=0.7, device=None, early_stopping_rounds=None,\n",
       "              enable_categorical=False, eval_metric=None, feature_types=None,\n",
       "              gamma=None, grow_policy=None, importance_type=None,\n",
       "              interaction_constraints=None, learning_rate=0.01, max_bin=None,\n",
       "              max_cat_threshold=None, max_cat_to_onehot=None,\n",
       "              max_delta_step=None, max_depth=3, max_leaves=None,\n",
       "              min_child_weight=None, missing=nan, monotone_constraints=None,\n",
       "              multi_strategy=None, n_estimators=100, n_jobs=None,\n",
       "              num_parallel_tree=None, random_state=None, ...)"
      ]
     },
     "execution_count": 92,
     "metadata": {},
     "output_type": "execute_result"
    }
   ],
   "source": [
    "\n",
    "params = {\n",
    "    'colsample_bytree': 0.7,\n",
    "    'learning_rate': 0.01,\n",
    "    'max_depth': 3,\n",
    "    'n_estimators': 100,\n",
    "    'subsample': 0.7,\n",
    "    'scale_pos_weight': (len(y_train) - sum(y_train)) / sum(y_train)  # Ajustar el peso de la clase 1\n",
    "}\n",
    "\n",
    "# Reentrenar el modelo con los nuevos parámetros\n",
    "xgb_model = XGBClassifier(**params)\n",
    "xgb_model.fit(X_train, y_train)"
   ]
  },
  {
   "cell_type": "code",
   "execution_count": 93,
   "metadata": {
    "colab": {
     "base_uri": "https://localhost:8080/"
    },
    "id": "3EVbs1Xch6uL",
    "outputId": "ddfe6209-4e1f-40cb-da0d-d6dbfedd1647"
   },
   "outputs": [
    {
     "name": "stdout",
     "output_type": "stream",
     "text": [
      "Matriz de confusión:\n",
      "[[112600      0]\n",
      " [  6298      0]]\n",
      "\n",
      "Informe de clasificación:\n",
      "              precision    recall  f1-score   support\n",
      "\n",
      "           0       0.95      1.00      0.97    112600\n",
      "           1       0.00      0.00      0.00      6298\n",
      "\n",
      "    accuracy                           0.95    118898\n",
      "   macro avg       0.47      0.50      0.49    118898\n",
      "weighted avg       0.90      0.95      0.92    118898\n",
      "\n"
     ]
    },
    {
     "name": "stderr",
     "output_type": "stream",
     "text": [
      "C:\\Users\\MATIAS\\miniconda3\\lib\\site-packages\\sklearn\\metrics\\_classification.py:1531: UndefinedMetricWarning: Precision is ill-defined and being set to 0.0 in labels with no predicted samples. Use `zero_division` parameter to control this behavior.\n",
      "  _warn_prf(average, modifier, f\"{metric.capitalize()} is\", len(result))\n",
      "C:\\Users\\MATIAS\\miniconda3\\lib\\site-packages\\sklearn\\metrics\\_classification.py:1531: UndefinedMetricWarning: Precision is ill-defined and being set to 0.0 in labels with no predicted samples. Use `zero_division` parameter to control this behavior.\n",
      "  _warn_prf(average, modifier, f\"{metric.capitalize()} is\", len(result))\n",
      "C:\\Users\\MATIAS\\miniconda3\\lib\\site-packages\\sklearn\\metrics\\_classification.py:1531: UndefinedMetricWarning: Precision is ill-defined and being set to 0.0 in labels with no predicted samples. Use `zero_division` parameter to control this behavior.\n",
      "  _warn_prf(average, modifier, f\"{metric.capitalize()} is\", len(result))\n"
     ]
    }
   ],
   "source": [
    "# Entrenamos el modelo con los mejores parámetros\n",
    "xgb_model = XGBClassifier(colsample_bytree=0.7, learning_rate=0.01, max_depth=3, n_estimators=100, subsample=0.7)\n",
    "xgb_model.fit(X_train, y_train)\n",
    "\n",
    "# Hacemos predicciones en los datos de prueba\n",
    "y_pred = xgb_model.predict(X_test)\n",
    "\n",
    "# Evaluamos el rendimiento del modelo\n",
    "print(\"Matriz de confusión:\")\n",
    "print(confusion_matrix(y_test, y_pred))\n",
    "\n",
    "print(\"\\nInforme de clasificación:\")\n",
    "print(classification_report(y_test, y_pred))\n"
   ]
  },
  {
   "cell_type": "code",
   "execution_count": 94,
   "metadata": {
    "colab": {
     "base_uri": "https://localhost:8080/",
     "height": 248
    },
    "id": "vIM06lw1inPH",
    "outputId": "f6f20e15-a6b1-4e17-9732-8257eca0a2be"
   },
   "outputs": [
    {
     "data": {
      "text/html": [
       "<style>#sk-container-id-7 {\n",
       "  /* Definition of color scheme common for light and dark mode */\n",
       "  --sklearn-color-text: black;\n",
       "  --sklearn-color-line: gray;\n",
       "  /* Definition of color scheme for unfitted estimators */\n",
       "  --sklearn-color-unfitted-level-0: #fff5e6;\n",
       "  --sklearn-color-unfitted-level-1: #f6e4d2;\n",
       "  --sklearn-color-unfitted-level-2: #ffe0b3;\n",
       "  --sklearn-color-unfitted-level-3: chocolate;\n",
       "  /* Definition of color scheme for fitted estimators */\n",
       "  --sklearn-color-fitted-level-0: #f0f8ff;\n",
       "  --sklearn-color-fitted-level-1: #d4ebff;\n",
       "  --sklearn-color-fitted-level-2: #b3dbfd;\n",
       "  --sklearn-color-fitted-level-3: cornflowerblue;\n",
       "\n",
       "  /* Specific color for light theme */\n",
       "  --sklearn-color-text-on-default-background: var(--sg-text-color, var(--theme-code-foreground, var(--jp-content-font-color1, black)));\n",
       "  --sklearn-color-background: var(--sg-background-color, var(--theme-background, var(--jp-layout-color0, white)));\n",
       "  --sklearn-color-border-box: var(--sg-text-color, var(--theme-code-foreground, var(--jp-content-font-color1, black)));\n",
       "  --sklearn-color-icon: #696969;\n",
       "\n",
       "  @media (prefers-color-scheme: dark) {\n",
       "    /* Redefinition of color scheme for dark theme */\n",
       "    --sklearn-color-text-on-default-background: var(--sg-text-color, var(--theme-code-foreground, var(--jp-content-font-color1, white)));\n",
       "    --sklearn-color-background: var(--sg-background-color, var(--theme-background, var(--jp-layout-color0, #111)));\n",
       "    --sklearn-color-border-box: var(--sg-text-color, var(--theme-code-foreground, var(--jp-content-font-color1, white)));\n",
       "    --sklearn-color-icon: #878787;\n",
       "  }\n",
       "}\n",
       "\n",
       "#sk-container-id-7 {\n",
       "  color: var(--sklearn-color-text);\n",
       "}\n",
       "\n",
       "#sk-container-id-7 pre {\n",
       "  padding: 0;\n",
       "}\n",
       "\n",
       "#sk-container-id-7 input.sk-hidden--visually {\n",
       "  border: 0;\n",
       "  clip: rect(1px 1px 1px 1px);\n",
       "  clip: rect(1px, 1px, 1px, 1px);\n",
       "  height: 1px;\n",
       "  margin: -1px;\n",
       "  overflow: hidden;\n",
       "  padding: 0;\n",
       "  position: absolute;\n",
       "  width: 1px;\n",
       "}\n",
       "\n",
       "#sk-container-id-7 div.sk-dashed-wrapped {\n",
       "  border: 1px dashed var(--sklearn-color-line);\n",
       "  margin: 0 0.4em 0.5em 0.4em;\n",
       "  box-sizing: border-box;\n",
       "  padding-bottom: 0.4em;\n",
       "  background-color: var(--sklearn-color-background);\n",
       "}\n",
       "\n",
       "#sk-container-id-7 div.sk-container {\n",
       "  /* jupyter's `normalize.less` sets `[hidden] { display: none; }`\n",
       "     but bootstrap.min.css set `[hidden] { display: none !important; }`\n",
       "     so we also need the `!important` here to be able to override the\n",
       "     default hidden behavior on the sphinx rendered scikit-learn.org.\n",
       "     See: https://github.com/scikit-learn/scikit-learn/issues/21755 */\n",
       "  display: inline-block !important;\n",
       "  position: relative;\n",
       "}\n",
       "\n",
       "#sk-container-id-7 div.sk-text-repr-fallback {\n",
       "  display: none;\n",
       "}\n",
       "\n",
       "div.sk-parallel-item,\n",
       "div.sk-serial,\n",
       "div.sk-item {\n",
       "  /* draw centered vertical line to link estimators */\n",
       "  background-image: linear-gradient(var(--sklearn-color-text-on-default-background), var(--sklearn-color-text-on-default-background));\n",
       "  background-size: 2px 100%;\n",
       "  background-repeat: no-repeat;\n",
       "  background-position: center center;\n",
       "}\n",
       "\n",
       "/* Parallel-specific style estimator block */\n",
       "\n",
       "#sk-container-id-7 div.sk-parallel-item::after {\n",
       "  content: \"\";\n",
       "  width: 100%;\n",
       "  border-bottom: 2px solid var(--sklearn-color-text-on-default-background);\n",
       "  flex-grow: 1;\n",
       "}\n",
       "\n",
       "#sk-container-id-7 div.sk-parallel {\n",
       "  display: flex;\n",
       "  align-items: stretch;\n",
       "  justify-content: center;\n",
       "  background-color: var(--sklearn-color-background);\n",
       "  position: relative;\n",
       "}\n",
       "\n",
       "#sk-container-id-7 div.sk-parallel-item {\n",
       "  display: flex;\n",
       "  flex-direction: column;\n",
       "}\n",
       "\n",
       "#sk-container-id-7 div.sk-parallel-item:first-child::after {\n",
       "  align-self: flex-end;\n",
       "  width: 50%;\n",
       "}\n",
       "\n",
       "#sk-container-id-7 div.sk-parallel-item:last-child::after {\n",
       "  align-self: flex-start;\n",
       "  width: 50%;\n",
       "}\n",
       "\n",
       "#sk-container-id-7 div.sk-parallel-item:only-child::after {\n",
       "  width: 0;\n",
       "}\n",
       "\n",
       "/* Serial-specific style estimator block */\n",
       "\n",
       "#sk-container-id-7 div.sk-serial {\n",
       "  display: flex;\n",
       "  flex-direction: column;\n",
       "  align-items: center;\n",
       "  background-color: var(--sklearn-color-background);\n",
       "  padding-right: 1em;\n",
       "  padding-left: 1em;\n",
       "}\n",
       "\n",
       "\n",
       "/* Toggleable style: style used for estimator/Pipeline/ColumnTransformer box that is\n",
       "clickable and can be expanded/collapsed.\n",
       "- Pipeline and ColumnTransformer use this feature and define the default style\n",
       "- Estimators will overwrite some part of the style using the `sk-estimator` class\n",
       "*/\n",
       "\n",
       "/* Pipeline and ColumnTransformer style (default) */\n",
       "\n",
       "#sk-container-id-7 div.sk-toggleable {\n",
       "  /* Default theme specific background. It is overwritten whether we have a\n",
       "  specific estimator or a Pipeline/ColumnTransformer */\n",
       "  background-color: var(--sklearn-color-background);\n",
       "}\n",
       "\n",
       "/* Toggleable label */\n",
       "#sk-container-id-7 label.sk-toggleable__label {\n",
       "  cursor: pointer;\n",
       "  display: block;\n",
       "  width: 100%;\n",
       "  margin-bottom: 0;\n",
       "  padding: 0.5em;\n",
       "  box-sizing: border-box;\n",
       "  text-align: center;\n",
       "}\n",
       "\n",
       "#sk-container-id-7 label.sk-toggleable__label-arrow:before {\n",
       "  /* Arrow on the left of the label */\n",
       "  content: \"▸\";\n",
       "  float: left;\n",
       "  margin-right: 0.25em;\n",
       "  color: var(--sklearn-color-icon);\n",
       "}\n",
       "\n",
       "#sk-container-id-7 label.sk-toggleable__label-arrow:hover:before {\n",
       "  color: var(--sklearn-color-text);\n",
       "}\n",
       "\n",
       "/* Toggleable content - dropdown */\n",
       "\n",
       "#sk-container-id-7 div.sk-toggleable__content {\n",
       "  max-height: 0;\n",
       "  max-width: 0;\n",
       "  overflow: hidden;\n",
       "  text-align: left;\n",
       "  /* unfitted */\n",
       "  background-color: var(--sklearn-color-unfitted-level-0);\n",
       "}\n",
       "\n",
       "#sk-container-id-7 div.sk-toggleable__content.fitted {\n",
       "  /* fitted */\n",
       "  background-color: var(--sklearn-color-fitted-level-0);\n",
       "}\n",
       "\n",
       "#sk-container-id-7 div.sk-toggleable__content pre {\n",
       "  margin: 0.2em;\n",
       "  border-radius: 0.25em;\n",
       "  color: var(--sklearn-color-text);\n",
       "  /* unfitted */\n",
       "  background-color: var(--sklearn-color-unfitted-level-0);\n",
       "}\n",
       "\n",
       "#sk-container-id-7 div.sk-toggleable__content.fitted pre {\n",
       "  /* unfitted */\n",
       "  background-color: var(--sklearn-color-fitted-level-0);\n",
       "}\n",
       "\n",
       "#sk-container-id-7 input.sk-toggleable__control:checked~div.sk-toggleable__content {\n",
       "  /* Expand drop-down */\n",
       "  max-height: 200px;\n",
       "  max-width: 100%;\n",
       "  overflow: auto;\n",
       "}\n",
       "\n",
       "#sk-container-id-7 input.sk-toggleable__control:checked~label.sk-toggleable__label-arrow:before {\n",
       "  content: \"▾\";\n",
       "}\n",
       "\n",
       "/* Pipeline/ColumnTransformer-specific style */\n",
       "\n",
       "#sk-container-id-7 div.sk-label input.sk-toggleable__control:checked~label.sk-toggleable__label {\n",
       "  color: var(--sklearn-color-text);\n",
       "  background-color: var(--sklearn-color-unfitted-level-2);\n",
       "}\n",
       "\n",
       "#sk-container-id-7 div.sk-label.fitted input.sk-toggleable__control:checked~label.sk-toggleable__label {\n",
       "  background-color: var(--sklearn-color-fitted-level-2);\n",
       "}\n",
       "\n",
       "/* Estimator-specific style */\n",
       "\n",
       "/* Colorize estimator box */\n",
       "#sk-container-id-7 div.sk-estimator input.sk-toggleable__control:checked~label.sk-toggleable__label {\n",
       "  /* unfitted */\n",
       "  background-color: var(--sklearn-color-unfitted-level-2);\n",
       "}\n",
       "\n",
       "#sk-container-id-7 div.sk-estimator.fitted input.sk-toggleable__control:checked~label.sk-toggleable__label {\n",
       "  /* fitted */\n",
       "  background-color: var(--sklearn-color-fitted-level-2);\n",
       "}\n",
       "\n",
       "#sk-container-id-7 div.sk-label label.sk-toggleable__label,\n",
       "#sk-container-id-7 div.sk-label label {\n",
       "  /* The background is the default theme color */\n",
       "  color: var(--sklearn-color-text-on-default-background);\n",
       "}\n",
       "\n",
       "/* On hover, darken the color of the background */\n",
       "#sk-container-id-7 div.sk-label:hover label.sk-toggleable__label {\n",
       "  color: var(--sklearn-color-text);\n",
       "  background-color: var(--sklearn-color-unfitted-level-2);\n",
       "}\n",
       "\n",
       "/* Label box, darken color on hover, fitted */\n",
       "#sk-container-id-7 div.sk-label.fitted:hover label.sk-toggleable__label.fitted {\n",
       "  color: var(--sklearn-color-text);\n",
       "  background-color: var(--sklearn-color-fitted-level-2);\n",
       "}\n",
       "\n",
       "/* Estimator label */\n",
       "\n",
       "#sk-container-id-7 div.sk-label label {\n",
       "  font-family: monospace;\n",
       "  font-weight: bold;\n",
       "  display: inline-block;\n",
       "  line-height: 1.2em;\n",
       "}\n",
       "\n",
       "#sk-container-id-7 div.sk-label-container {\n",
       "  text-align: center;\n",
       "}\n",
       "\n",
       "/* Estimator-specific */\n",
       "#sk-container-id-7 div.sk-estimator {\n",
       "  font-family: monospace;\n",
       "  border: 1px dotted var(--sklearn-color-border-box);\n",
       "  border-radius: 0.25em;\n",
       "  box-sizing: border-box;\n",
       "  margin-bottom: 0.5em;\n",
       "  /* unfitted */\n",
       "  background-color: var(--sklearn-color-unfitted-level-0);\n",
       "}\n",
       "\n",
       "#sk-container-id-7 div.sk-estimator.fitted {\n",
       "  /* fitted */\n",
       "  background-color: var(--sklearn-color-fitted-level-0);\n",
       "}\n",
       "\n",
       "/* on hover */\n",
       "#sk-container-id-7 div.sk-estimator:hover {\n",
       "  /* unfitted */\n",
       "  background-color: var(--sklearn-color-unfitted-level-2);\n",
       "}\n",
       "\n",
       "#sk-container-id-7 div.sk-estimator.fitted:hover {\n",
       "  /* fitted */\n",
       "  background-color: var(--sklearn-color-fitted-level-2);\n",
       "}\n",
       "\n",
       "/* Specification for estimator info (e.g. \"i\" and \"?\") */\n",
       "\n",
       "/* Common style for \"i\" and \"?\" */\n",
       "\n",
       ".sk-estimator-doc-link,\n",
       "a:link.sk-estimator-doc-link,\n",
       "a:visited.sk-estimator-doc-link {\n",
       "  float: right;\n",
       "  font-size: smaller;\n",
       "  line-height: 1em;\n",
       "  font-family: monospace;\n",
       "  background-color: var(--sklearn-color-background);\n",
       "  border-radius: 1em;\n",
       "  height: 1em;\n",
       "  width: 1em;\n",
       "  text-decoration: none !important;\n",
       "  margin-left: 1ex;\n",
       "  /* unfitted */\n",
       "  border: var(--sklearn-color-unfitted-level-1) 1pt solid;\n",
       "  color: var(--sklearn-color-unfitted-level-1);\n",
       "}\n",
       "\n",
       ".sk-estimator-doc-link.fitted,\n",
       "a:link.sk-estimator-doc-link.fitted,\n",
       "a:visited.sk-estimator-doc-link.fitted {\n",
       "  /* fitted */\n",
       "  border: var(--sklearn-color-fitted-level-1) 1pt solid;\n",
       "  color: var(--sklearn-color-fitted-level-1);\n",
       "}\n",
       "\n",
       "/* On hover */\n",
       "div.sk-estimator:hover .sk-estimator-doc-link:hover,\n",
       ".sk-estimator-doc-link:hover,\n",
       "div.sk-label-container:hover .sk-estimator-doc-link:hover,\n",
       ".sk-estimator-doc-link:hover {\n",
       "  /* unfitted */\n",
       "  background-color: var(--sklearn-color-unfitted-level-3);\n",
       "  color: var(--sklearn-color-background);\n",
       "  text-decoration: none;\n",
       "}\n",
       "\n",
       "div.sk-estimator.fitted:hover .sk-estimator-doc-link.fitted:hover,\n",
       ".sk-estimator-doc-link.fitted:hover,\n",
       "div.sk-label-container:hover .sk-estimator-doc-link.fitted:hover,\n",
       ".sk-estimator-doc-link.fitted:hover {\n",
       "  /* fitted */\n",
       "  background-color: var(--sklearn-color-fitted-level-3);\n",
       "  color: var(--sklearn-color-background);\n",
       "  text-decoration: none;\n",
       "}\n",
       "\n",
       "/* Span, style for the box shown on hovering the info icon */\n",
       ".sk-estimator-doc-link span {\n",
       "  display: none;\n",
       "  z-index: 9999;\n",
       "  position: relative;\n",
       "  font-weight: normal;\n",
       "  right: .2ex;\n",
       "  padding: .5ex;\n",
       "  margin: .5ex;\n",
       "  width: min-content;\n",
       "  min-width: 20ex;\n",
       "  max-width: 50ex;\n",
       "  color: var(--sklearn-color-text);\n",
       "  box-shadow: 2pt 2pt 4pt #999;\n",
       "  /* unfitted */\n",
       "  background: var(--sklearn-color-unfitted-level-0);\n",
       "  border: .5pt solid var(--sklearn-color-unfitted-level-3);\n",
       "}\n",
       "\n",
       ".sk-estimator-doc-link.fitted span {\n",
       "  /* fitted */\n",
       "  background: var(--sklearn-color-fitted-level-0);\n",
       "  border: var(--sklearn-color-fitted-level-3);\n",
       "}\n",
       "\n",
       ".sk-estimator-doc-link:hover span {\n",
       "  display: block;\n",
       "}\n",
       "\n",
       "/* \"?\"-specific style due to the `<a>` HTML tag */\n",
       "\n",
       "#sk-container-id-7 a.estimator_doc_link {\n",
       "  float: right;\n",
       "  font-size: 1rem;\n",
       "  line-height: 1em;\n",
       "  font-family: monospace;\n",
       "  background-color: var(--sklearn-color-background);\n",
       "  border-radius: 1rem;\n",
       "  height: 1rem;\n",
       "  width: 1rem;\n",
       "  text-decoration: none;\n",
       "  /* unfitted */\n",
       "  color: var(--sklearn-color-unfitted-level-1);\n",
       "  border: var(--sklearn-color-unfitted-level-1) 1pt solid;\n",
       "}\n",
       "\n",
       "#sk-container-id-7 a.estimator_doc_link.fitted {\n",
       "  /* fitted */\n",
       "  border: var(--sklearn-color-fitted-level-1) 1pt solid;\n",
       "  color: var(--sklearn-color-fitted-level-1);\n",
       "}\n",
       "\n",
       "/* On hover */\n",
       "#sk-container-id-7 a.estimator_doc_link:hover {\n",
       "  /* unfitted */\n",
       "  background-color: var(--sklearn-color-unfitted-level-3);\n",
       "  color: var(--sklearn-color-background);\n",
       "  text-decoration: none;\n",
       "}\n",
       "\n",
       "#sk-container-id-7 a.estimator_doc_link.fitted:hover {\n",
       "  /* fitted */\n",
       "  background-color: var(--sklearn-color-fitted-level-3);\n",
       "}\n",
       "</style><div id=\"sk-container-id-7\" class=\"sk-top-container\"><div class=\"sk-text-repr-fallback\"><pre>XGBClassifier(base_score=None, booster=None, callbacks=None,\n",
       "              colsample_bylevel=None, colsample_bynode=None,\n",
       "              colsample_bytree=0.7, device=None, early_stopping_rounds=None,\n",
       "              enable_categorical=False, eval_metric=None, feature_types=None,\n",
       "              gamma=None, grow_policy=None, importance_type=None,\n",
       "              interaction_constraints=None, learning_rate=0.01, max_bin=None,\n",
       "              max_cat_threshold=None, max_cat_to_onehot=None,\n",
       "              max_delta_step=None, max_depth=3, max_leaves=None,\n",
       "              min_child_weight=None, missing=nan, monotone_constraints=None,\n",
       "              multi_strategy=None, n_estimators=100, n_jobs=None,\n",
       "              num_parallel_tree=None, random_state=None, ...)</pre><b>In a Jupyter environment, please rerun this cell to show the HTML representation or trust the notebook. <br />On GitHub, the HTML representation is unable to render, please try loading this page with nbviewer.org.</b></div><div class=\"sk-container\" hidden><div class=\"sk-item\"><div class=\"sk-estimator fitted sk-toggleable\"><input class=\"sk-toggleable__control sk-hidden--visually\" id=\"sk-estimator-id-7\" type=\"checkbox\" checked><label for=\"sk-estimator-id-7\" class=\"sk-toggleable__label fitted sk-toggleable__label-arrow fitted\">&nbsp;XGBClassifier<span class=\"sk-estimator-doc-link fitted\">i<span>Fitted</span></span></label><div class=\"sk-toggleable__content fitted\"><pre>XGBClassifier(base_score=None, booster=None, callbacks=None,\n",
       "              colsample_bylevel=None, colsample_bynode=None,\n",
       "              colsample_bytree=0.7, device=None, early_stopping_rounds=None,\n",
       "              enable_categorical=False, eval_metric=None, feature_types=None,\n",
       "              gamma=None, grow_policy=None, importance_type=None,\n",
       "              interaction_constraints=None, learning_rate=0.01, max_bin=None,\n",
       "              max_cat_threshold=None, max_cat_to_onehot=None,\n",
       "              max_delta_step=None, max_depth=3, max_leaves=None,\n",
       "              min_child_weight=None, missing=nan, monotone_constraints=None,\n",
       "              multi_strategy=None, n_estimators=100, n_jobs=None,\n",
       "              num_parallel_tree=None, random_state=None, ...)</pre></div> </div></div></div></div>"
      ],
      "text/plain": [
       "XGBClassifier(base_score=None, booster=None, callbacks=None,\n",
       "              colsample_bylevel=None, colsample_bynode=None,\n",
       "              colsample_bytree=0.7, device=None, early_stopping_rounds=None,\n",
       "              enable_categorical=False, eval_metric=None, feature_types=None,\n",
       "              gamma=None, grow_policy=None, importance_type=None,\n",
       "              interaction_constraints=None, learning_rate=0.01, max_bin=None,\n",
       "              max_cat_threshold=None, max_cat_to_onehot=None,\n",
       "              max_delta_step=None, max_depth=3, max_leaves=None,\n",
       "              min_child_weight=None, missing=nan, monotone_constraints=None,\n",
       "              multi_strategy=None, n_estimators=100, n_jobs=None,\n",
       "              num_parallel_tree=None, random_state=None, ...)"
      ]
     },
     "execution_count": 94,
     "metadata": {},
     "output_type": "execute_result"
    }
   ],
   "source": [
    "xgb_model = XGBClassifier(colsample_bytree=0.7, learning_rate=0.01, max_depth=3, n_estimators=100, subsample=0.7, scale_pos_weight=(len(y_train) - sum(y_train)) / sum(y_train))\n",
    "xgb_model.fit(X_train, y_train)\n"
   ]
  },
  {
   "cell_type": "code",
   "execution_count": 95,
   "metadata": {
    "colab": {
     "base_uri": "https://localhost:8080/"
    },
    "id": "G5E1qWYUiyrG",
    "outputId": "a1913669-c483-40ff-9005-bf09a427d0f8"
   },
   "outputs": [
    {
     "name": "stdout",
     "output_type": "stream",
     "text": [
      "Matriz de confusión:\n",
      "[[64188 48412]\n",
      " [ 1276  5022]]\n",
      "Informe de clasificación:\n",
      "              precision    recall  f1-score   support\n",
      "\n",
      "           0       0.98      0.57      0.72    112600\n",
      "           1       0.09      0.80      0.17      6298\n",
      "\n",
      "    accuracy                           0.58    118898\n",
      "   macro avg       0.54      0.68      0.44    118898\n",
      "weighted avg       0.93      0.58      0.69    118898\n",
      "\n"
     ]
    }
   ],
   "source": [
    "# Calcular el peso para balancear las clases\n",
    "class_weight = (len(y_train) - sum(y_train)) / sum(y_train)\n",
    "\n",
    "# Reentrenar el modelo con los nuevos parámetros, incluyendo scale_pos_weight\n",
    "xgb_model = XGBClassifier(\n",
    "    colsample_bytree=0.7,\n",
    "    learning_rate=0.01,\n",
    "    max_depth=3,\n",
    "    n_estimators=100,\n",
    "    subsample=0.7,\n",
    "    scale_pos_weight=class_weight  # Peso de las clases\n",
    ")\n",
    "\n",
    "xgb_model.fit(X_train, y_train)\n",
    "\n",
    "# Realizar las predicciones y evaluar el modelo\n",
    "y_pred = xgb_model.predict(X_test)\n",
    "\n",
    "# Matriz de confusión y reporte de clasificación\n",
    "from sklearn.metrics import confusion_matrix, classification_report\n",
    "\n",
    "print(\"Matriz de confusión:\")\n",
    "print(confusion_matrix(y_test, y_pred))\n",
    "\n",
    "print(\"Informe de clasificación:\")\n",
    "print(classification_report(y_test, y_pred))\n"
   ]
  },
  {
   "cell_type": "code",
   "execution_count": 97,
   "metadata": {
    "colab": {
     "base_uri": "https://localhost:8080/"
    },
    "id": "GreEoSfTYVgn",
    "outputId": "3b57c45c-eddd-430f-f936-4ad31089e929"
   },
   "outputs": [
    {
     "name": "stdout",
     "output_type": "stream",
     "text": [
      "Distribución de clases antes de SMOTE: Counter({0: 263125, 1: 14303})\n",
      "Distribución de clases después de SMOTE: Counter({0: 263125, 1: 263125})\n",
      "Matriz de confusión:\n",
      "[[64921 47679]\n",
      " [ 1315  4983]]\n",
      "Informe de clasificación:\n",
      "              precision    recall  f1-score   support\n",
      "\n",
      "           0       0.98      0.58      0.73    112600\n",
      "           1       0.09      0.79      0.17      6298\n",
      "\n",
      "    accuracy                           0.59    118898\n",
      "   macro avg       0.54      0.68      0.45    118898\n",
      "weighted avg       0.93      0.59      0.70    118898\n",
      "\n"
     ]
    }
   ],
   "source": [
    "from imblearn.over_sampling import SMOTE\n",
    "from collections import Counter\n",
    "\n",
    "# Ver la distribución de clases antes de SMOTE\n",
    "print(f\"Distribución de clases antes de SMOTE: {Counter(y_train)}\")\n",
    "\n",
    "# Definir el SMOTE\n",
    "smote = SMOTE(sampling_strategy='auto')  # auto para generar un equilibrio\n",
    "\n",
    "# Aplicar SMOTE al conjunto de entrenamiento\n",
    "X_resampled, y_resampled = smote.fit_resample(X_train, y_train)\n",
    "\n",
    "# Ver la distribución de clases después de SMOTE\n",
    "print(f\"Distribución de clases después de SMOTE: {Counter(y_resampled)}\")\n",
    "\n",
    "# Entrenar el modelo con los datos balanceados\n",
    "xgb_model = XGBClassifier(\n",
    "    colsample_bytree=0.7,\n",
    "    learning_rate=0.01,\n",
    "    max_depth=3,\n",
    "    n_estimators=100,\n",
    "    subsample=0.7\n",
    ")\n",
    "\n",
    "xgb_model.fit(X_resampled, y_resampled)\n",
    "\n",
    "# Realizar las predicciones en el conjunto de prueba\n",
    "y_pred = xgb_model.predict(X_test)\n",
    "\n",
    "# Matriz de confusión y reporte de clasificación\n",
    "print(\"Matriz de confusión:\")\n",
    "print(confusion_matrix(y_test, y_pred))\n",
    "\n",
    "print(\"Informe de clasificación:\")\n",
    "print(classification_report(y_test, y_pred))\n"
   ]
  },
  {
   "cell_type": "markdown",
   "metadata": {
    "id": "8e9aaMTVZaiH"
   },
   "source": [
    "under_sampling sería como smote pero en lugar de aumentar la variable  minoritaria, disminuye la mayoritaria."
   ]
  },
  {
   "cell_type": "code",
   "execution_count": 98,
   "metadata": {
    "colab": {
     "base_uri": "https://localhost:8080/"
    },
    "id": "pS2hqwRGVhA7",
    "outputId": "cdc86efd-dec9-4721-9b24-a6389dd5c13e"
   },
   "outputs": [
    {
     "name": "stdout",
     "output_type": "stream",
     "text": [
      "Distribución de clases antes del undersampling: Counter({0: 263125, 1: 14303})\n",
      "Distribución de clases después del undersampling: Counter({0: 14303, 1: 14303})\n",
      "Matriz de confusión:\n",
      "[[63381 49219]\n",
      " [ 1231  5067]]\n",
      "Informe de clasificación:\n",
      "              precision    recall  f1-score   support\n",
      "\n",
      "           0       0.98      0.56      0.72    112600\n",
      "           1       0.09      0.80      0.17      6298\n",
      "\n",
      "    accuracy                           0.58    118898\n",
      "   macro avg       0.54      0.68      0.44    118898\n",
      "weighted avg       0.93      0.58      0.69    118898\n",
      "\n"
     ]
    }
   ],
   "source": [
    "from imblearn.under_sampling import RandomUnderSampler\n",
    "\n",
    "\n",
    "# Ver la distribución de clases antes del undersampling\n",
    "print(f\"Distribución de clases antes del undersampling: {Counter(y_train)}\")\n",
    "\n",
    "# Definir el undersampler\n",
    "undersampler = RandomUnderSampler(sampling_strategy=1.0)  # 1.0 para balancear las clases 50-50\n",
    "\n",
    "# Aplicar el undersampling al conjunto de entrenamiento\n",
    "X_resampled, y_resampled = undersampler.fit_resample(X_train, y_train)\n",
    "\n",
    "# Ver la distribución de clases después del undersampling\n",
    "print(f\"Distribución de clases después del undersampling: {Counter(y_resampled)}\")\n",
    "\n",
    "# Entrenar el modelo con los datos balanceados\n",
    "xgb_model = XGBClassifier(\n",
    "    colsample_bytree=0.7,\n",
    "    learning_rate=0.01,\n",
    "    max_depth=3,\n",
    "    n_estimators=100,\n",
    "    subsample=0.7,\n",
    "    scale_pos_weight=1  # Ahora no se necesita ajustar el peso\n",
    ")\n",
    "\n",
    "xgb_model.fit(X_resampled, y_resampled)\n",
    "\n",
    "# Realizar las predicciones en el conjunto de prueba\n",
    "y_pred = xgb_model.predict(X_test)\n",
    "\n",
    "# Matriz de confusión y reporte de clasificación\n",
    "from sklearn.metrics import confusion_matrix, classification_report\n",
    "\n",
    "print(\"Matriz de confusión:\")\n",
    "print(confusion_matrix(y_test, y_pred))\n",
    "\n",
    "print(\"Informe de clasificación:\")\n",
    "print(classification_report(y_test, y_pred))\n",
    "\n"
   ]
  },
  {
   "cell_type": "markdown",
   "metadata": {
    "id": "bqHKLuNGhcxY"
   },
   "source": [
    "# Conclusión"
   ]
  },
  {
   "cell_type": "markdown",
   "metadata": {
    "id": "Q7RgknixhhKP"
   },
   "source": [
    "El objetivo es detectar la mayor cantidad posible de la clase minoritaria (recall), entonces tanto XGBoost como Random Forest son las mejores opciones. De estos, XGBoost parece ofrecer un buen balance entre recall y f1-score.\n",
    "Se podrían seguir optimizando estos pero la realidad es que debido a la naturaleza del problema y los datos, nunca se obtenga un buen resultado.\n",
    "Hay que aclarar que si bien los factores analizados están relacionados con la aparición de cáncer, hay factores como la genética que no están contemplados aquí y podrían explicar mucho mejor la aparición de cáncer.\n",
    "\n",
    "En resumen posiblemente se podría obtener mejores resultados tratando los datos de otra manera pero difícilmente pueda llegar a un buen resultado de predicción.\n",
    "\n"
   ]
  }
 ],
 "metadata": {
  "colab": {
   "collapsed_sections": [
    "tkKUgwqALl3A",
    "g8DAnrkNL-PI",
    "5pj7gEiQMZuR",
    "ff5sqNk78W1B",
    "duO76fQ5IV3h",
    "Z7ylYlbJ3aK_",
    "Ac6VTq9n3jVm",
    "VVEK1wF06zKC"
   ],
   "provenance": []
  },
  "kernelspec": {
   "display_name": "Python 3 (ipykernel)",
   "language": "python",
   "name": "python3"
  },
  "language_info": {
   "codemirror_mode": {
    "name": "ipython",
    "version": 3
   },
   "file_extension": ".py",
   "mimetype": "text/x-python",
   "name": "python",
   "nbconvert_exporter": "python",
   "pygments_lexer": "ipython3",
   "version": "3.10.9"
  }
 },
 "nbformat": 4,
 "nbformat_minor": 1
}
